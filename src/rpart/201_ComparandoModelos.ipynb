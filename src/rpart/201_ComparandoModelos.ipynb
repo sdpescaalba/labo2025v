{
  "nbformat": 4,
  "nbformat_minor": 0,
  "metadata": {
    "colab": {
      "provenance": [],
      "include_colab_link": true
    },
    "kernelspec": {
      "name": "ir",
      "display_name": "R"
    },
    "language_info": {
      "name": "R"
    }
  },
  "cells": [
    {
      "cell_type": "markdown",
      "metadata": {
        "id": "view-in-github",
        "colab_type": "text"
      },
      "source": [
        "<a href=\"https://colab.research.google.com/github/sdpescaalba/labo2025v/blob/main/src/rpart/201_ComparandoModelos.ipynb\" target=\"_parent\"><img src=\"https://colab.research.google.com/assets/colab-badge.svg\" alt=\"Open In Colab\"/></a>"
      ]
    },
    {
      "cell_type": "markdown",
      "source": [
        "# Comparando Modelos"
      ],
      "metadata": {
        "id": "5DrvzQ9BsXmX"
      }
    },
    {
      "cell_type": "markdown",
      "source": [
        "Estamos en la  Clase 02\n",
        "<br> El objetivo de la materia es lograr la mejor predicción para nuestro probleama, para lo que se probarán pipelines con decenas de alternativas, será indispensable comparar varios modelos predictivos entre sí y decidir cual es el mejor\n",
        "<br> La tarea no es tan sencilla"
      ],
      "metadata": {
        "id": "Y2U9lu16sgta"
      }
    },
    {
      "cell_type": "markdown",
      "source": [
        "## Seteo del ambiente en Google Colab"
      ],
      "metadata": {
        "id": "kmLygy1TYPfg"
      }
    },
    {
      "cell_type": "markdown",
      "source": [
        "Esta parte se debe correr con el runtime en Python3\n",
        "<br>Ir al menu, Runtime -> Change Runtime Tipe -> Runtime type ->  **Python 3**"
      ],
      "metadata": {
        "id": "OikOm5K2YU3X"
      }
    },
    {
      "cell_type": "markdown",
      "source": [
        "Conectar la virtual machine donde esta corriendo Google Colab con el  Google Drive, para poder tener persistencia de archivos"
      ],
      "metadata": {
        "id": "4fmV5LyZdFyI"
      }
    },
    {
      "cell_type": "markdown",
      "source": [
        "Para correr la siguiente celda es fundamental en Arranque en Frio haber copiado el archivo kaggle.json al Google Drive, en la carpeta indicada en el instructivo\n",
        "\n",
        "<br>los siguientes comando estan en shell script de Linux\n",
        "*   Crear las carpetas en el Google Drive\n",
        "*   \"instalar\" el archivo kaggle.json desde el Google Drive a la virtual machine para que pueda ser utilizado por la libreria  kaggle de Python\n",
        "*   Bajar el  **dataset_pequeno**  al  Google Drive  y tambien al disco local de la virtual machine que esta corriendo Google Colab\n",
        "\n"
      ],
      "metadata": {
        "id": "ilaKtqWldeWg"
      }
    },
    {
      "cell_type": "code",
      "source": [
        "# primero establecer el Runtime de Python 3\n",
        "from google.colab import drive\n",
        "drive.mount('/content/.drive')"
      ],
      "metadata": {
        "id": "ilEZ-bE2VybW",
        "outputId": "8a1b5596-168e-448e-8bbd-d97c11af4965",
        "colab": {
          "base_uri": "https://localhost:8080/"
        }
      },
      "execution_count": 1,
      "outputs": [
        {
          "output_type": "stream",
          "name": "stdout",
          "text": [
            "Mounted at /content/.drive\n"
          ]
        }
      ]
    },
    {
      "cell_type": "code",
      "source": [
        "%%shell\n",
        "\n",
        "mkdir -p \"/content/.drive/My Drive/labo1\"\n",
        "mkdir -p \"/content/buckets\"\n",
        "ln -s \"/content/.drive/My Drive/labo1\" /content/buckets/b1\n",
        "\n",
        "mkdir -p ~/.kaggle\n",
        "cp /content/buckets/b1/kaggle/kaggle.json  ~/.kaggle\n",
        "chmod 600 ~/.kaggle/kaggle.json\n",
        "\n",
        "\n",
        "mkdir -p /content/buckets/b1/exp\n",
        "mkdir -p /content/buckets/b1/datasets\n",
        "mkdir -p /content/datasets\n",
        "\n",
        "\n",
        "\n",
        "archivo_origen=\"https://storage.googleapis.com/open-courses/austral2025-af91/dataset_pequeno.csv\"\n",
        "archivo_destino=\"/content/datasets/dataset_pequeno.csv\"\n",
        "archivo_destino_bucket=\"/content/buckets/b1/datasets/dataset_pequeno.csv\"\n",
        "\n",
        "if ! test -f $archivo_destino_bucket; then\n",
        "  wget  $archivo_origen  -O $archivo_destino_bucket\n",
        "fi\n",
        "\n",
        "\n",
        "if ! test -f $archivo_destino; then\n",
        "  cp  $archivo_destino_bucket  $archivo_destino\n",
        "fi\n"
      ],
      "metadata": {
        "id": "W8dQFI5QYCFa",
        "outputId": "1ae400d8-2fa6-48b9-a8c3-fd48e9cfa447",
        "colab": {
          "base_uri": "https://localhost:8080/"
        }
      },
      "execution_count": 2,
      "outputs": [
        {
          "output_type": "stream",
          "name": "stdout",
          "text": [
            "cp: cannot stat '/content/buckets/b1/kaggle/kaggle.json': No such file or directory\n",
            "chmod: cannot access '/root/.kaggle/kaggle.json': No such file or directory\n"
          ]
        },
        {
          "output_type": "execute_result",
          "data": {
            "text/plain": []
          },
          "metadata": {},
          "execution_count": 2
        }
      ]
    },
    {
      "cell_type": "markdown",
      "source": [
        "# 1  Particion Training/Testing\n",
        "## Clase 02  Experimento 1"
      ],
      "metadata": {
        "id": "iV32-NeesVp6"
      }
    },
    {
      "cell_type": "markdown",
      "source": [
        "## 1.1  Objetivos\n",
        "Dado que es el primer experimento de la asignatura, acercar a l@s estudiantes las mejores prácticas de operación del ambiente de Google Cloud, realizando una minuciosa demostración en vivo narrando todas las consideraciones pertinentes para evitar accidentes, daños a terceros y a equipos.\n",
        "Dar soporte en el acto a  l@s estudiantes que necesitan ayuda para terminar de configurar el ambiente Google Cloud .\n",
        "<br>Repaso del concepto de  partición de un dataset al azar, estratificada en la clase\n",
        "<br>Dado que es el primer script que se mostrará en vivo a l@s estudiantes,  realizar una visita guiada del  mismo, su estructura y detalles.\n",
        "<br>Repaso del algoritmo Arbol de Decisión sus hiperparámetros, y la implementación con la librería  rpart.  Funciones  rpart::rpart  y rpart::predict\n",
        "<br>Concepto de replicabilidad de los experimentos mediante las semillas de los generadores de secuencias de números pseudoaleatorios.\n",
        "<br>Finalmente, el principal objetivo de este experimento es lograr que l@s estudiantes dimensionen la enorme variabilidad del error de medición de la ganancia de un árbol de decisión al realizar una partición <training, testing>,  contener la sorpresa de los estudiantes, descartar a la simple particion <training, testing> como método,  y construir en conjunto una solucion natural al problema."
      ],
      "metadata": {
        "id": "84Pnj9gVwpXB"
      }
    },
    {
      "cell_type": "markdown",
      "source": [
        "## 1.2 Introduccion"
      ],
      "metadata": {
        "id": "L9Cn0WThw37Y"
      }
    },
    {
      "cell_type": "markdown",
      "source": [
        "![Particiohn Training/Testing](https://storage.googleapis.com/open-courses/austral2025-af91/labo1r/C2_E1_particion.jpg)"
      ],
      "metadata": {
        "id": "ZELZ0R4itUVG"
      }
    },
    {
      "cell_type": "markdown",
      "source": [
        "![Dos tipos de error](https://storage.googleapis.com/open-courses/austral2025-af91/labo1r/C2_E1_target.jpg)"
      ],
      "metadata": {
        "id": "Wtc1ho58xLk-"
      }
    },
    {
      "cell_type": "markdown",
      "source": [
        "## 1.3  Bibliografía\n",
        "\n",
        "Demšar, J. [Statistical comparisons of classifiers over multiple data sets](https://www.jmlr.org/papers/volume7/demsar06a/demsar06a.pdf) J. Mach. Learn. Res. 7, 1–30 (2006).   \n",
        "Starmer, J. [Machine Learning Fundamentals: Cross Validation](https://www.youtube.com/watch?v=fSytzGwwBVw)Machine Learning Fundamentals: Cross Validation, StatQuest with Josh Starmer youtube channel, (2018)\n",
        "Hastie, T.[The elements of statistical learning: data mining, inference, and prediction](https://hastie.su.domains/Papers/ESLII.pdf) , volume 2. Springer, 2009  ( Chapter 7 Model Assessment and Selection )"
      ],
      "metadata": {
        "id": "oRWtRV34xZRT"
      }
    },
    {
      "cell_type": "markdown",
      "source": [
        "## 1.4 Codigo"
      ],
      "metadata": {
        "id": "VcgTQ2-Pyb8q"
      }
    },
    {
      "cell_type": "markdown",
      "source": [
        "Esta parte se debe correr con el runtime en lenguaje **R** Ir al menu, Runtime -> Change Runtime Tipe -> Runtime type -> R"
      ],
      "metadata": {
        "id": "SBXPU-_tabMb"
      }
    },
    {
      "cell_type": "markdown",
      "source": [
        "limpio el ambiente de R"
      ],
      "metadata": {
        "id": "SE94XRhWsxkX"
      }
    },
    {
      "cell_type": "code",
      "source": [
        "# limpio la memoria\n",
        "rm(list=ls(all.names=TRUE)) # remove all objects\n",
        "gc(full=TRUE, verbose=FALSE) # garbage collection"
      ],
      "metadata": {
        "id": "oZG_4br6szlT",
        "outputId": "08fbc7b4-f01c-4d63-eac5-66d365060c62",
        "colab": {
          "base_uri": "https://localhost:8080/",
          "height": 130
        }
      },
      "execution_count": null,
      "outputs": [
        {
          "output_type": "display_data",
          "data": {
            "text/html": [
              "<table class=\"dataframe\">\n",
              "<caption>A matrix: 2 × 6 of type dbl</caption>\n",
              "<thead>\n",
              "\t<tr><th></th><th scope=col>used</th><th scope=col>(Mb)</th><th scope=col>gc trigger</th><th scope=col>(Mb)</th><th scope=col>max used</th><th scope=col>(Mb)</th></tr>\n",
              "</thead>\n",
              "<tbody>\n",
              "\t<tr><th scope=row>Ncells</th><td> 656590</td><td>35.1</td><td>1454474</td><td>77.7</td><td>1321657</td><td>70.6</td></tr>\n",
              "\t<tr><th scope=row>Vcells</th><td>1219461</td><td> 9.4</td><td>8388608</td><td>64.0</td><td>1975127</td><td>15.1</td></tr>\n",
              "</tbody>\n",
              "</table>\n"
            ],
            "text/markdown": "\nA matrix: 2 × 6 of type dbl\n\n| <!--/--> | used | (Mb) | gc trigger | (Mb) | max used | (Mb) |\n|---|---|---|---|---|---|---|\n| Ncells |  656590 | 35.1 | 1454474 | 77.7 | 1321657 | 70.6 |\n| Vcells | 1219461 |  9.4 | 8388608 | 64.0 | 1975127 | 15.1 |\n\n",
            "text/latex": "A matrix: 2 × 6 of type dbl\n\\begin{tabular}{r|llllll}\n  & used & (Mb) & gc trigger & (Mb) & max used & (Mb)\\\\\n\\hline\n\tNcells &  656590 & 35.1 & 1454474 & 77.7 & 1321657 & 70.6\\\\\n\tVcells & 1219461 &  9.4 & 8388608 & 64.0 & 1975127 & 15.1\\\\\n\\end{tabular}\n",
            "text/plain": [
              "       used    (Mb) gc trigger (Mb) max used (Mb)\n",
              "Ncells  656590 35.1 1454474    77.7 1321657  70.6\n",
              "Vcells 1219461  9.4 8388608    64.0 1975127  15.1"
            ]
          },
          "metadata": {}
        }
      ]
    },
    {
      "cell_type": "code",
      "source": [
        "Sys.time()"
      ],
      "metadata": {
        "id": "pJ8SsVA5ssnf",
        "outputId": "c56d735e-c4bf-455a-f18e-0ff5813e1e31",
        "colab": {
          "base_uri": "https://localhost:8080/",
          "height": 34
        }
      },
      "execution_count": null,
      "outputs": [
        {
          "output_type": "display_data",
          "data": {
            "text/plain": [
              "[1] \"2025-09-30 23:43:20 UTC\""
            ]
          },
          "metadata": {}
        }
      ]
    },
    {
      "cell_type": "markdown",
      "source": [
        "* Instalacion de la libreria  rpart.plot  para dibujar el arbol\n",
        "* invocacion de las librerias  **data.table** y  **rpart**"
      ],
      "metadata": {
        "id": "3BrrQ47PeEb2"
      }
    },
    {
      "cell_type": "code",
      "source": [
        "# cargo las librerias que necesito\n",
        "require(\"data.table\")\n",
        "require(\"rpart\")\n"
      ],
      "metadata": {
        "id": "SxO-0Ql0khn6",
        "outputId": "4766bd5e-aae7-4c17-ed35-b0ab13e8cc98",
        "colab": {
          "base_uri": "https://localhost:8080/"
        }
      },
      "execution_count": null,
      "outputs": [
        {
          "output_type": "stream",
          "name": "stderr",
          "text": [
            "Loading required package: data.table\n",
            "\n",
            "Loading required package: rpart\n",
            "\n"
          ]
        }
      ]
    },
    {
      "cell_type": "markdown",
      "source": [
        "###  Accion a Realizar\n",
        "PARAM$semilla  debe tener su primer semilla aleatoria"
      ],
      "metadata": {
        "id": "ZG9fCnZh3bWV"
      }
    },
    {
      "cell_type": "code",
      "source": [
        "PARAM <- list()\n",
        "PARAM$semilla <- 150001  # aqui debe ir su primer semilla\n",
        "PARAM$training_pct <- 70L  # entre  1L y 99L\n",
        "\n",
        "PARAM$rpart <- list (\n",
        "  \"cp\" = -1, # complejidad minima\n",
        "  \"minsplit\" = 170, # minima cantidad de regs en un nodo para hacer el split\n",
        "  \"minbucket\" = 70, # minima cantidad de regs en una hoja\n",
        "  \"maxdepth\" = 7 # profundidad máxima del arbol\n",
        ")\n"
      ],
      "metadata": {
        "id": "0nx5_OcE3Y9c"
      },
      "execution_count": null,
      "outputs": []
    },
    {
      "cell_type": "code",
      "source": [
        "# particionar agrega una columna llamada fold a un dataset\n",
        "#  que consiste en una particion estratificada segun agrupa\n",
        "\n",
        "# particionar( data=dataset, division=c(70,30),\n",
        "#  agrupa=clase_ternaria, seed=semilla)   crea una particion 70, 30\n",
        "\n",
        "particionar <- function(\n",
        "    data, division, agrupa = \"\",\n",
        "    campo = \"fold\", start = 1, seed = NA) {\n",
        "  if (!is.na(seed)) set.seed(seed)\n",
        "\n",
        "  bloque <- unlist(mapply(function(x, y) {\n",
        "    rep(y, x)\n",
        "  }, division, seq(from = start, length.out = length(division))))\n",
        "\n",
        "  data[, (campo) := sample(rep(bloque, ceiling(.N / length(bloque))))[1:.N],\n",
        "    by = agrupa\n",
        "  ]\n",
        "}\n"
      ],
      "metadata": {
        "id": "8HLE9Dx80gjH"
      },
      "execution_count": null,
      "outputs": []
    },
    {
      "cell_type": "code",
      "source": [
        "# carpeta de trabajo\n",
        "setwd(\"/content/buckets/b1/exp\")\n",
        "experimento <- \"exp201\"\n",
        "dir.create(experimento, showWarnings=FALSE)\n",
        "setwd( paste0(\"/content/buckets/b1/exp/\", experimento ))"
      ],
      "metadata": {
        "id": "sC4_nqcm0nUs"
      },
      "execution_count": null,
      "outputs": []
    },
    {
      "cell_type": "code",
      "source": [
        "# lectura del dataset\n",
        "dataset <- fread(\"/content/datasets/dataset_pequeno.csv\")\n",
        "\n",
        "# trabajo solo con los datos con clase, es decir 202107\n",
        "dataset <- dataset[clase_ternaria != \"\"]"
      ],
      "metadata": {
        "id": "6yIEsZOw07q8"
      },
      "execution_count": null,
      "outputs": []
    },
    {
      "cell_type": "code",
      "source": [
        "# particiono estratificadamente el dataset 70%, 30%\n",
        "particionar(dataset,\n",
        "  division = c(PARAM$training_pct, 100L -PARAM$training_pct),\n",
        "  agrupa = \"clase_ternaria\",\n",
        "  seed = PARAM$semilla # aqui se usa SU semilla\n",
        ")\n",
        "\n"
      ],
      "metadata": {
        "id": "FAO1Hhd52b5d"
      },
      "execution_count": null,
      "outputs": []
    },
    {
      "cell_type": "code",
      "source": [
        "# genero el modelo\n",
        "# quiero predecir clase_ternaria a partir del resto\n",
        "# fold==1  es training,  el 70% de los datos\n",
        "modelo <- rpart(\"clase_ternaria ~ .\",\n",
        "  data = dataset[fold == 1],  # fold==1  es training, el 70% de los datos\n",
        "  xval = 0,\n",
        "  control = PARAM$rpart # aqui van los parametros\n",
        ")\n"
      ],
      "metadata": {
        "id": "s3UnHSLP2gN6"
      },
      "execution_count": null,
      "outputs": []
    },
    {
      "cell_type": "code",
      "source": [
        "# aplico el modelo a los datos de testing\n",
        "prediccion <- predict(modelo, # el modelo que genere recien\n",
        "  dataset[fold == 2], # fold==2  es testing, el 30% de los datos\n",
        "  type = \"prob\"\n",
        ") # type= \"prob\"  es que devuelva la probabilidad\n"
      ],
      "metadata": {
        "id": "paQphV4A2jGz"
      },
      "execution_count": null,
      "outputs": []
    },
    {
      "cell_type": "code",
      "source": [
        "tb_prediccion <- as.data.table(list(\n",
        "  \"clase_ternaria\"=dataset[fold == 2, clase_ternaria],\n",
        "  \"prob\"=prediccion[, \"BAJA+2\"]\n",
        "))"
      ],
      "metadata": {
        "id": "fuLZ75pA29dT"
      },
      "execution_count": null,
      "outputs": []
    },
    {
      "cell_type": "code",
      "source": [
        "# calculo la ganancia de cada registro\n",
        "tb_prediccion[, ganancia := ifelse(clase_ternaria == \"BAJA+2\", 117000, -3000)]"
      ],
      "metadata": {
        "id": "LuG6ql_t3kOI"
      },
      "execution_count": null,
      "outputs": []
    },
    {
      "cell_type": "code",
      "source": [
        "# calculo la clase\n",
        "tb_prediccion[, Predicted := prob > (1/40) ]"
      ],
      "metadata": {
        "id": "xJ3WTMez3leO"
      },
      "execution_count": null,
      "outputs": []
    },
    {
      "cell_type": "code",
      "source": [
        "ganancia_test <-  tb_prediccion[ Predicted==TRUE,  sum(ganancia)]"
      ],
      "metadata": {
        "id": "cFQPacen4Wq6"
      },
      "execution_count": null,
      "outputs": []
    },
    {
      "cell_type": "code",
      "source": [
        "# normalizo la ganancia\n",
        "ganancia_test_normalizada <- ganancia_test / (( 100 - PARAM$training_pct ) / 100 )"
      ],
      "metadata": {
        "id": "dHjz0zhN4-nZ"
      },
      "execution_count": null,
      "outputs": []
    },
    {
      "cell_type": "code",
      "source": [
        "estimulos <- tb_prediccion[ Predicted==TRUE, .N]\n",
        "aciertos <- tb_prediccion[ Predicted & clase_ternaria == \"BAJA+2\", .N]\n"
      ],
      "metadata": {
        "id": "D7RUdTb95F6B"
      },
      "execution_count": null,
      "outputs": []
    },
    {
      "cell_type": "code",
      "source": [
        "# Resultado Final\n",
        "cat(\"Testing total: \", dataset[fold == 2, .N], \"\\n\")\n",
        "cat(\"Testing BAJA+2: \", dataset[fold == 2 & clase_ternaria == \"BAJA+2\", .N], \"\\n\")\n",
        "\n",
        "cat(\"Estimulos: \", estimulos, \"\\n\")\n",
        "cat(\"Aciertos (BAJA+2): \", aciertos, \"\\n\")\n",
        "\n",
        "cat(\"Ganancia en testing (normalizada): \", ganancia_test_normalizada, \"\\n\")\n"
      ],
      "metadata": {
        "id": "Lu1KM6fy5U7h",
        "outputId": "40455807-b02f-4724-f853-89c301b1a8e8",
        "colab": {
          "base_uri": "https://localhost:8080/"
        }
      },
      "execution_count": null,
      "outputs": [
        {
          "output_type": "stream",
          "name": "stdout",
          "text": [
            "Testing total:  49373 \n",
            "Testing BAJA+2:  373 \n",
            "Estimulos:  3350 \n",
            "Aciertos (BAJA+2):  206 \n",
            "Ganancia en testing (normalizada):  48900000 \n"
          ]
        }
      ]
    },
    {
      "cell_type": "markdown",
      "source": [
        "### Acciones a realizar\n",
        "* Reportar la  *Ganancia en testing (normalizada)* <br> en la planilla colaborativa hoja  **C2-1sem**\n",
        "* Se discutirá en clase la variabilidad de las ganancias obtenidas de distintos alumnos"
      ],
      "metadata": {
        "id": "kHs-YoFB5rUa"
      }
    },
    {
      "cell_type": "markdown",
      "source": [
        "\n",
        "\n",
        "---\n",
        "\n"
      ],
      "metadata": {
        "id": "LBl_eIeO7WuM"
      }
    },
    {
      "cell_type": "markdown",
      "source": [
        "# 2  Medición Monte Carlo Cross Validation\n",
        "## Clase 02  Experimento 2"
      ],
      "metadata": {
        "id": "h43UCq9y7UlT"
      }
    },
    {
      "cell_type": "markdown",
      "source": [
        "## 2.1  Objetivos\n",
        "Mostrar el funcionamiento de la Montecarlo Cross Validation y que l@s estudiantes aprecien la disminución de la varianza de dicha metodología.\n",
        "Relación con el Teorema Central del Límite"
      ],
      "metadata": {
        "id": "wHPchGXK80VU"
      }
    },
    {
      "cell_type": "markdown",
      "source": [
        "## 2.2 Introduccion\n",
        "\n",
        "![Montecarlo](https://storage.googleapis.com/open-courses/austral2025-af91/labo1r/C2_E2_montecarlo.jpg)\n",
        "\n",
        "![Curva normal](https://storage.googleapis.com/open-courses/austral2025-af91/labo1r/C2_E2_normal.jpg)\n",
        "\n",
        "![Teorema Central del Limite](https://storage.googleapis.com/open-courses/austral2025-af91/labo1r/C2_E2_teoremacentralLimite.jpg)\n",
        "\n"
      ],
      "metadata": {
        "id": "g6YzACxl9DzS"
      }
    },
    {
      "cell_type": "markdown",
      "source": [],
      "metadata": {
        "id": "7laod2t4ArsH"
      }
    },
    {
      "cell_type": "markdown",
      "source": [
        "## 2.3  Bibliografía\n",
        "\n",
        "Demšar, J. [Statistical comparisons of classifiers over multiple data sets](https://www.jmlr.org/papers/volume7/demsar06a/demsar06a.pdf) J. Mach. Learn. Res. 7, 1–30 (2006).   \n",
        "Starmer, J. [Machine Learning Fundamentals: Cross Validation](https://www.youtube.com/watch?v=fSytzGwwBVw)Machine Learning Fundamentals: Cross Validation, StatQuest with Josh Starmer youtube channel, (2018)\n",
        "Hastie, T.[The elements of statistical learning: data mining, inference, and prediction](https://hastie.su.domains/Papers/ESLII.pdf) , volume 2. Springer, 2009  ( Chapter 7 Model Assessment and Selection )"
      ],
      "metadata": {
        "id": "lFcJeRAkAr-q"
      }
    },
    {
      "cell_type": "code",
      "source": [],
      "metadata": {
        "id": "KXSuYXQ26cLV"
      },
      "execution_count": null,
      "outputs": []
    },
    {
      "cell_type": "markdown",
      "source": [
        "## 2.4 Codigo  Montecarlo"
      ],
      "metadata": {
        "id": "0ztZzYolA2WK"
      }
    },
    {
      "cell_type": "markdown",
      "source": [
        "El código de la Montecarlo Cross Validation es notablemente más complejo que el anterior de una simple partición training/testing\n",
        "<br> Se crea la funcion ArbolEstimarGanancia()  que dada una semilla realiza la partición  training/testing, entrena en training, aplica el modelo a testing, y se calculan las ganancias\n",
        "<br> Se utiliza la funcion **mcmapply**  de R para aplicar ArbolEstimarGanancia a todos los elementos del vector de semillas"
      ],
      "metadata": {
        "id": "KLa06ZsiC-Oz"
      }
    },
    {
      "cell_type": "markdown",
      "source": [
        "Esta parte se debe correr con el runtime en lenguaje **R** Ir al menu, Runtime -> Change Runtime Tipe -> Runtime type -> R"
      ],
      "metadata": {
        "id": "ivFiBBOQA2Ws"
      }
    },
    {
      "cell_type": "markdown",
      "source": [
        "limpio el ambiente de R"
      ],
      "metadata": {
        "id": "TMSAQDXuA2Ws"
      }
    },
    {
      "cell_type": "code",
      "source": [
        "# limpio la memoria\n",
        "rm(list=ls(all.names=TRUE)) # remove all objects\n",
        "gc(full=TRUE, verbose=FALSE) # garbage collection"
      ],
      "metadata": {
        "id": "eakzb8y2A2Wt",
        "outputId": "10a13a0e-d665-4981-e945-47caf8440827",
        "colab": {
          "base_uri": "https://localhost:8080/",
          "height": 130
        }
      },
      "execution_count": null,
      "outputs": [
        {
          "output_type": "display_data",
          "data": {
            "text/html": [
              "<table class=\"dataframe\">\n",
              "<caption>A matrix: 2 × 6 of type dbl</caption>\n",
              "<thead>\n",
              "\t<tr><th></th><th scope=col>used</th><th scope=col>(Mb)</th><th scope=col>gc trigger</th><th scope=col>(Mb)</th><th scope=col>max used</th><th scope=col>(Mb)</th></tr>\n",
              "</thead>\n",
              "<tbody>\n",
              "\t<tr><th scope=row>Ncells</th><td> 744303</td><td>39.8</td><td> 1454474</td><td> 77.7</td><td>  1454474</td><td> 77.7</td></tr>\n",
              "\t<tr><th scope=row>Vcells</th><td>1411564</td><td>10.8</td><td>84906080</td><td>647.8</td><td>104047130</td><td>793.9</td></tr>\n",
              "</tbody>\n",
              "</table>\n"
            ],
            "text/markdown": "\nA matrix: 2 × 6 of type dbl\n\n| <!--/--> | used | (Mb) | gc trigger | (Mb) | max used | (Mb) |\n|---|---|---|---|---|---|---|\n| Ncells |  744303 | 39.8 |  1454474 |  77.7 |   1454474 |  77.7 |\n| Vcells | 1411564 | 10.8 | 84906080 | 647.8 | 104047130 | 793.9 |\n\n",
            "text/latex": "A matrix: 2 × 6 of type dbl\n\\begin{tabular}{r|llllll}\n  & used & (Mb) & gc trigger & (Mb) & max used & (Mb)\\\\\n\\hline\n\tNcells &  744303 & 39.8 &  1454474 &  77.7 &   1454474 &  77.7\\\\\n\tVcells & 1411564 & 10.8 & 84906080 & 647.8 & 104047130 & 793.9\\\\\n\\end{tabular}\n",
            "text/plain": [
              "       used    (Mb) gc trigger (Mb)  max used  (Mb) \n",
              "Ncells  744303 39.8  1454474    77.7   1454474  77.7\n",
              "Vcells 1411564 10.8 84906080   647.8 104047130 793.9"
            ]
          },
          "metadata": {}
        }
      ]
    },
    {
      "cell_type": "markdown",
      "source": [
        "* Instalacion de la libreria  rpart.plot  para dibujar el arbol\n",
        "* invocacion de las librerias  **data.table** y  **rpart**"
      ],
      "metadata": {
        "id": "559RkeYZA2Wv"
      }
    },
    {
      "cell_type": "code",
      "source": [
        "# cargo las librerias que necesito\n",
        "require(\"data.table\")\n",
        "require(\"rpart\")\n",
        "require(\"parallel\")"
      ],
      "metadata": {
        "id": "yf_S_HlsA2Wv",
        "outputId": "adbfb4a6-c943-4438-b6c9-08e871967042",
        "colab": {
          "base_uri": "https://localhost:8080/"
        }
      },
      "execution_count": null,
      "outputs": [
        {
          "output_type": "stream",
          "name": "stderr",
          "text": [
            "Loading required package: parallel\n",
            "\n"
          ]
        }
      ]
    },
    {
      "cell_type": "markdown",
      "source": [
        "###  Accion a Realizar\n",
        "PARAM$semillas  debe tener sus cinco semillas aleatorias"
      ],
      "metadata": {
        "id": "a4oz2ulCA2Ww"
      }
    },
    {
      "cell_type": "code",
      "source": [
        "PARAM <- list()\n",
        "PARAM$semillas <- c(150001, 333019, 518017, 772001, 900001)  # aqui debe ir sus CINCO\n",
        "PARAM$training_pct <- 70L  # entre  1L y 99L\n",
        "\n",
        "PARAM$rpart <- list (\n",
        "  \"cp\" = -1, # complejidad minima\n",
        "  \"minsplit\" = 170, # minima cantidad de regs en un nodo para hacer el split\n",
        "  \"minbucket\" = 70, # minima cantidad de regs en una hoja\n",
        "  \"maxdepth\" = 7 # profundidad máxima del arbol\n",
        ")\n"
      ],
      "metadata": {
        "id": "yQ2OAP5AA2Wx"
      },
      "execution_count": null,
      "outputs": []
    },
    {
      "cell_type": "code",
      "source": [
        "# particionar agrega una columna llamada fold a un dataset\n",
        "#  que consiste en una particion estratificada segun agrupa\n",
        "\n",
        "# particionar( data=dataset, division=c(70,30),\n",
        "#  agrupa=clase_ternaria, seed=semilla)   crea una particion 70, 30\n",
        "\n",
        "particionar <- function(\n",
        "    data, division, agrupa = \"\",\n",
        "    campo = \"fold\", start = 1, seed = NA) {\n",
        "  if (!is.na(seed)) set.seed(seed)\n",
        "\n",
        "  bloque <- unlist(mapply(function(x, y) {\n",
        "    rep(y, x)\n",
        "  }, division, seq(from = start, length.out = length(division))))\n",
        "\n",
        "  data[, (campo) := sample(rep(bloque, ceiling(.N / length(bloque))))[1:.N],\n",
        "    by = agrupa\n",
        "  ]\n",
        "}\n"
      ],
      "metadata": {
        "id": "97dMCVJWA2Wy"
      },
      "execution_count": null,
      "outputs": []
    },
    {
      "cell_type": "code",
      "source": [
        "\n",
        "ArbolEstimarGanancia <- function(semilla, param_basicos) {\n",
        "  # particiono estratificadamente el dataset\n",
        "  particionar(dataset,\n",
        "    division = c(param_basicos$training_pct, 100L -param_basicos$training_pct),\n",
        "    agrupa = \"clase_ternaria\",\n",
        "    seed = semilla # aqui se usa SU semilla\n",
        "  )\n",
        "\n",
        "  # genero el modelo\n",
        "  # predecir clase_ternaria a partir del resto\n",
        "  modelo <- rpart(\"clase_ternaria ~ .\",\n",
        "    data = dataset[fold == 1], # fold==1  es training,  el 70% de los datos\n",
        "    xval = 0,\n",
        "    control = param_basicos$rpart\n",
        "  ) # aqui van los parametros del arbol\n",
        "\n",
        "  # aplico el modelo a los datos de testing\n",
        "  prediccion <- predict(modelo, # el modelo que genere recien\n",
        "    dataset[fold == 2], # fold==2  es testing, el 30% de los datos\n",
        "    type = \"prob\"\n",
        "  ) # type= \"prob\"  es que devuelva la probabilidad\n",
        "\n",
        "  # prediccion es una matriz con TRES columnas,\n",
        "  #  llamadas \"BAJA+1\", \"BAJA+2\"  y \"CONTINUA\"\n",
        "  # cada columna es el vector de probabilidades\n",
        "\n",
        "\n",
        "  # calculo la ganancia en testing  qu es fold==2\n",
        "  ganancia_test <- dataset[\n",
        "    fold == 2,\n",
        "    sum(ifelse(prediccion[, \"BAJA+2\"] > 0.025,\n",
        "      ifelse(clase_ternaria == \"BAJA+2\", 117000, -3000),\n",
        "      0\n",
        "    ))\n",
        "  ]\n",
        "\n",
        "  # escalo la ganancia como si fuera todo el dataset\n",
        "  ganancia_test_normalizada <- ganancia_test / (( 100 - PARAM$training_pct ) / 100 )\n",
        "\n",
        "  return(list(\n",
        "    \"semilla\" = semilla,\n",
        "    \"testing\" = dataset[fold == 2, .N],\n",
        "    \"testing_pos\" = dataset[fold == 2 & clase_ternaria == \"BAJA+2\", .N],\n",
        "    \"envios\" = dataset[fold == 2, sum(prediccion[, \"BAJA+2\"] > 0.025)],\n",
        "    \"aciertos\" = dataset[\n",
        "        fold == 2,\n",
        "        sum(prediccion[, \"BAJA+2\"] > 0.025 & clase_ternaria == \"BAJA+2\")\n",
        "    ],\n",
        "    \"ganancia_test\" = ganancia_test_normalizada\n",
        "  ))\n",
        "}\n"
      ],
      "metadata": {
        "id": "GroZSZoVBuZ5"
      },
      "execution_count": null,
      "outputs": []
    },
    {
      "cell_type": "code",
      "source": [
        "# carpeta de trabajo\n",
        "setwd(\"/content/buckets/b1/exp\")\n",
        "experimento <- \"exp202\"\n",
        "dir.create(experimento, showWarnings=FALSE)\n",
        "setwd( paste0(\"/content/buckets/b1/exp/\", experimento ))"
      ],
      "metadata": {
        "id": "dJIBIX6kA2Wy"
      },
      "execution_count": null,
      "outputs": []
    },
    {
      "cell_type": "code",
      "source": [
        "# lectura del dataset\n",
        "dataset <- fread(\"/content/datasets/dataset_pequeno.csv\")\n",
        "\n",
        "# trabajo solo con los datos con clase, es decir 202107\n",
        "dataset <- dataset[clase_ternaria != \"\"]"
      ],
      "metadata": {
        "id": "tKiACdU2A2Wz"
      },
      "execution_count": null,
      "outputs": []
    },
    {
      "cell_type": "code",
      "source": [
        "\n",
        "# la funcion mcmapply  llama a la funcion ArbolEstimarGanancia\n",
        "#  tantas veces como valores tenga el vector  PARAM$semillas\n",
        "salidas <- mcmapply(ArbolEstimarGanancia,\n",
        "  PARAM$semillas, # paso el vector de semillas\n",
        "  MoreArgs = list(PARAM), # aqui paso el segundo parametro\n",
        "  SIMPLIFY = FALSE,\n",
        "  mc.cores = detectCores()\n",
        ")\n",
        "\n",
        "# muestro la lista de las salidas en testing\n",
        "#  para la particion realizada con cada semilla\n",
        "salidas\n"
      ],
      "metadata": {
        "id": "64OdfeyxCMDF",
        "outputId": "b67d9f17-e2ec-4f71-95c1-fab966d6aa68",
        "colab": {
          "base_uri": "https://localhost:8080/",
          "height": 1000
        }
      },
      "execution_count": null,
      "outputs": [
        {
          "output_type": "display_data",
          "data": {
            "text/html": [
              "<ol>\n",
              "\t<li><dl>\n",
              "\t<dt>$semilla</dt>\n",
              "\t\t<dd>150001</dd>\n",
              "\t<dt>$testing</dt>\n",
              "\t\t<dd>49373</dd>\n",
              "\t<dt>$testing_pos</dt>\n",
              "\t\t<dd>373</dd>\n",
              "\t<dt>$envios</dt>\n",
              "\t\t<dd>3350</dd>\n",
              "\t<dt>$aciertos</dt>\n",
              "\t\t<dd>206</dd>\n",
              "\t<dt>$ganancia_test</dt>\n",
              "\t\t<dd>48900000</dd>\n",
              "</dl>\n",
              "</li>\n",
              "\t<li><dl>\n",
              "\t<dt>$semilla</dt>\n",
              "\t\t<dd>333019</dd>\n",
              "\t<dt>$testing</dt>\n",
              "\t\t<dd>49376</dd>\n",
              "\t<dt>$testing_pos</dt>\n",
              "\t\t<dd>377</dd>\n",
              "\t<dt>$envios</dt>\n",
              "\t\t<dd>3635</dd>\n",
              "\t<dt>$aciertos</dt>\n",
              "\t\t<dd>216</dd>\n",
              "\t<dt>$ganancia_test</dt>\n",
              "\t\t<dd>50050000</dd>\n",
              "</dl>\n",
              "</li>\n",
              "\t<li><dl>\n",
              "\t<dt>$semilla</dt>\n",
              "\t\t<dd>518017</dd>\n",
              "\t<dt>$testing</dt>\n",
              "\t\t<dd>49379</dd>\n",
              "\t<dt>$testing_pos</dt>\n",
              "\t\t<dd>374</dd>\n",
              "\t<dt>$envios</dt>\n",
              "\t\t<dd>3901</dd>\n",
              "\t<dt>$aciertos</dt>\n",
              "\t\t<dd>225</dd>\n",
              "\t<dt>$ganancia_test</dt>\n",
              "\t\t<dd>50990000</dd>\n",
              "</dl>\n",
              "</li>\n",
              "\t<li><dl>\n",
              "\t<dt>$semilla</dt>\n",
              "\t\t<dd>772001</dd>\n",
              "\t<dt>$testing</dt>\n",
              "\t\t<dd>49365</dd>\n",
              "\t<dt>$testing_pos</dt>\n",
              "\t\t<dd>378</dd>\n",
              "\t<dt>$envios</dt>\n",
              "\t\t<dd>3175</dd>\n",
              "\t<dt>$aciertos</dt>\n",
              "\t\t<dd>211</dd>\n",
              "\t<dt>$ganancia_test</dt>\n",
              "\t\t<dd>52650000</dd>\n",
              "</dl>\n",
              "</li>\n",
              "\t<li><dl>\n",
              "\t<dt>$semilla</dt>\n",
              "\t\t<dd>900001</dd>\n",
              "\t<dt>$testing</dt>\n",
              "\t\t<dd>49377</dd>\n",
              "\t<dt>$testing_pos</dt>\n",
              "\t\t<dd>372</dd>\n",
              "\t<dt>$envios</dt>\n",
              "\t\t<dd>2855</dd>\n",
              "\t<dt>$aciertos</dt>\n",
              "\t\t<dd>179</dd>\n",
              "\t<dt>$ganancia_test</dt>\n",
              "\t\t<dd>43050000</dd>\n",
              "</dl>\n",
              "</li>\n",
              "</ol>\n"
            ],
            "text/markdown": "1. $semilla\n:   150001\n$testing\n:   49373\n$testing_pos\n:   373\n$envios\n:   3350\n$aciertos\n:   206\n$ganancia_test\n:   48900000\n\n\n\n2. $semilla\n:   333019\n$testing\n:   49376\n$testing_pos\n:   377\n$envios\n:   3635\n$aciertos\n:   216\n$ganancia_test\n:   50050000\n\n\n\n3. $semilla\n:   518017\n$testing\n:   49379\n$testing_pos\n:   374\n$envios\n:   3901\n$aciertos\n:   225\n$ganancia_test\n:   50990000\n\n\n\n4. $semilla\n:   772001\n$testing\n:   49365\n$testing_pos\n:   378\n$envios\n:   3175\n$aciertos\n:   211\n$ganancia_test\n:   52650000\n\n\n\n5. $semilla\n:   900001\n$testing\n:   49377\n$testing_pos\n:   372\n$envios\n:   2855\n$aciertos\n:   179\n$ganancia_test\n:   43050000\n\n\n\n\n\n",
            "text/latex": "\\begin{enumerate}\n\\item \\begin{description}\n\\item[\\$semilla] 150001\n\\item[\\$testing] 49373\n\\item[\\$testing\\_pos] 373\n\\item[\\$envios] 3350\n\\item[\\$aciertos] 206\n\\item[\\$ganancia\\_test] 48900000\n\\end{description}\n\n\\item \\begin{description}\n\\item[\\$semilla] 333019\n\\item[\\$testing] 49376\n\\item[\\$testing\\_pos] 377\n\\item[\\$envios] 3635\n\\item[\\$aciertos] 216\n\\item[\\$ganancia\\_test] 50050000\n\\end{description}\n\n\\item \\begin{description}\n\\item[\\$semilla] 518017\n\\item[\\$testing] 49379\n\\item[\\$testing\\_pos] 374\n\\item[\\$envios] 3901\n\\item[\\$aciertos] 225\n\\item[\\$ganancia\\_test] 50990000\n\\end{description}\n\n\\item \\begin{description}\n\\item[\\$semilla] 772001\n\\item[\\$testing] 49365\n\\item[\\$testing\\_pos] 378\n\\item[\\$envios] 3175\n\\item[\\$aciertos] 211\n\\item[\\$ganancia\\_test] 52650000\n\\end{description}\n\n\\item \\begin{description}\n\\item[\\$semilla] 900001\n\\item[\\$testing] 49377\n\\item[\\$testing\\_pos] 372\n\\item[\\$envios] 2855\n\\item[\\$aciertos] 179\n\\item[\\$ganancia\\_test] 43050000\n\\end{description}\n\n\\end{enumerate}\n",
            "text/plain": [
              "[[1]]\n",
              "[[1]]$semilla\n",
              "[1] 150001\n",
              "\n",
              "[[1]]$testing\n",
              "[1] 49373\n",
              "\n",
              "[[1]]$testing_pos\n",
              "[1] 373\n",
              "\n",
              "[[1]]$envios\n",
              "[1] 3350\n",
              "\n",
              "[[1]]$aciertos\n",
              "[1] 206\n",
              "\n",
              "[[1]]$ganancia_test\n",
              "[1] 48900000\n",
              "\n",
              "\n",
              "[[2]]\n",
              "[[2]]$semilla\n",
              "[1] 333019\n",
              "\n",
              "[[2]]$testing\n",
              "[1] 49376\n",
              "\n",
              "[[2]]$testing_pos\n",
              "[1] 377\n",
              "\n",
              "[[2]]$envios\n",
              "[1] 3635\n",
              "\n",
              "[[2]]$aciertos\n",
              "[1] 216\n",
              "\n",
              "[[2]]$ganancia_test\n",
              "[1] 50050000\n",
              "\n",
              "\n",
              "[[3]]\n",
              "[[3]]$semilla\n",
              "[1] 518017\n",
              "\n",
              "[[3]]$testing\n",
              "[1] 49379\n",
              "\n",
              "[[3]]$testing_pos\n",
              "[1] 374\n",
              "\n",
              "[[3]]$envios\n",
              "[1] 3901\n",
              "\n",
              "[[3]]$aciertos\n",
              "[1] 225\n",
              "\n",
              "[[3]]$ganancia_test\n",
              "[1] 50990000\n",
              "\n",
              "\n",
              "[[4]]\n",
              "[[4]]$semilla\n",
              "[1] 772001\n",
              "\n",
              "[[4]]$testing\n",
              "[1] 49365\n",
              "\n",
              "[[4]]$testing_pos\n",
              "[1] 378\n",
              "\n",
              "[[4]]$envios\n",
              "[1] 3175\n",
              "\n",
              "[[4]]$aciertos\n",
              "[1] 211\n",
              "\n",
              "[[4]]$ganancia_test\n",
              "[1] 52650000\n",
              "\n",
              "\n",
              "[[5]]\n",
              "[[5]]$semilla\n",
              "[1] 900001\n",
              "\n",
              "[[5]]$testing\n",
              "[1] 49377\n",
              "\n",
              "[[5]]$testing_pos\n",
              "[1] 372\n",
              "\n",
              "[[5]]$envios\n",
              "[1] 2855\n",
              "\n",
              "[[5]]$aciertos\n",
              "[1] 179\n",
              "\n",
              "[[5]]$ganancia_test\n",
              "[1] 43050000\n",
              "\n"
            ]
          },
          "metadata": {}
        }
      ]
    },
    {
      "cell_type": "code",
      "source": [
        "# paso la lista a vector\n",
        "tb_salida <- rbindlist(salidas)\n",
        "print( tb_salida)"
      ],
      "metadata": {
        "id": "tML9VmH2ECFK",
        "outputId": "b9d45c16-4a8d-47cd-fe55-ddf23aca578a",
        "colab": {
          "base_uri": "https://localhost:8080/"
        }
      },
      "execution_count": null,
      "outputs": [
        {
          "output_type": "stream",
          "name": "stdout",
          "text": [
            "   semilla testing testing_pos envios aciertos ganancia_test\n",
            "     <num>   <int>       <int>  <int>    <int>         <num>\n",
            "1:  150001   49373         373   3350      206      48900000\n",
            "2:  333019   49376         377   3635      216      50050000\n",
            "3:  518017   49379         374   3901      225      50990000\n",
            "4:  772001   49365         378   3175      211      52650000\n",
            "5:  900001   49377         372   2855      179      43050000\n"
          ]
        }
      ]
    },
    {
      "cell_type": "code",
      "source": [
        "# finalmente calculo la media (promedio)  de las ganancias\n",
        "cat( \"ganancia promedio: \", tb_salida[, mean(ganancia_test)], \"\\n\" )"
      ],
      "metadata": {
        "id": "rbHXPfoVENQB",
        "outputId": "3b8d74f6-77e0-4387-8a69-e623aea0ddaa",
        "colab": {
          "base_uri": "https://localhost:8080/"
        }
      },
      "execution_count": null,
      "outputs": [
        {
          "output_type": "stream",
          "name": "stdout",
          "text": [
            "ganancia promedio:  49128000 \n"
          ]
        }
      ]
    },
    {
      "cell_type": "markdown",
      "source": [
        "### Acciones a realizar\n",
        "* Reportar la  *Ganancia Promedio* <br> en la planilla colaborativa hoja  **C2-5sem**\n",
        "* Se discutirá en clase la variabilidad de estos \"ganancia promedio de cinco semillas\""
      ],
      "metadata": {
        "id": "_3xVH6UKA2W6"
      }
    },
    {
      "cell_type": "markdown",
      "source": [
        "\n",
        "\n",
        "---\n",
        "\n"
      ],
      "metadata": {
        "id": "N29m1XGpA2W7"
      }
    },
    {
      "cell_type": "markdown",
      "source": [
        "# 3  Generando n semillas en forma automatica\n",
        "## Clase 02  Experimento 3"
      ],
      "metadata": {
        "id": "zS7WIJciFGc6"
      }
    },
    {
      "cell_type": "markdown",
      "source": [
        "## 3.1  Objetivos\n",
        "Mostrar la creación de nuevas semillas a partir de la librería Primes"
      ],
      "metadata": {
        "id": "VmiFDDDJFUEo"
      }
    },
    {
      "cell_type": "markdown",
      "source": [
        "3.2  Código\n",
        "\n",
        "Como generar muchas semillas a partir de una"
      ],
      "metadata": {
        "id": "Ehe3VfdfFbvg"
      }
    },
    {
      "cell_type": "code",
      "source": [
        "# instalo y cargo la libreria  primes\n",
        "if (!require(\"primes\")) install.packages(\"primes\")\n",
        "require(\"primes\")"
      ],
      "metadata": {
        "id": "X6_dE42yF2-t",
        "outputId": "5d2eb568-88ac-4286-b682-5cf429a2053a",
        "colab": {
          "base_uri": "https://localhost:8080/"
        }
      },
      "execution_count": null,
      "outputs": [
        {
          "output_type": "stream",
          "name": "stderr",
          "text": [
            "Loading required package: primes\n",
            "\n",
            "Warning message in library(package, lib.loc = lib.loc, character.only = TRUE, logical.return = TRUE, :\n",
            "“there is no package called ‘primes’”\n",
            "Installing package into ‘/usr/local/lib/R/site-library’\n",
            "(as ‘lib’ is unspecified)\n",
            "\n",
            "Loading required package: primes\n",
            "\n"
          ]
        }
      ]
    },
    {
      "cell_type": "code",
      "source": [
        "# genero numeros primos\n",
        "primos <- generate_primes(min = 100000, max = 1000000)\n",
        "\n",
        "\n",
        "set.seed(102191) # inicializo con mi primer semilla\n",
        "\n",
        "# me quedo con por ejemplo 20 primos al azar\n",
        "semillas <- sample(primos, 20 )\n",
        "\n",
        "print( semillas )"
      ],
      "metadata": {
        "id": "yDU9RyV4FNhZ",
        "outputId": "9dc839df-7992-4193-b602-21b45c6efa04",
        "colab": {
          "base_uri": "https://localhost:8080/"
        }
      },
      "execution_count": null,
      "outputs": [
        {
          "output_type": "stream",
          "name": "stdout",
          "text": [
            " [1] 378821 964333 187049 205151 813697 344719 127217 464371 645137 480803\n",
            "[11] 723319 314641 791599 937577 685649 619363 390539 465887 619657 195737\n"
          ]
        }
      ]
    },
    {
      "cell_type": "markdown",
      "source": [
        "\n",
        "\n",
        "---\n",
        "\n"
      ],
      "metadata": {
        "id": "eD_cO5VTGGea"
      }
    },
    {
      "cell_type": "code",
      "source": [],
      "metadata": {
        "id": "k-rgoA2ZFll4"
      },
      "execution_count": null,
      "outputs": []
    },
    {
      "cell_type": "markdown",
      "source": [
        "# 4  Medición  50-Monte Carlo Cross Validation\n",
        "## Clase 02  Experimento 4"
      ],
      "metadata": {
        "id": "cZi29THsGil_"
      }
    },
    {
      "cell_type": "markdown",
      "source": [
        "## 4.1  Objetivos\n",
        "Calcular la ganancia del modelo utilizando 50 semillas nuevas generadas a partir de mi semilla primigenia."
      ],
      "metadata": {
        "id": "qFNq6ntVGimN"
      }
    },
    {
      "cell_type": "markdown",
      "source": [
        "## 4.4 Codigo  50 Montecarlo"
      ],
      "metadata": {
        "id": "B6KtuhQCGimP"
      }
    },
    {
      "cell_type": "markdown",
      "source": [
        "Esta parte se debe correr con el runtime en lenguaje **R** Ir al menu, Runtime -> Change Runtime Tipe -> Runtime type -> R"
      ],
      "metadata": {
        "id": "LgGgjPQuGimP"
      }
    },
    {
      "cell_type": "markdown",
      "source": [
        "Este punto demora en correr 60 minutos en Google Colab, con lo cual para continuar con el punto siguiente deberá abrir un nuevo Colab"
      ],
      "metadata": {
        "id": "E82ChuO25OYx"
      }
    },
    {
      "cell_type": "markdown",
      "source": [
        "limpio el ambiente de R"
      ],
      "metadata": {
        "id": "a6AxqLwOGimQ"
      }
    },
    {
      "cell_type": "code",
      "source": [
        "# limpio la memoria\n",
        "rm(list=ls(all.names=TRUE)) # remove all objects\n",
        "gc(full=TRUE, verbose=FALSE) # garbage collection"
      ],
      "metadata": {
        "id": "797Ad0_QGimQ",
        "outputId": "d87c994d-1836-45b5-f14c-756f5955f8f1",
        "colab": {
          "base_uri": "https://localhost:8080/",
          "height": 130
        }
      },
      "execution_count": null,
      "outputs": [
        {
          "output_type": "display_data",
          "data": {
            "text/html": [
              "<table class=\"dataframe\">\n",
              "<caption>A matrix: 2 × 6 of type dbl</caption>\n",
              "<thead>\n",
              "\t<tr><th></th><th scope=col>used</th><th scope=col>(Mb)</th><th scope=col>gc trigger</th><th scope=col>(Mb)</th><th scope=col>max used</th><th scope=col>(Mb)</th></tr>\n",
              "</thead>\n",
              "<tbody>\n",
              "\t<tr><th scope=row>Ncells</th><td> 831153</td><td>44.4</td><td> 1454475</td><td> 77.7</td><td>  1454475</td><td> 77.7</td></tr>\n",
              "\t<tr><th scope=row>Vcells</th><td>1566299</td><td>12.0</td><td>67924864</td><td>518.3</td><td>104047130</td><td>793.9</td></tr>\n",
              "</tbody>\n",
              "</table>\n"
            ],
            "text/markdown": "\nA matrix: 2 × 6 of type dbl\n\n| <!--/--> | used | (Mb) | gc trigger | (Mb) | max used | (Mb) |\n|---|---|---|---|---|---|---|\n| Ncells |  831153 | 44.4 |  1454475 |  77.7 |   1454475 |  77.7 |\n| Vcells | 1566299 | 12.0 | 67924864 | 518.3 | 104047130 | 793.9 |\n\n",
            "text/latex": "A matrix: 2 × 6 of type dbl\n\\begin{tabular}{r|llllll}\n  & used & (Mb) & gc trigger & (Mb) & max used & (Mb)\\\\\n\\hline\n\tNcells &  831153 & 44.4 &  1454475 &  77.7 &   1454475 &  77.7\\\\\n\tVcells & 1566299 & 12.0 & 67924864 & 518.3 & 104047130 & 793.9\\\\\n\\end{tabular}\n",
            "text/plain": [
              "       used    (Mb) gc trigger (Mb)  max used  (Mb) \n",
              "Ncells  831153 44.4  1454475    77.7   1454475  77.7\n",
              "Vcells 1566299 12.0 67924864   518.3 104047130 793.9"
            ]
          },
          "metadata": {}
        }
      ]
    },
    {
      "cell_type": "markdown",
      "source": [
        "* Instalacion de la libreria  rpart.plot  para dibujar el arbol\n",
        "* invocacion de las librerias  **data.table** y  **rpart**"
      ],
      "metadata": {
        "id": "v0CepvbjGimQ"
      }
    },
    {
      "cell_type": "code",
      "source": [
        "# cargo las librerias que necesito\n",
        "require(\"data.table\")\n",
        "require(\"rpart\")\n",
        "require(\"parallel\")\n",
        "\n",
        "if (!require(\"primes\")) install.packages(\"primes\")\n",
        "require(\"primes\")"
      ],
      "metadata": {
        "id": "CRkZ1V2_GimR"
      },
      "execution_count": null,
      "outputs": []
    },
    {
      "cell_type": "markdown",
      "source": [
        "###  Accion a Realizar\n",
        "PARAM$semilla_primigenia  debe reemplazarse por SU primer semilla"
      ],
      "metadata": {
        "id": "PZKJG-nSGimR"
      }
    },
    {
      "cell_type": "code",
      "source": [
        "PARAM <- list()\n",
        "PARAM$semilla_primigenia <- 150001\n",
        "PARAM$qsemillas <- 50\n",
        "PARAM$training_pct <- 70L  # entre  1L y 99L\n",
        "\n",
        "PARAM$rpart <- list (\n",
        "  \"cp\" = -1, # complejidad minima\n",
        "  \"minsplit\" = 170, # minima cantidad de regs en un nodo para hacer el split\n",
        "  \"minbucket\" = 70, # minima cantidad de regs en una hoja\n",
        "  \"maxdepth\" = 7 # profundidad máxima del arbol\n",
        ")\n"
      ],
      "metadata": {
        "id": "4kbkA-2HGimR"
      },
      "execution_count": null,
      "outputs": []
    },
    {
      "cell_type": "code",
      "source": [
        "# particionar agrega una columna llamada fold a un dataset\n",
        "#  que consiste en una particion estratificada segun agrupa\n",
        "\n",
        "# particionar( data=dataset, division=c(70,30),\n",
        "#  agrupa=clase_ternaria, seed=semilla)   crea una particion 70, 30\n",
        "\n",
        "particionar <- function(\n",
        "    data, division, agrupa = \"\",\n",
        "    campo = \"fold\", start = 1, seed = NA) {\n",
        "  if (!is.na(seed)) set.seed(seed)\n",
        "\n",
        "  bloque <- unlist(mapply(function(x, y) {\n",
        "    rep(y, x)\n",
        "  }, division, seq(from = start, length.out = length(division))))\n",
        "\n",
        "  data[, (campo) := sample(rep(bloque, ceiling(.N / length(bloque))))[1:.N],\n",
        "    by = agrupa\n",
        "  ]\n",
        "}\n"
      ],
      "metadata": {
        "id": "HME0qUeOGimS"
      },
      "execution_count": null,
      "outputs": []
    },
    {
      "cell_type": "code",
      "source": [
        "\n",
        "ArbolEstimarGanancia <- function(semilla, param_basicos) {\n",
        "  # particiono estratificadamente el dataset\n",
        "  particionar(dataset,\n",
        "    division = c(param_basicos$training_pct, 100L -param_basicos$training_pct),\n",
        "    agrupa = \"clase_ternaria\",\n",
        "    seed = semilla # aqui se usa SU semilla\n",
        "  )\n",
        "\n",
        "  # genero el modelo\n",
        "  # predecir clase_ternaria a partir del resto\n",
        "  modelo <- rpart(\"clase_ternaria ~ .\",\n",
        "    data = dataset[fold == 1], # fold==1  es training,  el 70% de los datos\n",
        "    xval = 0,\n",
        "    control = param_basicos$rpart\n",
        "  ) # aqui van los parametros del arbol\n",
        "\n",
        "  # aplico el modelo a los datos de testing\n",
        "  prediccion <- predict(modelo, # el modelo que genere recien\n",
        "    dataset[fold == 2], # fold==2  es testing, el 30% de los datos\n",
        "    type = \"prob\"\n",
        "  ) # type= \"prob\"  es que devuelva la probabilidad\n",
        "\n",
        "  # prediccion es una matriz con TRES columnas,\n",
        "  #  llamadas \"BAJA+1\", \"BAJA+2\"  y \"CONTINUA\"\n",
        "  # cada columna es el vector de probabilidades\n",
        "\n",
        "\n",
        "  # calculo la ganancia en testing  qu es fold==2\n",
        "  ganancia_test <- dataset[\n",
        "    fold == 2,\n",
        "    sum(ifelse(prediccion[, \"BAJA+2\"] > 0.025,\n",
        "      ifelse(clase_ternaria == \"BAJA+2\", 117000, -3000),\n",
        "      0\n",
        "    ))\n",
        "  ]\n",
        "\n",
        "  # escalo la ganancia como si fuera todo el dataset\n",
        "  ganancia_test_normalizada <- ganancia_test / (( 100 - PARAM$training_pct ) / 100 )\n",
        "\n",
        "  return(list(\n",
        "    \"semilla\" = semilla,\n",
        "    \"testing\" = dataset[fold == 2, .N],\n",
        "    \"testing_pos\" = dataset[fold == 2 & clase_ternaria == \"BAJA+2\", .N],\n",
        "    \"envios\" = dataset[fold == 2, sum(prediccion[, \"BAJA+2\"] > 0.025)],\n",
        "    \"aciertos\" = dataset[\n",
        "        fold == 2,\n",
        "        sum(prediccion[, \"BAJA+2\"] > 0.025 & clase_ternaria == \"BAJA+2\")\n",
        "    ],\n",
        "    \"ganancia_test\" = ganancia_test_normalizada\n",
        "  ))\n",
        "}\n"
      ],
      "metadata": {
        "id": "ro9Ufoi-GimS"
      },
      "execution_count": null,
      "outputs": []
    },
    {
      "cell_type": "code",
      "source": [
        "# carpeta de trabajo\n",
        "setwd(\"/content/buckets/b1/exp\")\n",
        "experimento <- \"exp204\"\n",
        "dir.create(experimento, showWarnings=FALSE)\n",
        "setwd( paste0(\"/content/buckets/b1/exp/\", experimento ))"
      ],
      "metadata": {
        "id": "gz7LgltwGimT"
      },
      "execution_count": null,
      "outputs": []
    },
    {
      "cell_type": "code",
      "source": [
        "# lectura del dataset\n",
        "dataset <- fread(\"/content/datasets/dataset_pequeno.csv\")\n",
        "\n",
        "# trabajo solo con los datos con clase, es decir 202107\n",
        "dataset <- dataset[clase_ternaria != \"\"]"
      ],
      "metadata": {
        "id": "xRXKHeLeGimT"
      },
      "execution_count": null,
      "outputs": []
    },
    {
      "cell_type": "code",
      "source": [
        "# genero numeros primos\n",
        "primos <- generate_primes(min = 100000, max = 1000000)\n",
        "set.seed(PARAM$semilla_primigenia) # inicializo\n",
        "\n",
        "# me quedo con PARAM$qsemillas   semillas\n",
        "PARAM$semillas <- sample(primos, PARAM$qsemillas )"
      ],
      "metadata": {
        "id": "MdpZ10qiHSZy"
      },
      "execution_count": null,
      "outputs": []
    },
    {
      "cell_type": "code",
      "source": [
        "\n",
        "# la funcion mcmapply  llama a la funcion ArbolEstimarGanancia\n",
        "#  tantas veces como valores tenga el vector  PARAM$semillas\n",
        "salidas <- mcmapply(ArbolEstimarGanancia,\n",
        "  PARAM$semillas, # paso el vector de semillas\n",
        "  MoreArgs = list(PARAM), # aqui paso el segundo parametro\n",
        "  SIMPLIFY = FALSE,\n",
        "  mc.cores = detectCores()\n",
        ")\n",
        "\n",
        "# muestro la lista de las salidas en testing\n",
        "#  para la particion realizada con cada semilla\n",
        "salidas\n"
      ],
      "metadata": {
        "id": "r-YaawpgGimU",
        "outputId": "17c85dc2-f302-4381-e754-dc943f40d35d",
        "colab": {
          "base_uri": "https://localhost:8080/",
          "height": 1000
        }
      },
      "execution_count": null,
      "outputs": [
        {
          "output_type": "display_data",
          "data": {
            "text/html": [
              "<ol>\n",
              "\t<li><dl>\n",
              "\t<dt>$semilla</dt>\n",
              "\t\t<dd>228859</dd>\n",
              "\t<dt>$testing</dt>\n",
              "\t\t<dd>49387</dd>\n",
              "\t<dt>$testing_pos</dt>\n",
              "\t\t<dd>378</dd>\n",
              "\t<dt>$envios</dt>\n",
              "\t\t<dd>3025</dd>\n",
              "\t<dt>$aciertos</dt>\n",
              "\t\t<dd>212</dd>\n",
              "\t<dt>$ganancia_test</dt>\n",
              "\t\t<dd>54550000</dd>\n",
              "</dl>\n",
              "</li>\n",
              "\t<li><dl>\n",
              "\t<dt>$semilla</dt>\n",
              "\t\t<dd>784627</dd>\n",
              "\t<dt>$testing</dt>\n",
              "\t\t<dd>49384</dd>\n",
              "\t<dt>$testing_pos</dt>\n",
              "\t\t<dd>376</dd>\n",
              "\t<dt>$envios</dt>\n",
              "\t\t<dd>2991</dd>\n",
              "\t<dt>$aciertos</dt>\n",
              "\t\t<dd>199</dd>\n",
              "\t<dt>$ganancia_test</dt>\n",
              "\t\t<dd>49690000</dd>\n",
              "</dl>\n",
              "</li>\n",
              "\t<li><dl>\n",
              "\t<dt>$semilla</dt>\n",
              "\t\t<dd>865483</dd>\n",
              "\t<dt>$testing</dt>\n",
              "\t\t<dd>49394</dd>\n",
              "\t<dt>$testing_pos</dt>\n",
              "\t\t<dd>379</dd>\n",
              "\t<dt>$envios</dt>\n",
              "\t\t<dd>3442</dd>\n",
              "\t<dt>$aciertos</dt>\n",
              "\t\t<dd>212</dd>\n",
              "\t<dt>$ganancia_test</dt>\n",
              "\t\t<dd>50380000</dd>\n",
              "</dl>\n",
              "</li>\n",
              "\t<li><dl>\n",
              "\t<dt>$semilla</dt>\n",
              "\t\t<dd>503297</dd>\n",
              "\t<dt>$testing</dt>\n",
              "\t\t<dd>49380</dd>\n",
              "\t<dt>$testing_pos</dt>\n",
              "\t\t<dd>375</dd>\n",
              "\t<dt>$envios</dt>\n",
              "\t\t<dd>2828</dd>\n",
              "\t<dt>$aciertos</dt>\n",
              "\t\t<dd>196</dd>\n",
              "\t<dt>$ganancia_test</dt>\n",
              "\t\t<dd>50120000</dd>\n",
              "</dl>\n",
              "</li>\n",
              "\t<li><dl>\n",
              "\t<dt>$semilla</dt>\n",
              "\t\t<dd>883187</dd>\n",
              "\t<dt>$testing</dt>\n",
              "\t\t<dd>49384</dd>\n",
              "\t<dt>$testing_pos</dt>\n",
              "\t\t<dd>380</dd>\n",
              "\t<dt>$envios</dt>\n",
              "\t\t<dd>3142</dd>\n",
              "\t<dt>$aciertos</dt>\n",
              "\t\t<dd>200</dd>\n",
              "\t<dt>$ganancia_test</dt>\n",
              "\t\t<dd>48580000</dd>\n",
              "</dl>\n",
              "</li>\n",
              "\t<li><dl>\n",
              "\t<dt>$semilla</dt>\n",
              "\t\t<dd>968251</dd>\n",
              "\t<dt>$testing</dt>\n",
              "\t\t<dd>49379</dd>\n",
              "\t<dt>$testing_pos</dt>\n",
              "\t\t<dd>375</dd>\n",
              "\t<dt>$envios</dt>\n",
              "\t\t<dd>2719</dd>\n",
              "\t<dt>$aciertos</dt>\n",
              "\t\t<dd>176</dd>\n",
              "\t<dt>$ganancia_test</dt>\n",
              "\t\t<dd>43210000</dd>\n",
              "</dl>\n",
              "</li>\n",
              "\t<li><dl>\n",
              "\t<dt>$semilla</dt>\n",
              "\t\t<dd>318751</dd>\n",
              "\t<dt>$testing</dt>\n",
              "\t\t<dd>49389</dd>\n",
              "\t<dt>$testing_pos</dt>\n",
              "\t\t<dd>374</dd>\n",
              "\t<dt>$envios</dt>\n",
              "\t\t<dd>3721</dd>\n",
              "\t<dt>$aciertos</dt>\n",
              "\t\t<dd>217</dd>\n",
              "\t<dt>$ganancia_test</dt>\n",
              "\t\t<dd>49590000</dd>\n",
              "</dl>\n",
              "</li>\n",
              "\t<li><dl>\n",
              "\t<dt>$semilla</dt>\n",
              "\t\t<dd>245851</dd>\n",
              "\t<dt>$testing</dt>\n",
              "\t\t<dd>49383</dd>\n",
              "\t<dt>$testing_pos</dt>\n",
              "\t\t<dd>378</dd>\n",
              "\t<dt>$envios</dt>\n",
              "\t\t<dd>2862</dd>\n",
              "\t<dt>$aciertos</dt>\n",
              "\t\t<dd>199</dd>\n",
              "\t<dt>$ganancia_test</dt>\n",
              "\t\t<dd>50980000</dd>\n",
              "</dl>\n",
              "</li>\n",
              "\t<li><dl>\n",
              "\t<dt>$semilla</dt>\n",
              "\t\t<dd>809579</dd>\n",
              "\t<dt>$testing</dt>\n",
              "\t\t<dd>49385</dd>\n",
              "\t<dt>$testing_pos</dt>\n",
              "\t\t<dd>379</dd>\n",
              "\t<dt>$envios</dt>\n",
              "\t\t<dd>4177</dd>\n",
              "\t<dt>$aciertos</dt>\n",
              "\t\t<dd>230</dd>\n",
              "\t<dt>$ganancia_test</dt>\n",
              "\t\t<dd>50230000</dd>\n",
              "</dl>\n",
              "</li>\n",
              "\t<li><dl>\n",
              "\t<dt>$semilla</dt>\n",
              "\t\t<dd>700331</dd>\n",
              "\t<dt>$testing</dt>\n",
              "\t\t<dd>49380</dd>\n",
              "\t<dt>$testing_pos</dt>\n",
              "\t\t<dd>371</dd>\n",
              "\t<dt>$envios</dt>\n",
              "\t\t<dd>3379</dd>\n",
              "\t<dt>$aciertos</dt>\n",
              "\t\t<dd>205</dd>\n",
              "\t<dt>$ganancia_test</dt>\n",
              "\t\t<dd>48210000</dd>\n",
              "</dl>\n",
              "</li>\n",
              "\t<li><dl>\n",
              "\t<dt>$semilla</dt>\n",
              "\t\t<dd>168227</dd>\n",
              "\t<dt>$testing</dt>\n",
              "\t\t<dd>49379</dd>\n",
              "\t<dt>$testing_pos</dt>\n",
              "\t\t<dd>373</dd>\n",
              "\t<dt>$envios</dt>\n",
              "\t\t<dd>3386</dd>\n",
              "\t<dt>$aciertos</dt>\n",
              "\t\t<dd>190</dd>\n",
              "\t<dt>$ganancia_test</dt>\n",
              "\t\t<dd>42140000</dd>\n",
              "</dl>\n",
              "</li>\n",
              "\t<li><dl>\n",
              "\t<dt>$semilla</dt>\n",
              "\t\t<dd>187003</dd>\n",
              "\t<dt>$testing</dt>\n",
              "\t\t<dd>49383</dd>\n",
              "\t<dt>$testing_pos</dt>\n",
              "\t\t<dd>378</dd>\n",
              "\t<dt>$envios</dt>\n",
              "\t\t<dd>3303</dd>\n",
              "\t<dt>$aciertos</dt>\n",
              "\t\t<dd>207</dd>\n",
              "\t<dt>$ganancia_test</dt>\n",
              "\t\t<dd>49770000</dd>\n",
              "</dl>\n",
              "</li>\n",
              "\t<li><dl>\n",
              "\t<dt>$semilla</dt>\n",
              "\t\t<dd>174263</dd>\n",
              "\t<dt>$testing</dt>\n",
              "\t\t<dd>49375</dd>\n",
              "\t<dt>$testing_pos</dt>\n",
              "\t\t<dd>373</dd>\n",
              "\t<dt>$envios</dt>\n",
              "\t\t<dd>4124</dd>\n",
              "\t<dt>$aciertos</dt>\n",
              "\t\t<dd>215</dd>\n",
              "\t<dt>$ganancia_test</dt>\n",
              "\t\t<dd>44760000</dd>\n",
              "</dl>\n",
              "</li>\n",
              "\t<li><dl>\n",
              "\t<dt>$semilla</dt>\n",
              "\t\t<dd>702937</dd>\n",
              "\t<dt>$testing</dt>\n",
              "\t\t<dd>49394</dd>\n",
              "\t<dt>$testing_pos</dt>\n",
              "\t\t<dd>380</dd>\n",
              "\t<dt>$envios</dt>\n",
              "\t\t<dd>2428</dd>\n",
              "\t<dt>$aciertos</dt>\n",
              "\t\t<dd>195</dd>\n",
              "\t<dt>$ganancia_test</dt>\n",
              "\t\t<dd>53720000</dd>\n",
              "</dl>\n",
              "</li>\n",
              "\t<li><dl>\n",
              "\t<dt>$semilla</dt>\n",
              "\t\t<dd>475831</dd>\n",
              "\t<dt>$testing</dt>\n",
              "\t\t<dd>49375</dd>\n",
              "\t<dt>$testing_pos</dt>\n",
              "\t\t<dd>369</dd>\n",
              "\t<dt>$envios</dt>\n",
              "\t\t<dd>3949</dd>\n",
              "\t<dt>$aciertos</dt>\n",
              "\t\t<dd>213</dd>\n",
              "\t<dt>$ganancia_test</dt>\n",
              "\t\t<dd>45710000</dd>\n",
              "</dl>\n",
              "</li>\n",
              "\t<li><dl>\n",
              "\t<dt>$semilla</dt>\n",
              "\t\t<dd>631151</dd>\n",
              "\t<dt>$testing</dt>\n",
              "\t\t<dd>49364</dd>\n",
              "\t<dt>$testing_pos</dt>\n",
              "\t\t<dd>372</dd>\n",
              "\t<dt>$envios</dt>\n",
              "\t\t<dd>3189</dd>\n",
              "\t<dt>$aciertos</dt>\n",
              "\t\t<dd>199</dd>\n",
              "\t<dt>$ganancia_test</dt>\n",
              "\t\t<dd>47710000</dd>\n",
              "</dl>\n",
              "</li>\n",
              "\t<li><dl>\n",
              "\t<dt>$semilla</dt>\n",
              "\t\t<dd>509681</dd>\n",
              "\t<dt>$testing</dt>\n",
              "\t\t<dd>49386</dd>\n",
              "\t<dt>$testing_pos</dt>\n",
              "\t\t<dd>374</dd>\n",
              "\t<dt>$envios</dt>\n",
              "\t\t<dd>3846</dd>\n",
              "\t<dt>$aciertos</dt>\n",
              "\t\t<dd>225</dd>\n",
              "\t<dt>$ganancia_test</dt>\n",
              "\t\t<dd>51540000</dd>\n",
              "</dl>\n",
              "</li>\n",
              "\t<li><dl>\n",
              "\t<dt>$semilla</dt>\n",
              "\t\t<dd>187069</dd>\n",
              "\t<dt>$testing</dt>\n",
              "\t\t<dd>49383</dd>\n",
              "\t<dt>$testing_pos</dt>\n",
              "\t\t<dd>374</dd>\n",
              "\t<dt>$envios</dt>\n",
              "\t\t<dd>4032</dd>\n",
              "\t<dt>$aciertos</dt>\n",
              "\t\t<dd>231</dd>\n",
              "\t<dt>$ganancia_test</dt>\n",
              "\t\t<dd>52080000</dd>\n",
              "</dl>\n",
              "</li>\n",
              "\t<li><dl>\n",
              "\t<dt>$semilla</dt>\n",
              "\t\t<dd>347957</dd>\n",
              "\t<dt>$testing</dt>\n",
              "\t\t<dd>49385</dd>\n",
              "\t<dt>$testing_pos</dt>\n",
              "\t\t<dd>380</dd>\n",
              "\t<dt>$envios</dt>\n",
              "\t\t<dd>3628</dd>\n",
              "\t<dt>$aciertos</dt>\n",
              "\t\t<dd>217</dd>\n",
              "\t<dt>$ganancia_test</dt>\n",
              "\t\t<dd>50520000</dd>\n",
              "</dl>\n",
              "</li>\n",
              "\t<li><dl>\n",
              "\t<dt>$semilla</dt>\n",
              "\t\t<dd>931241</dd>\n",
              "\t<dt>$testing</dt>\n",
              "\t\t<dd>49367</dd>\n",
              "\t<dt>$testing_pos</dt>\n",
              "\t\t<dd>365</dd>\n",
              "\t<dt>$envios</dt>\n",
              "\t\t<dd>3669</dd>\n",
              "\t<dt>$aciertos</dt>\n",
              "\t\t<dd>211</dd>\n",
              "\t<dt>$ganancia_test</dt>\n",
              "\t\t<dd>47710000</dd>\n",
              "</dl>\n",
              "</li>\n",
              "\t<li><dl>\n",
              "\t<dt>$semilla</dt>\n",
              "\t\t<dd>749081</dd>\n",
              "\t<dt>$testing</dt>\n",
              "\t\t<dd>49375</dd>\n",
              "\t<dt>$testing_pos</dt>\n",
              "\t\t<dd>375</dd>\n",
              "\t<dt>$envios</dt>\n",
              "\t\t<dd>2530</dd>\n",
              "\t<dt>$aciertos</dt>\n",
              "\t\t<dd>198</dd>\n",
              "\t<dt>$ganancia_test</dt>\n",
              "\t\t<dd>53900000</dd>\n",
              "</dl>\n",
              "</li>\n",
              "\t<li><dl>\n",
              "\t<dt>$semilla</dt>\n",
              "\t\t<dd>631361</dd>\n",
              "\t<dt>$testing</dt>\n",
              "\t\t<dd>49384</dd>\n",
              "\t<dt>$testing_pos</dt>\n",
              "\t\t<dd>372</dd>\n",
              "\t<dt>$envios</dt>\n",
              "\t\t<dd>3364</dd>\n",
              "\t<dt>$aciertos</dt>\n",
              "\t\t<dd>211</dd>\n",
              "\t<dt>$ganancia_test</dt>\n",
              "\t\t<dd>50760000</dd>\n",
              "</dl>\n",
              "</li>\n",
              "\t<li><dl>\n",
              "\t<dt>$semilla</dt>\n",
              "\t\t<dd>140603</dd>\n",
              "\t<dt>$testing</dt>\n",
              "\t\t<dd>49371</dd>\n",
              "\t<dt>$testing_pos</dt>\n",
              "\t\t<dd>375</dd>\n",
              "\t<dt>$envios</dt>\n",
              "\t\t<dd>2788</dd>\n",
              "\t<dt>$aciertos</dt>\n",
              "\t\t<dd>193</dd>\n",
              "\t<dt>$ganancia_test</dt>\n",
              "\t\t<dd>49320000</dd>\n",
              "</dl>\n",
              "</li>\n",
              "\t<li><dl>\n",
              "\t<dt>$semilla</dt>\n",
              "\t\t<dd>761603</dd>\n",
              "\t<dt>$testing</dt>\n",
              "\t\t<dd>49381</dd>\n",
              "\t<dt>$testing_pos</dt>\n",
              "\t\t<dd>375</dd>\n",
              "\t<dt>$envios</dt>\n",
              "\t\t<dd>3367</dd>\n",
              "\t<dt>$aciertos</dt>\n",
              "\t\t<dd>210</dd>\n",
              "\t<dt>$ganancia_test</dt>\n",
              "\t\t<dd>50330000</dd>\n",
              "</dl>\n",
              "</li>\n",
              "\t<li><dl>\n",
              "\t<dt>$semilla</dt>\n",
              "\t\t<dd>778153</dd>\n",
              "\t<dt>$testing</dt>\n",
              "\t\t<dd>49379</dd>\n",
              "\t<dt>$testing_pos</dt>\n",
              "\t\t<dd>379</dd>\n",
              "\t<dt>$envios</dt>\n",
              "\t\t<dd>3561</dd>\n",
              "\t<dt>$aciertos</dt>\n",
              "\t\t<dd>196</dd>\n",
              "\t<dt>$ganancia_test</dt>\n",
              "\t\t<dd>42790000</dd>\n",
              "</dl>\n",
              "</li>\n",
              "\t<li><dl>\n",
              "\t<dt>$semilla</dt>\n",
              "\t\t<dd>759053</dd>\n",
              "\t<dt>$testing</dt>\n",
              "\t\t<dd>49387</dd>\n",
              "\t<dt>$testing_pos</dt>\n",
              "\t\t<dd>377</dd>\n",
              "\t<dt>$envios</dt>\n",
              "\t\t<dd>3699</dd>\n",
              "\t<dt>$aciertos</dt>\n",
              "\t\t<dd>206</dd>\n",
              "\t<dt>$ganancia_test</dt>\n",
              "\t\t<dd>45410000</dd>\n",
              "</dl>\n",
              "</li>\n",
              "\t<li><dl>\n",
              "\t<dt>$semilla</dt>\n",
              "\t\t<dd>796871</dd>\n",
              "\t<dt>$testing</dt>\n",
              "\t\t<dd>49377</dd>\n",
              "\t<dt>$testing_pos</dt>\n",
              "\t\t<dd>370</dd>\n",
              "\t<dt>$envios</dt>\n",
              "\t\t<dd>3330</dd>\n",
              "\t<dt>$aciertos</dt>\n",
              "\t\t<dd>193</dd>\n",
              "\t<dt>$ganancia_test</dt>\n",
              "\t\t<dd>43900000</dd>\n",
              "</dl>\n",
              "</li>\n",
              "\t<li><dl>\n",
              "\t<dt>$semilla</dt>\n",
              "\t\t<dd>112909</dd>\n",
              "\t<dt>$testing</dt>\n",
              "\t\t<dd>49370</dd>\n",
              "\t<dt>$testing_pos</dt>\n",
              "\t\t<dd>372</dd>\n",
              "\t<dt>$envios</dt>\n",
              "\t\t<dd>3968</dd>\n",
              "\t<dt>$aciertos</dt>\n",
              "\t\t<dd>220</dd>\n",
              "\t<dt>$ganancia_test</dt>\n",
              "\t\t<dd>48320000</dd>\n",
              "</dl>\n",
              "</li>\n",
              "\t<li><dl>\n",
              "\t<dt>$semilla</dt>\n",
              "\t\t<dd>581767</dd>\n",
              "\t<dt>$testing</dt>\n",
              "\t\t<dd>49384</dd>\n",
              "\t<dt>$testing_pos</dt>\n",
              "\t\t<dd>376</dd>\n",
              "\t<dt>$envios</dt>\n",
              "\t\t<dd>2977</dd>\n",
              "\t<dt>$aciertos</dt>\n",
              "\t\t<dd>188</dd>\n",
              "\t<dt>$ganancia_test</dt>\n",
              "\t\t<dd>45430000</dd>\n",
              "</dl>\n",
              "</li>\n",
              "\t<li><dl>\n",
              "\t<dt>$semilla</dt>\n",
              "\t\t<dd>857287</dd>\n",
              "\t<dt>$testing</dt>\n",
              "\t\t<dd>49368</dd>\n",
              "\t<dt>$testing_pos</dt>\n",
              "\t\t<dd>375</dd>\n",
              "\t<dt>$envios</dt>\n",
              "\t\t<dd>3358</dd>\n",
              "\t<dt>$aciertos</dt>\n",
              "\t\t<dd>210</dd>\n",
              "\t<dt>$ganancia_test</dt>\n",
              "\t\t<dd>50420000</dd>\n",
              "</dl>\n",
              "</li>\n",
              "\t<li><dl>\n",
              "\t<dt>$semilla</dt>\n",
              "\t\t<dd>180623</dd>\n",
              "\t<dt>$testing</dt>\n",
              "\t\t<dd>49374</dd>\n",
              "\t<dt>$testing_pos</dt>\n",
              "\t\t<dd>377</dd>\n",
              "\t<dt>$envios</dt>\n",
              "\t\t<dd>3537</dd>\n",
              "\t<dt>$aciertos</dt>\n",
              "\t\t<dd>212</dd>\n",
              "\t<dt>$ganancia_test</dt>\n",
              "\t\t<dd>49430000</dd>\n",
              "</dl>\n",
              "</li>\n",
              "\t<li><dl>\n",
              "\t<dt>$semilla</dt>\n",
              "\t\t<dd>587527</dd>\n",
              "\t<dt>$testing</dt>\n",
              "\t\t<dd>49384</dd>\n",
              "\t<dt>$testing_pos</dt>\n",
              "\t\t<dd>378</dd>\n",
              "\t<dt>$envios</dt>\n",
              "\t\t<dd>3323</dd>\n",
              "\t<dt>$aciertos</dt>\n",
              "\t\t<dd>196</dd>\n",
              "\t<dt>$ganancia_test</dt>\n",
              "\t\t<dd>45170000</dd>\n",
              "</dl>\n",
              "</li>\n",
              "\t<li><dl>\n",
              "\t<dt>$semilla</dt>\n",
              "\t\t<dd>324101</dd>\n",
              "\t<dt>$testing</dt>\n",
              "\t\t<dd>49380</dd>\n",
              "\t<dt>$testing_pos</dt>\n",
              "\t\t<dd>372</dd>\n",
              "\t<dt>$envios</dt>\n",
              "\t\t<dd>3989</dd>\n",
              "\t<dt>$aciertos</dt>\n",
              "\t\t<dd>215</dd>\n",
              "\t<dt>$ganancia_test</dt>\n",
              "\t\t<dd>46110000</dd>\n",
              "</dl>\n",
              "</li>\n",
              "\t<li><dl>\n",
              "\t<dt>$semilla</dt>\n",
              "\t\t<dd>827833</dd>\n",
              "\t<dt>$testing</dt>\n",
              "\t\t<dd>49375</dd>\n",
              "\t<dt>$testing_pos</dt>\n",
              "\t\t<dd>375</dd>\n",
              "\t<dt>$envios</dt>\n",
              "\t\t<dd>3761</dd>\n",
              "\t<dt>$aciertos</dt>\n",
              "\t\t<dd>217</dd>\n",
              "\t<dt>$ganancia_test</dt>\n",
              "\t\t<dd>49190000</dd>\n",
              "</dl>\n",
              "</li>\n",
              "\t<li><dl>\n",
              "\t<dt>$semilla</dt>\n",
              "\t\t<dd>764857</dd>\n",
              "\t<dt>$testing</dt>\n",
              "\t\t<dd>49377</dd>\n",
              "\t<dt>$testing_pos</dt>\n",
              "\t\t<dd>375</dd>\n",
              "\t<dt>$envios</dt>\n",
              "\t\t<dd>3382</dd>\n",
              "\t<dt>$aciertos</dt>\n",
              "\t\t<dd>206</dd>\n",
              "\t<dt>$ganancia_test</dt>\n",
              "\t\t<dd>48580000</dd>\n",
              "</dl>\n",
              "</li>\n",
              "\t<li><dl>\n",
              "\t<dt>$semilla</dt>\n",
              "\t\t<dd>144323</dd>\n",
              "\t<dt>$testing</dt>\n",
              "\t\t<dd>49374</dd>\n",
              "\t<dt>$testing_pos</dt>\n",
              "\t\t<dd>374</dd>\n",
              "\t<dt>$envios</dt>\n",
              "\t\t<dd>3811</dd>\n",
              "\t<dt>$aciertos</dt>\n",
              "\t\t<dd>206</dd>\n",
              "\t<dt>$ganancia_test</dt>\n",
              "\t\t<dd>44290000</dd>\n",
              "</dl>\n",
              "</li>\n",
              "\t<li><dl>\n",
              "\t<dt>$semilla</dt>\n",
              "\t\t<dd>426131</dd>\n",
              "\t<dt>$testing</dt>\n",
              "\t\t<dd>49387</dd>\n",
              "\t<dt>$testing_pos</dt>\n",
              "\t\t<dd>381</dd>\n",
              "\t<dt>$envios</dt>\n",
              "\t\t<dd>4507</dd>\n",
              "\t<dt>$aciertos</dt>\n",
              "\t\t<dd>242</dd>\n",
              "\t<dt>$ganancia_test</dt>\n",
              "\t\t<dd>51730000</dd>\n",
              "</dl>\n",
              "</li>\n",
              "\t<li><dl>\n",
              "\t<dt>$semilla</dt>\n",
              "\t\t<dd>539797</dd>\n",
              "\t<dt>$testing</dt>\n",
              "\t\t<dd>49380</dd>\n",
              "\t<dt>$testing_pos</dt>\n",
              "\t\t<dd>374</dd>\n",
              "\t<dt>$envios</dt>\n",
              "\t\t<dd>2866</dd>\n",
              "\t<dt>$aciertos</dt>\n",
              "\t\t<dd>195</dd>\n",
              "\t<dt>$ganancia_test</dt>\n",
              "\t\t<dd>49340000</dd>\n",
              "</dl>\n",
              "</li>\n",
              "\t<li><dl>\n",
              "\t<dt>$semilla</dt>\n",
              "\t\t<dd>155009</dd>\n",
              "\t<dt>$testing</dt>\n",
              "\t\t<dd>49375</dd>\n",
              "\t<dt>$testing_pos</dt>\n",
              "\t\t<dd>375</dd>\n",
              "\t<dt>$envios</dt>\n",
              "\t\t<dd>3575</dd>\n",
              "\t<dt>$aciertos</dt>\n",
              "\t\t<dd>181</dd>\n",
              "\t<dt>$ganancia_test</dt>\n",
              "\t\t<dd>36650000</dd>\n",
              "</dl>\n",
              "</li>\n",
              "\t<li><dl>\n",
              "\t<dt>$semilla</dt>\n",
              "\t\t<dd>157897</dd>\n",
              "\t<dt>$testing</dt>\n",
              "\t\t<dd>49373</dd>\n",
              "\t<dt>$testing_pos</dt>\n",
              "\t\t<dd>374</dd>\n",
              "\t<dt>$envios</dt>\n",
              "\t\t<dd>3644</dd>\n",
              "\t<dt>$aciertos</dt>\n",
              "\t\t<dd>221</dd>\n",
              "\t<dt>$ganancia_test</dt>\n",
              "\t\t<dd>51960000</dd>\n",
              "</dl>\n",
              "</li>\n",
              "\t<li><dl>\n",
              "\t<dt>$semilla</dt>\n",
              "\t\t<dd>554839</dd>\n",
              "\t<dt>$testing</dt>\n",
              "\t\t<dd>49380</dd>\n",
              "\t<dt>$testing_pos</dt>\n",
              "\t\t<dd>375</dd>\n",
              "\t<dt>$envios</dt>\n",
              "\t\t<dd>2842</dd>\n",
              "\t<dt>$aciertos</dt>\n",
              "\t\t<dd>206</dd>\n",
              "\t<dt>$ganancia_test</dt>\n",
              "\t\t<dd>53980000</dd>\n",
              "</dl>\n",
              "</li>\n",
              "\t<li><dl>\n",
              "\t<dt>$semilla</dt>\n",
              "\t\t<dd>164531</dd>\n",
              "\t<dt>$testing</dt>\n",
              "\t\t<dd>49379</dd>\n",
              "\t<dt>$testing_pos</dt>\n",
              "\t\t<dd>375</dd>\n",
              "\t<dt>$envios</dt>\n",
              "\t\t<dd>3788</dd>\n",
              "\t<dt>$aciertos</dt>\n",
              "\t\t<dd>215</dd>\n",
              "\t<dt>$ganancia_test</dt>\n",
              "\t\t<dd>48120000</dd>\n",
              "</dl>\n",
              "</li>\n",
              "\t<li><dl>\n",
              "\t<dt>$semilla</dt>\n",
              "\t\t<dd>997427</dd>\n",
              "\t<dt>$testing</dt>\n",
              "\t\t<dd>49383</dd>\n",
              "\t<dt>$testing_pos</dt>\n",
              "\t\t<dd>377</dd>\n",
              "\t<dt>$envios</dt>\n",
              "\t\t<dd>4390</dd>\n",
              "\t<dt>$aciertos</dt>\n",
              "\t\t<dd>221</dd>\n",
              "\t<dt>$ganancia_test</dt>\n",
              "\t\t<dd>44500000</dd>\n",
              "</dl>\n",
              "</li>\n",
              "\t<li><dl>\n",
              "\t<dt>$semilla</dt>\n",
              "\t\t<dd>749557</dd>\n",
              "\t<dt>$testing</dt>\n",
              "\t\t<dd>49385</dd>\n",
              "\t<dt>$testing_pos</dt>\n",
              "\t\t<dd>374</dd>\n",
              "\t<dt>$envios</dt>\n",
              "\t\t<dd>4016</dd>\n",
              "\t<dt>$aciertos</dt>\n",
              "\t\t<dd>226</dd>\n",
              "\t<dt>$ganancia_test</dt>\n",
              "\t\t<dd>50240000</dd>\n",
              "</dl>\n",
              "</li>\n",
              "\t<li><dl>\n",
              "\t<dt>$semilla</dt>\n",
              "\t\t<dd>894713</dd>\n",
              "\t<dt>$testing</dt>\n",
              "\t\t<dd>49384</dd>\n",
              "\t<dt>$testing_pos</dt>\n",
              "\t\t<dd>378</dd>\n",
              "\t<dt>$envios</dt>\n",
              "\t\t<dd>3248</dd>\n",
              "\t<dt>$aciertos</dt>\n",
              "\t\t<dd>205</dd>\n",
              "\t<dt>$ganancia_test</dt>\n",
              "\t\t<dd>49520000</dd>\n",
              "</dl>\n",
              "</li>\n",
              "\t<li><dl>\n",
              "\t<dt>$semilla</dt>\n",
              "\t\t<dd>710557</dd>\n",
              "\t<dt>$testing</dt>\n",
              "\t\t<dd>49385</dd>\n",
              "\t<dt>$testing_pos</dt>\n",
              "\t\t<dd>382</dd>\n",
              "\t<dt>$envios</dt>\n",
              "\t\t<dd>3461</dd>\n",
              "\t<dt>$aciertos</dt>\n",
              "\t\t<dd>214</dd>\n",
              "\t<dt>$ganancia_test</dt>\n",
              "\t\t<dd>50990000</dd>\n",
              "</dl>\n",
              "</li>\n",
              "\t<li><dl>\n",
              "\t<dt>$semilla</dt>\n",
              "\t\t<dd>704023</dd>\n",
              "\t<dt>$testing</dt>\n",
              "\t\t<dd>49372</dd>\n",
              "\t<dt>$testing_pos</dt>\n",
              "\t\t<dd>374</dd>\n",
              "\t<dt>$envios</dt>\n",
              "\t\t<dd>3054</dd>\n",
              "\t<dt>$aciertos</dt>\n",
              "\t\t<dd>201</dd>\n",
              "\t<dt>$ganancia_test</dt>\n",
              "\t\t<dd>49860000</dd>\n",
              "</dl>\n",
              "</li>\n",
              "\t<li><dl>\n",
              "\t<dt>$semilla</dt>\n",
              "\t\t<dd>259681</dd>\n",
              "\t<dt>$testing</dt>\n",
              "\t\t<dd>49385</dd>\n",
              "\t<dt>$testing_pos</dt>\n",
              "\t\t<dd>384</dd>\n",
              "\t<dt>$envios</dt>\n",
              "\t\t<dd>3198</dd>\n",
              "\t<dt>$aciertos</dt>\n",
              "\t\t<dd>209</dd>\n",
              "\t<dt>$ganancia_test</dt>\n",
              "\t\t<dd>51620000</dd>\n",
              "</dl>\n",
              "</li>\n",
              "\t<li><dl>\n",
              "\t<dt>$semilla</dt>\n",
              "\t\t<dd>108377</dd>\n",
              "\t<dt>$testing</dt>\n",
              "\t\t<dd>49376</dd>\n",
              "\t<dt>$testing_pos</dt>\n",
              "\t\t<dd>376</dd>\n",
              "\t<dt>$envios</dt>\n",
              "\t\t<dd>3635</dd>\n",
              "\t<dt>$aciertos</dt>\n",
              "\t\t<dd>222</dd>\n",
              "\t<dt>$ganancia_test</dt>\n",
              "\t\t<dd>52450000</dd>\n",
              "</dl>\n",
              "</li>\n",
              "\t<li><dl>\n",
              "\t<dt>$semilla</dt>\n",
              "\t\t<dd>628357</dd>\n",
              "\t<dt>$testing</dt>\n",
              "\t\t<dd>49382</dd>\n",
              "\t<dt>$testing_pos</dt>\n",
              "\t\t<dd>381</dd>\n",
              "\t<dt>$envios</dt>\n",
              "\t\t<dd>3731</dd>\n",
              "\t<dt>$aciertos</dt>\n",
              "\t\t<dd>216</dd>\n",
              "\t<dt>$ganancia_test</dt>\n",
              "\t\t<dd>49090000</dd>\n",
              "</dl>\n",
              "</li>\n",
              "</ol>\n"
            ],
            "text/markdown": "1. $semilla\n:   228859\n$testing\n:   49387\n$testing_pos\n:   378\n$envios\n:   3025\n$aciertos\n:   212\n$ganancia_test\n:   54550000\n\n\n\n2. $semilla\n:   784627\n$testing\n:   49384\n$testing_pos\n:   376\n$envios\n:   2991\n$aciertos\n:   199\n$ganancia_test\n:   49690000\n\n\n\n3. $semilla\n:   865483\n$testing\n:   49394\n$testing_pos\n:   379\n$envios\n:   3442\n$aciertos\n:   212\n$ganancia_test\n:   50380000\n\n\n\n4. $semilla\n:   503297\n$testing\n:   49380\n$testing_pos\n:   375\n$envios\n:   2828\n$aciertos\n:   196\n$ganancia_test\n:   50120000\n\n\n\n5. $semilla\n:   883187\n$testing\n:   49384\n$testing_pos\n:   380\n$envios\n:   3142\n$aciertos\n:   200\n$ganancia_test\n:   48580000\n\n\n\n6. $semilla\n:   968251\n$testing\n:   49379\n$testing_pos\n:   375\n$envios\n:   2719\n$aciertos\n:   176\n$ganancia_test\n:   43210000\n\n\n\n7. $semilla\n:   318751\n$testing\n:   49389\n$testing_pos\n:   374\n$envios\n:   3721\n$aciertos\n:   217\n$ganancia_test\n:   49590000\n\n\n\n8. $semilla\n:   245851\n$testing\n:   49383\n$testing_pos\n:   378\n$envios\n:   2862\n$aciertos\n:   199\n$ganancia_test\n:   50980000\n\n\n\n9. $semilla\n:   809579\n$testing\n:   49385\n$testing_pos\n:   379\n$envios\n:   4177\n$aciertos\n:   230\n$ganancia_test\n:   50230000\n\n\n\n10. $semilla\n:   700331\n$testing\n:   49380\n$testing_pos\n:   371\n$envios\n:   3379\n$aciertos\n:   205\n$ganancia_test\n:   48210000\n\n\n\n11. $semilla\n:   168227\n$testing\n:   49379\n$testing_pos\n:   373\n$envios\n:   3386\n$aciertos\n:   190\n$ganancia_test\n:   42140000\n\n\n\n12. $semilla\n:   187003\n$testing\n:   49383\n$testing_pos\n:   378\n$envios\n:   3303\n$aciertos\n:   207\n$ganancia_test\n:   49770000\n\n\n\n13. $semilla\n:   174263\n$testing\n:   49375\n$testing_pos\n:   373\n$envios\n:   4124\n$aciertos\n:   215\n$ganancia_test\n:   44760000\n\n\n\n14. $semilla\n:   702937\n$testing\n:   49394\n$testing_pos\n:   380\n$envios\n:   2428\n$aciertos\n:   195\n$ganancia_test\n:   53720000\n\n\n\n15. $semilla\n:   475831\n$testing\n:   49375\n$testing_pos\n:   369\n$envios\n:   3949\n$aciertos\n:   213\n$ganancia_test\n:   45710000\n\n\n\n16. $semilla\n:   631151\n$testing\n:   49364\n$testing_pos\n:   372\n$envios\n:   3189\n$aciertos\n:   199\n$ganancia_test\n:   47710000\n\n\n\n17. $semilla\n:   509681\n$testing\n:   49386\n$testing_pos\n:   374\n$envios\n:   3846\n$aciertos\n:   225\n$ganancia_test\n:   51540000\n\n\n\n18. $semilla\n:   187069\n$testing\n:   49383\n$testing_pos\n:   374\n$envios\n:   4032\n$aciertos\n:   231\n$ganancia_test\n:   52080000\n\n\n\n19. $semilla\n:   347957\n$testing\n:   49385\n$testing_pos\n:   380\n$envios\n:   3628\n$aciertos\n:   217\n$ganancia_test\n:   50520000\n\n\n\n20. $semilla\n:   931241\n$testing\n:   49367\n$testing_pos\n:   365\n$envios\n:   3669\n$aciertos\n:   211\n$ganancia_test\n:   47710000\n\n\n\n21. $semilla\n:   749081\n$testing\n:   49375\n$testing_pos\n:   375\n$envios\n:   2530\n$aciertos\n:   198\n$ganancia_test\n:   53900000\n\n\n\n22. $semilla\n:   631361\n$testing\n:   49384\n$testing_pos\n:   372\n$envios\n:   3364\n$aciertos\n:   211\n$ganancia_test\n:   50760000\n\n\n\n23. $semilla\n:   140603\n$testing\n:   49371\n$testing_pos\n:   375\n$envios\n:   2788\n$aciertos\n:   193\n$ganancia_test\n:   49320000\n\n\n\n24. $semilla\n:   761603\n$testing\n:   49381\n$testing_pos\n:   375\n$envios\n:   3367\n$aciertos\n:   210\n$ganancia_test\n:   50330000\n\n\n\n25. $semilla\n:   778153\n$testing\n:   49379\n$testing_pos\n:   379\n$envios\n:   3561\n$aciertos\n:   196\n$ganancia_test\n:   42790000\n\n\n\n26. $semilla\n:   759053\n$testing\n:   49387\n$testing_pos\n:   377\n$envios\n:   3699\n$aciertos\n:   206\n$ganancia_test\n:   45410000\n\n\n\n27. $semilla\n:   796871\n$testing\n:   49377\n$testing_pos\n:   370\n$envios\n:   3330\n$aciertos\n:   193\n$ganancia_test\n:   43900000\n\n\n\n28. $semilla\n:   112909\n$testing\n:   49370\n$testing_pos\n:   372\n$envios\n:   3968\n$aciertos\n:   220\n$ganancia_test\n:   48320000\n\n\n\n29. $semilla\n:   581767\n$testing\n:   49384\n$testing_pos\n:   376\n$envios\n:   2977\n$aciertos\n:   188\n$ganancia_test\n:   45430000\n\n\n\n30. $semilla\n:   857287\n$testing\n:   49368\n$testing_pos\n:   375\n$envios\n:   3358\n$aciertos\n:   210\n$ganancia_test\n:   50420000\n\n\n\n31. $semilla\n:   180623\n$testing\n:   49374\n$testing_pos\n:   377\n$envios\n:   3537\n$aciertos\n:   212\n$ganancia_test\n:   49430000\n\n\n\n32. $semilla\n:   587527\n$testing\n:   49384\n$testing_pos\n:   378\n$envios\n:   3323\n$aciertos\n:   196\n$ganancia_test\n:   45170000\n\n\n\n33. $semilla\n:   324101\n$testing\n:   49380\n$testing_pos\n:   372\n$envios\n:   3989\n$aciertos\n:   215\n$ganancia_test\n:   46110000\n\n\n\n34. $semilla\n:   827833\n$testing\n:   49375\n$testing_pos\n:   375\n$envios\n:   3761\n$aciertos\n:   217\n$ganancia_test\n:   49190000\n\n\n\n35. $semilla\n:   764857\n$testing\n:   49377\n$testing_pos\n:   375\n$envios\n:   3382\n$aciertos\n:   206\n$ganancia_test\n:   48580000\n\n\n\n36. $semilla\n:   144323\n$testing\n:   49374\n$testing_pos\n:   374\n$envios\n:   3811\n$aciertos\n:   206\n$ganancia_test\n:   44290000\n\n\n\n37. $semilla\n:   426131\n$testing\n:   49387\n$testing_pos\n:   381\n$envios\n:   4507\n$aciertos\n:   242\n$ganancia_test\n:   51730000\n\n\n\n38. $semilla\n:   539797\n$testing\n:   49380\n$testing_pos\n:   374\n$envios\n:   2866\n$aciertos\n:   195\n$ganancia_test\n:   49340000\n\n\n\n39. $semilla\n:   155009\n$testing\n:   49375\n$testing_pos\n:   375\n$envios\n:   3575\n$aciertos\n:   181\n$ganancia_test\n:   36650000\n\n\n\n40. $semilla\n:   157897\n$testing\n:   49373\n$testing_pos\n:   374\n$envios\n:   3644\n$aciertos\n:   221\n$ganancia_test\n:   51960000\n\n\n\n41. $semilla\n:   554839\n$testing\n:   49380\n$testing_pos\n:   375\n$envios\n:   2842\n$aciertos\n:   206\n$ganancia_test\n:   53980000\n\n\n\n42. $semilla\n:   164531\n$testing\n:   49379\n$testing_pos\n:   375\n$envios\n:   3788\n$aciertos\n:   215\n$ganancia_test\n:   48120000\n\n\n\n43. $semilla\n:   997427\n$testing\n:   49383\n$testing_pos\n:   377\n$envios\n:   4390\n$aciertos\n:   221\n$ganancia_test\n:   44500000\n\n\n\n44. $semilla\n:   749557\n$testing\n:   49385\n$testing_pos\n:   374\n$envios\n:   4016\n$aciertos\n:   226\n$ganancia_test\n:   50240000\n\n\n\n45. $semilla\n:   894713\n$testing\n:   49384\n$testing_pos\n:   378\n$envios\n:   3248\n$aciertos\n:   205\n$ganancia_test\n:   49520000\n\n\n\n46. $semilla\n:   710557\n$testing\n:   49385\n$testing_pos\n:   382\n$envios\n:   3461\n$aciertos\n:   214\n$ganancia_test\n:   50990000\n\n\n\n47. $semilla\n:   704023\n$testing\n:   49372\n$testing_pos\n:   374\n$envios\n:   3054\n$aciertos\n:   201\n$ganancia_test\n:   49860000\n\n\n\n48. $semilla\n:   259681\n$testing\n:   49385\n$testing_pos\n:   384\n$envios\n:   3198\n$aciertos\n:   209\n$ganancia_test\n:   51620000\n\n\n\n49. $semilla\n:   108377\n$testing\n:   49376\n$testing_pos\n:   376\n$envios\n:   3635\n$aciertos\n:   222\n$ganancia_test\n:   52450000\n\n\n\n50. $semilla\n:   628357\n$testing\n:   49382\n$testing_pos\n:   381\n$envios\n:   3731\n$aciertos\n:   216\n$ganancia_test\n:   49090000\n\n\n\n\n\n",
            "text/latex": "\\begin{enumerate}\n\\item \\begin{description}\n\\item[\\$semilla] 228859\n\\item[\\$testing] 49387\n\\item[\\$testing\\_pos] 378\n\\item[\\$envios] 3025\n\\item[\\$aciertos] 212\n\\item[\\$ganancia\\_test] 54550000\n\\end{description}\n\n\\item \\begin{description}\n\\item[\\$semilla] 784627\n\\item[\\$testing] 49384\n\\item[\\$testing\\_pos] 376\n\\item[\\$envios] 2991\n\\item[\\$aciertos] 199\n\\item[\\$ganancia\\_test] 49690000\n\\end{description}\n\n\\item \\begin{description}\n\\item[\\$semilla] 865483\n\\item[\\$testing] 49394\n\\item[\\$testing\\_pos] 379\n\\item[\\$envios] 3442\n\\item[\\$aciertos] 212\n\\item[\\$ganancia\\_test] 50380000\n\\end{description}\n\n\\item \\begin{description}\n\\item[\\$semilla] 503297\n\\item[\\$testing] 49380\n\\item[\\$testing\\_pos] 375\n\\item[\\$envios] 2828\n\\item[\\$aciertos] 196\n\\item[\\$ganancia\\_test] 50120000\n\\end{description}\n\n\\item \\begin{description}\n\\item[\\$semilla] 883187\n\\item[\\$testing] 49384\n\\item[\\$testing\\_pos] 380\n\\item[\\$envios] 3142\n\\item[\\$aciertos] 200\n\\item[\\$ganancia\\_test] 48580000\n\\end{description}\n\n\\item \\begin{description}\n\\item[\\$semilla] 968251\n\\item[\\$testing] 49379\n\\item[\\$testing\\_pos] 375\n\\item[\\$envios] 2719\n\\item[\\$aciertos] 176\n\\item[\\$ganancia\\_test] 43210000\n\\end{description}\n\n\\item \\begin{description}\n\\item[\\$semilla] 318751\n\\item[\\$testing] 49389\n\\item[\\$testing\\_pos] 374\n\\item[\\$envios] 3721\n\\item[\\$aciertos] 217\n\\item[\\$ganancia\\_test] 49590000\n\\end{description}\n\n\\item \\begin{description}\n\\item[\\$semilla] 245851\n\\item[\\$testing] 49383\n\\item[\\$testing\\_pos] 378\n\\item[\\$envios] 2862\n\\item[\\$aciertos] 199\n\\item[\\$ganancia\\_test] 50980000\n\\end{description}\n\n\\item \\begin{description}\n\\item[\\$semilla] 809579\n\\item[\\$testing] 49385\n\\item[\\$testing\\_pos] 379\n\\item[\\$envios] 4177\n\\item[\\$aciertos] 230\n\\item[\\$ganancia\\_test] 50230000\n\\end{description}\n\n\\item \\begin{description}\n\\item[\\$semilla] 700331\n\\item[\\$testing] 49380\n\\item[\\$testing\\_pos] 371\n\\item[\\$envios] 3379\n\\item[\\$aciertos] 205\n\\item[\\$ganancia\\_test] 48210000\n\\end{description}\n\n\\item \\begin{description}\n\\item[\\$semilla] 168227\n\\item[\\$testing] 49379\n\\item[\\$testing\\_pos] 373\n\\item[\\$envios] 3386\n\\item[\\$aciertos] 190\n\\item[\\$ganancia\\_test] 42140000\n\\end{description}\n\n\\item \\begin{description}\n\\item[\\$semilla] 187003\n\\item[\\$testing] 49383\n\\item[\\$testing\\_pos] 378\n\\item[\\$envios] 3303\n\\item[\\$aciertos] 207\n\\item[\\$ganancia\\_test] 49770000\n\\end{description}\n\n\\item \\begin{description}\n\\item[\\$semilla] 174263\n\\item[\\$testing] 49375\n\\item[\\$testing\\_pos] 373\n\\item[\\$envios] 4124\n\\item[\\$aciertos] 215\n\\item[\\$ganancia\\_test] 44760000\n\\end{description}\n\n\\item \\begin{description}\n\\item[\\$semilla] 702937\n\\item[\\$testing] 49394\n\\item[\\$testing\\_pos] 380\n\\item[\\$envios] 2428\n\\item[\\$aciertos] 195\n\\item[\\$ganancia\\_test] 53720000\n\\end{description}\n\n\\item \\begin{description}\n\\item[\\$semilla] 475831\n\\item[\\$testing] 49375\n\\item[\\$testing\\_pos] 369\n\\item[\\$envios] 3949\n\\item[\\$aciertos] 213\n\\item[\\$ganancia\\_test] 45710000\n\\end{description}\n\n\\item \\begin{description}\n\\item[\\$semilla] 631151\n\\item[\\$testing] 49364\n\\item[\\$testing\\_pos] 372\n\\item[\\$envios] 3189\n\\item[\\$aciertos] 199\n\\item[\\$ganancia\\_test] 47710000\n\\end{description}\n\n\\item \\begin{description}\n\\item[\\$semilla] 509681\n\\item[\\$testing] 49386\n\\item[\\$testing\\_pos] 374\n\\item[\\$envios] 3846\n\\item[\\$aciertos] 225\n\\item[\\$ganancia\\_test] 51540000\n\\end{description}\n\n\\item \\begin{description}\n\\item[\\$semilla] 187069\n\\item[\\$testing] 49383\n\\item[\\$testing\\_pos] 374\n\\item[\\$envios] 4032\n\\item[\\$aciertos] 231\n\\item[\\$ganancia\\_test] 52080000\n\\end{description}\n\n\\item \\begin{description}\n\\item[\\$semilla] 347957\n\\item[\\$testing] 49385\n\\item[\\$testing\\_pos] 380\n\\item[\\$envios] 3628\n\\item[\\$aciertos] 217\n\\item[\\$ganancia\\_test] 50520000\n\\end{description}\n\n\\item \\begin{description}\n\\item[\\$semilla] 931241\n\\item[\\$testing] 49367\n\\item[\\$testing\\_pos] 365\n\\item[\\$envios] 3669\n\\item[\\$aciertos] 211\n\\item[\\$ganancia\\_test] 47710000\n\\end{description}\n\n\\item \\begin{description}\n\\item[\\$semilla] 749081\n\\item[\\$testing] 49375\n\\item[\\$testing\\_pos] 375\n\\item[\\$envios] 2530\n\\item[\\$aciertos] 198\n\\item[\\$ganancia\\_test] 53900000\n\\end{description}\n\n\\item \\begin{description}\n\\item[\\$semilla] 631361\n\\item[\\$testing] 49384\n\\item[\\$testing\\_pos] 372\n\\item[\\$envios] 3364\n\\item[\\$aciertos] 211\n\\item[\\$ganancia\\_test] 50760000\n\\end{description}\n\n\\item \\begin{description}\n\\item[\\$semilla] 140603\n\\item[\\$testing] 49371\n\\item[\\$testing\\_pos] 375\n\\item[\\$envios] 2788\n\\item[\\$aciertos] 193\n\\item[\\$ganancia\\_test] 49320000\n\\end{description}\n\n\\item \\begin{description}\n\\item[\\$semilla] 761603\n\\item[\\$testing] 49381\n\\item[\\$testing\\_pos] 375\n\\item[\\$envios] 3367\n\\item[\\$aciertos] 210\n\\item[\\$ganancia\\_test] 50330000\n\\end{description}\n\n\\item \\begin{description}\n\\item[\\$semilla] 778153\n\\item[\\$testing] 49379\n\\item[\\$testing\\_pos] 379\n\\item[\\$envios] 3561\n\\item[\\$aciertos] 196\n\\item[\\$ganancia\\_test] 42790000\n\\end{description}\n\n\\item \\begin{description}\n\\item[\\$semilla] 759053\n\\item[\\$testing] 49387\n\\item[\\$testing\\_pos] 377\n\\item[\\$envios] 3699\n\\item[\\$aciertos] 206\n\\item[\\$ganancia\\_test] 45410000\n\\end{description}\n\n\\item \\begin{description}\n\\item[\\$semilla] 796871\n\\item[\\$testing] 49377\n\\item[\\$testing\\_pos] 370\n\\item[\\$envios] 3330\n\\item[\\$aciertos] 193\n\\item[\\$ganancia\\_test] 43900000\n\\end{description}\n\n\\item \\begin{description}\n\\item[\\$semilla] 112909\n\\item[\\$testing] 49370\n\\item[\\$testing\\_pos] 372\n\\item[\\$envios] 3968\n\\item[\\$aciertos] 220\n\\item[\\$ganancia\\_test] 48320000\n\\end{description}\n\n\\item \\begin{description}\n\\item[\\$semilla] 581767\n\\item[\\$testing] 49384\n\\item[\\$testing\\_pos] 376\n\\item[\\$envios] 2977\n\\item[\\$aciertos] 188\n\\item[\\$ganancia\\_test] 45430000\n\\end{description}\n\n\\item \\begin{description}\n\\item[\\$semilla] 857287\n\\item[\\$testing] 49368\n\\item[\\$testing\\_pos] 375\n\\item[\\$envios] 3358\n\\item[\\$aciertos] 210\n\\item[\\$ganancia\\_test] 50420000\n\\end{description}\n\n\\item \\begin{description}\n\\item[\\$semilla] 180623\n\\item[\\$testing] 49374\n\\item[\\$testing\\_pos] 377\n\\item[\\$envios] 3537\n\\item[\\$aciertos] 212\n\\item[\\$ganancia\\_test] 49430000\n\\end{description}\n\n\\item \\begin{description}\n\\item[\\$semilla] 587527\n\\item[\\$testing] 49384\n\\item[\\$testing\\_pos] 378\n\\item[\\$envios] 3323\n\\item[\\$aciertos] 196\n\\item[\\$ganancia\\_test] 45170000\n\\end{description}\n\n\\item \\begin{description}\n\\item[\\$semilla] 324101\n\\item[\\$testing] 49380\n\\item[\\$testing\\_pos] 372\n\\item[\\$envios] 3989\n\\item[\\$aciertos] 215\n\\item[\\$ganancia\\_test] 46110000\n\\end{description}\n\n\\item \\begin{description}\n\\item[\\$semilla] 827833\n\\item[\\$testing] 49375\n\\item[\\$testing\\_pos] 375\n\\item[\\$envios] 3761\n\\item[\\$aciertos] 217\n\\item[\\$ganancia\\_test] 49190000\n\\end{description}\n\n\\item \\begin{description}\n\\item[\\$semilla] 764857\n\\item[\\$testing] 49377\n\\item[\\$testing\\_pos] 375\n\\item[\\$envios] 3382\n\\item[\\$aciertos] 206\n\\item[\\$ganancia\\_test] 48580000\n\\end{description}\n\n\\item \\begin{description}\n\\item[\\$semilla] 144323\n\\item[\\$testing] 49374\n\\item[\\$testing\\_pos] 374\n\\item[\\$envios] 3811\n\\item[\\$aciertos] 206\n\\item[\\$ganancia\\_test] 44290000\n\\end{description}\n\n\\item \\begin{description}\n\\item[\\$semilla] 426131\n\\item[\\$testing] 49387\n\\item[\\$testing\\_pos] 381\n\\item[\\$envios] 4507\n\\item[\\$aciertos] 242\n\\item[\\$ganancia\\_test] 51730000\n\\end{description}\n\n\\item \\begin{description}\n\\item[\\$semilla] 539797\n\\item[\\$testing] 49380\n\\item[\\$testing\\_pos] 374\n\\item[\\$envios] 2866\n\\item[\\$aciertos] 195\n\\item[\\$ganancia\\_test] 49340000\n\\end{description}\n\n\\item \\begin{description}\n\\item[\\$semilla] 155009\n\\item[\\$testing] 49375\n\\item[\\$testing\\_pos] 375\n\\item[\\$envios] 3575\n\\item[\\$aciertos] 181\n\\item[\\$ganancia\\_test] 36650000\n\\end{description}\n\n\\item \\begin{description}\n\\item[\\$semilla] 157897\n\\item[\\$testing] 49373\n\\item[\\$testing\\_pos] 374\n\\item[\\$envios] 3644\n\\item[\\$aciertos] 221\n\\item[\\$ganancia\\_test] 51960000\n\\end{description}\n\n\\item \\begin{description}\n\\item[\\$semilla] 554839\n\\item[\\$testing] 49380\n\\item[\\$testing\\_pos] 375\n\\item[\\$envios] 2842\n\\item[\\$aciertos] 206\n\\item[\\$ganancia\\_test] 53980000\n\\end{description}\n\n\\item \\begin{description}\n\\item[\\$semilla] 164531\n\\item[\\$testing] 49379\n\\item[\\$testing\\_pos] 375\n\\item[\\$envios] 3788\n\\item[\\$aciertos] 215\n\\item[\\$ganancia\\_test] 48120000\n\\end{description}\n\n\\item \\begin{description}\n\\item[\\$semilla] 997427\n\\item[\\$testing] 49383\n\\item[\\$testing\\_pos] 377\n\\item[\\$envios] 4390\n\\item[\\$aciertos] 221\n\\item[\\$ganancia\\_test] 44500000\n\\end{description}\n\n\\item \\begin{description}\n\\item[\\$semilla] 749557\n\\item[\\$testing] 49385\n\\item[\\$testing\\_pos] 374\n\\item[\\$envios] 4016\n\\item[\\$aciertos] 226\n\\item[\\$ganancia\\_test] 50240000\n\\end{description}\n\n\\item \\begin{description}\n\\item[\\$semilla] 894713\n\\item[\\$testing] 49384\n\\item[\\$testing\\_pos] 378\n\\item[\\$envios] 3248\n\\item[\\$aciertos] 205\n\\item[\\$ganancia\\_test] 49520000\n\\end{description}\n\n\\item \\begin{description}\n\\item[\\$semilla] 710557\n\\item[\\$testing] 49385\n\\item[\\$testing\\_pos] 382\n\\item[\\$envios] 3461\n\\item[\\$aciertos] 214\n\\item[\\$ganancia\\_test] 50990000\n\\end{description}\n\n\\item \\begin{description}\n\\item[\\$semilla] 704023\n\\item[\\$testing] 49372\n\\item[\\$testing\\_pos] 374\n\\item[\\$envios] 3054\n\\item[\\$aciertos] 201\n\\item[\\$ganancia\\_test] 49860000\n\\end{description}\n\n\\item \\begin{description}\n\\item[\\$semilla] 259681\n\\item[\\$testing] 49385\n\\item[\\$testing\\_pos] 384\n\\item[\\$envios] 3198\n\\item[\\$aciertos] 209\n\\item[\\$ganancia\\_test] 51620000\n\\end{description}\n\n\\item \\begin{description}\n\\item[\\$semilla] 108377\n\\item[\\$testing] 49376\n\\item[\\$testing\\_pos] 376\n\\item[\\$envios] 3635\n\\item[\\$aciertos] 222\n\\item[\\$ganancia\\_test] 52450000\n\\end{description}\n\n\\item \\begin{description}\n\\item[\\$semilla] 628357\n\\item[\\$testing] 49382\n\\item[\\$testing\\_pos] 381\n\\item[\\$envios] 3731\n\\item[\\$aciertos] 216\n\\item[\\$ganancia\\_test] 49090000\n\\end{description}\n\n\\end{enumerate}\n",
            "text/plain": [
              "[[1]]\n",
              "[[1]]$semilla\n",
              "[1] 228859\n",
              "\n",
              "[[1]]$testing\n",
              "[1] 49387\n",
              "\n",
              "[[1]]$testing_pos\n",
              "[1] 378\n",
              "\n",
              "[[1]]$envios\n",
              "[1] 3025\n",
              "\n",
              "[[1]]$aciertos\n",
              "[1] 212\n",
              "\n",
              "[[1]]$ganancia_test\n",
              "[1] 54550000\n",
              "\n",
              "\n",
              "[[2]]\n",
              "[[2]]$semilla\n",
              "[1] 784627\n",
              "\n",
              "[[2]]$testing\n",
              "[1] 49384\n",
              "\n",
              "[[2]]$testing_pos\n",
              "[1] 376\n",
              "\n",
              "[[2]]$envios\n",
              "[1] 2991\n",
              "\n",
              "[[2]]$aciertos\n",
              "[1] 199\n",
              "\n",
              "[[2]]$ganancia_test\n",
              "[1] 49690000\n",
              "\n",
              "\n",
              "[[3]]\n",
              "[[3]]$semilla\n",
              "[1] 865483\n",
              "\n",
              "[[3]]$testing\n",
              "[1] 49394\n",
              "\n",
              "[[3]]$testing_pos\n",
              "[1] 379\n",
              "\n",
              "[[3]]$envios\n",
              "[1] 3442\n",
              "\n",
              "[[3]]$aciertos\n",
              "[1] 212\n",
              "\n",
              "[[3]]$ganancia_test\n",
              "[1] 50380000\n",
              "\n",
              "\n",
              "[[4]]\n",
              "[[4]]$semilla\n",
              "[1] 503297\n",
              "\n",
              "[[4]]$testing\n",
              "[1] 49380\n",
              "\n",
              "[[4]]$testing_pos\n",
              "[1] 375\n",
              "\n",
              "[[4]]$envios\n",
              "[1] 2828\n",
              "\n",
              "[[4]]$aciertos\n",
              "[1] 196\n",
              "\n",
              "[[4]]$ganancia_test\n",
              "[1] 50120000\n",
              "\n",
              "\n",
              "[[5]]\n",
              "[[5]]$semilla\n",
              "[1] 883187\n",
              "\n",
              "[[5]]$testing\n",
              "[1] 49384\n",
              "\n",
              "[[5]]$testing_pos\n",
              "[1] 380\n",
              "\n",
              "[[5]]$envios\n",
              "[1] 3142\n",
              "\n",
              "[[5]]$aciertos\n",
              "[1] 200\n",
              "\n",
              "[[5]]$ganancia_test\n",
              "[1] 48580000\n",
              "\n",
              "\n",
              "[[6]]\n",
              "[[6]]$semilla\n",
              "[1] 968251\n",
              "\n",
              "[[6]]$testing\n",
              "[1] 49379\n",
              "\n",
              "[[6]]$testing_pos\n",
              "[1] 375\n",
              "\n",
              "[[6]]$envios\n",
              "[1] 2719\n",
              "\n",
              "[[6]]$aciertos\n",
              "[1] 176\n",
              "\n",
              "[[6]]$ganancia_test\n",
              "[1] 43210000\n",
              "\n",
              "\n",
              "[[7]]\n",
              "[[7]]$semilla\n",
              "[1] 318751\n",
              "\n",
              "[[7]]$testing\n",
              "[1] 49389\n",
              "\n",
              "[[7]]$testing_pos\n",
              "[1] 374\n",
              "\n",
              "[[7]]$envios\n",
              "[1] 3721\n",
              "\n",
              "[[7]]$aciertos\n",
              "[1] 217\n",
              "\n",
              "[[7]]$ganancia_test\n",
              "[1] 49590000\n",
              "\n",
              "\n",
              "[[8]]\n",
              "[[8]]$semilla\n",
              "[1] 245851\n",
              "\n",
              "[[8]]$testing\n",
              "[1] 49383\n",
              "\n",
              "[[8]]$testing_pos\n",
              "[1] 378\n",
              "\n",
              "[[8]]$envios\n",
              "[1] 2862\n",
              "\n",
              "[[8]]$aciertos\n",
              "[1] 199\n",
              "\n",
              "[[8]]$ganancia_test\n",
              "[1] 50980000\n",
              "\n",
              "\n",
              "[[9]]\n",
              "[[9]]$semilla\n",
              "[1] 809579\n",
              "\n",
              "[[9]]$testing\n",
              "[1] 49385\n",
              "\n",
              "[[9]]$testing_pos\n",
              "[1] 379\n",
              "\n",
              "[[9]]$envios\n",
              "[1] 4177\n",
              "\n",
              "[[9]]$aciertos\n",
              "[1] 230\n",
              "\n",
              "[[9]]$ganancia_test\n",
              "[1] 50230000\n",
              "\n",
              "\n",
              "[[10]]\n",
              "[[10]]$semilla\n",
              "[1] 700331\n",
              "\n",
              "[[10]]$testing\n",
              "[1] 49380\n",
              "\n",
              "[[10]]$testing_pos\n",
              "[1] 371\n",
              "\n",
              "[[10]]$envios\n",
              "[1] 3379\n",
              "\n",
              "[[10]]$aciertos\n",
              "[1] 205\n",
              "\n",
              "[[10]]$ganancia_test\n",
              "[1] 48210000\n",
              "\n",
              "\n",
              "[[11]]\n",
              "[[11]]$semilla\n",
              "[1] 168227\n",
              "\n",
              "[[11]]$testing\n",
              "[1] 49379\n",
              "\n",
              "[[11]]$testing_pos\n",
              "[1] 373\n",
              "\n",
              "[[11]]$envios\n",
              "[1] 3386\n",
              "\n",
              "[[11]]$aciertos\n",
              "[1] 190\n",
              "\n",
              "[[11]]$ganancia_test\n",
              "[1] 42140000\n",
              "\n",
              "\n",
              "[[12]]\n",
              "[[12]]$semilla\n",
              "[1] 187003\n",
              "\n",
              "[[12]]$testing\n",
              "[1] 49383\n",
              "\n",
              "[[12]]$testing_pos\n",
              "[1] 378\n",
              "\n",
              "[[12]]$envios\n",
              "[1] 3303\n",
              "\n",
              "[[12]]$aciertos\n",
              "[1] 207\n",
              "\n",
              "[[12]]$ganancia_test\n",
              "[1] 49770000\n",
              "\n",
              "\n",
              "[[13]]\n",
              "[[13]]$semilla\n",
              "[1] 174263\n",
              "\n",
              "[[13]]$testing\n",
              "[1] 49375\n",
              "\n",
              "[[13]]$testing_pos\n",
              "[1] 373\n",
              "\n",
              "[[13]]$envios\n",
              "[1] 4124\n",
              "\n",
              "[[13]]$aciertos\n",
              "[1] 215\n",
              "\n",
              "[[13]]$ganancia_test\n",
              "[1] 44760000\n",
              "\n",
              "\n",
              "[[14]]\n",
              "[[14]]$semilla\n",
              "[1] 702937\n",
              "\n",
              "[[14]]$testing\n",
              "[1] 49394\n",
              "\n",
              "[[14]]$testing_pos\n",
              "[1] 380\n",
              "\n",
              "[[14]]$envios\n",
              "[1] 2428\n",
              "\n",
              "[[14]]$aciertos\n",
              "[1] 195\n",
              "\n",
              "[[14]]$ganancia_test\n",
              "[1] 53720000\n",
              "\n",
              "\n",
              "[[15]]\n",
              "[[15]]$semilla\n",
              "[1] 475831\n",
              "\n",
              "[[15]]$testing\n",
              "[1] 49375\n",
              "\n",
              "[[15]]$testing_pos\n",
              "[1] 369\n",
              "\n",
              "[[15]]$envios\n",
              "[1] 3949\n",
              "\n",
              "[[15]]$aciertos\n",
              "[1] 213\n",
              "\n",
              "[[15]]$ganancia_test\n",
              "[1] 45710000\n",
              "\n",
              "\n",
              "[[16]]\n",
              "[[16]]$semilla\n",
              "[1] 631151\n",
              "\n",
              "[[16]]$testing\n",
              "[1] 49364\n",
              "\n",
              "[[16]]$testing_pos\n",
              "[1] 372\n",
              "\n",
              "[[16]]$envios\n",
              "[1] 3189\n",
              "\n",
              "[[16]]$aciertos\n",
              "[1] 199\n",
              "\n",
              "[[16]]$ganancia_test\n",
              "[1] 47710000\n",
              "\n",
              "\n",
              "[[17]]\n",
              "[[17]]$semilla\n",
              "[1] 509681\n",
              "\n",
              "[[17]]$testing\n",
              "[1] 49386\n",
              "\n",
              "[[17]]$testing_pos\n",
              "[1] 374\n",
              "\n",
              "[[17]]$envios\n",
              "[1] 3846\n",
              "\n",
              "[[17]]$aciertos\n",
              "[1] 225\n",
              "\n",
              "[[17]]$ganancia_test\n",
              "[1] 51540000\n",
              "\n",
              "\n",
              "[[18]]\n",
              "[[18]]$semilla\n",
              "[1] 187069\n",
              "\n",
              "[[18]]$testing\n",
              "[1] 49383\n",
              "\n",
              "[[18]]$testing_pos\n",
              "[1] 374\n",
              "\n",
              "[[18]]$envios\n",
              "[1] 4032\n",
              "\n",
              "[[18]]$aciertos\n",
              "[1] 231\n",
              "\n",
              "[[18]]$ganancia_test\n",
              "[1] 52080000\n",
              "\n",
              "\n",
              "[[19]]\n",
              "[[19]]$semilla\n",
              "[1] 347957\n",
              "\n",
              "[[19]]$testing\n",
              "[1] 49385\n",
              "\n",
              "[[19]]$testing_pos\n",
              "[1] 380\n",
              "\n",
              "[[19]]$envios\n",
              "[1] 3628\n",
              "\n",
              "[[19]]$aciertos\n",
              "[1] 217\n",
              "\n",
              "[[19]]$ganancia_test\n",
              "[1] 50520000\n",
              "\n",
              "\n",
              "[[20]]\n",
              "[[20]]$semilla\n",
              "[1] 931241\n",
              "\n",
              "[[20]]$testing\n",
              "[1] 49367\n",
              "\n",
              "[[20]]$testing_pos\n",
              "[1] 365\n",
              "\n",
              "[[20]]$envios\n",
              "[1] 3669\n",
              "\n",
              "[[20]]$aciertos\n",
              "[1] 211\n",
              "\n",
              "[[20]]$ganancia_test\n",
              "[1] 47710000\n",
              "\n",
              "\n",
              "[[21]]\n",
              "[[21]]$semilla\n",
              "[1] 749081\n",
              "\n",
              "[[21]]$testing\n",
              "[1] 49375\n",
              "\n",
              "[[21]]$testing_pos\n",
              "[1] 375\n",
              "\n",
              "[[21]]$envios\n",
              "[1] 2530\n",
              "\n",
              "[[21]]$aciertos\n",
              "[1] 198\n",
              "\n",
              "[[21]]$ganancia_test\n",
              "[1] 53900000\n",
              "\n",
              "\n",
              "[[22]]\n",
              "[[22]]$semilla\n",
              "[1] 631361\n",
              "\n",
              "[[22]]$testing\n",
              "[1] 49384\n",
              "\n",
              "[[22]]$testing_pos\n",
              "[1] 372\n",
              "\n",
              "[[22]]$envios\n",
              "[1] 3364\n",
              "\n",
              "[[22]]$aciertos\n",
              "[1] 211\n",
              "\n",
              "[[22]]$ganancia_test\n",
              "[1] 50760000\n",
              "\n",
              "\n",
              "[[23]]\n",
              "[[23]]$semilla\n",
              "[1] 140603\n",
              "\n",
              "[[23]]$testing\n",
              "[1] 49371\n",
              "\n",
              "[[23]]$testing_pos\n",
              "[1] 375\n",
              "\n",
              "[[23]]$envios\n",
              "[1] 2788\n",
              "\n",
              "[[23]]$aciertos\n",
              "[1] 193\n",
              "\n",
              "[[23]]$ganancia_test\n",
              "[1] 49320000\n",
              "\n",
              "\n",
              "[[24]]\n",
              "[[24]]$semilla\n",
              "[1] 761603\n",
              "\n",
              "[[24]]$testing\n",
              "[1] 49381\n",
              "\n",
              "[[24]]$testing_pos\n",
              "[1] 375\n",
              "\n",
              "[[24]]$envios\n",
              "[1] 3367\n",
              "\n",
              "[[24]]$aciertos\n",
              "[1] 210\n",
              "\n",
              "[[24]]$ganancia_test\n",
              "[1] 50330000\n",
              "\n",
              "\n",
              "[[25]]\n",
              "[[25]]$semilla\n",
              "[1] 778153\n",
              "\n",
              "[[25]]$testing\n",
              "[1] 49379\n",
              "\n",
              "[[25]]$testing_pos\n",
              "[1] 379\n",
              "\n",
              "[[25]]$envios\n",
              "[1] 3561\n",
              "\n",
              "[[25]]$aciertos\n",
              "[1] 196\n",
              "\n",
              "[[25]]$ganancia_test\n",
              "[1] 42790000\n",
              "\n",
              "\n",
              "[[26]]\n",
              "[[26]]$semilla\n",
              "[1] 759053\n",
              "\n",
              "[[26]]$testing\n",
              "[1] 49387\n",
              "\n",
              "[[26]]$testing_pos\n",
              "[1] 377\n",
              "\n",
              "[[26]]$envios\n",
              "[1] 3699\n",
              "\n",
              "[[26]]$aciertos\n",
              "[1] 206\n",
              "\n",
              "[[26]]$ganancia_test\n",
              "[1] 45410000\n",
              "\n",
              "\n",
              "[[27]]\n",
              "[[27]]$semilla\n",
              "[1] 796871\n",
              "\n",
              "[[27]]$testing\n",
              "[1] 49377\n",
              "\n",
              "[[27]]$testing_pos\n",
              "[1] 370\n",
              "\n",
              "[[27]]$envios\n",
              "[1] 3330\n",
              "\n",
              "[[27]]$aciertos\n",
              "[1] 193\n",
              "\n",
              "[[27]]$ganancia_test\n",
              "[1] 43900000\n",
              "\n",
              "\n",
              "[[28]]\n",
              "[[28]]$semilla\n",
              "[1] 112909\n",
              "\n",
              "[[28]]$testing\n",
              "[1] 49370\n",
              "\n",
              "[[28]]$testing_pos\n",
              "[1] 372\n",
              "\n",
              "[[28]]$envios\n",
              "[1] 3968\n",
              "\n",
              "[[28]]$aciertos\n",
              "[1] 220\n",
              "\n",
              "[[28]]$ganancia_test\n",
              "[1] 48320000\n",
              "\n",
              "\n",
              "[[29]]\n",
              "[[29]]$semilla\n",
              "[1] 581767\n",
              "\n",
              "[[29]]$testing\n",
              "[1] 49384\n",
              "\n",
              "[[29]]$testing_pos\n",
              "[1] 376\n",
              "\n",
              "[[29]]$envios\n",
              "[1] 2977\n",
              "\n",
              "[[29]]$aciertos\n",
              "[1] 188\n",
              "\n",
              "[[29]]$ganancia_test\n",
              "[1] 45430000\n",
              "\n",
              "\n",
              "[[30]]\n",
              "[[30]]$semilla\n",
              "[1] 857287\n",
              "\n",
              "[[30]]$testing\n",
              "[1] 49368\n",
              "\n",
              "[[30]]$testing_pos\n",
              "[1] 375\n",
              "\n",
              "[[30]]$envios\n",
              "[1] 3358\n",
              "\n",
              "[[30]]$aciertos\n",
              "[1] 210\n",
              "\n",
              "[[30]]$ganancia_test\n",
              "[1] 50420000\n",
              "\n",
              "\n",
              "[[31]]\n",
              "[[31]]$semilla\n",
              "[1] 180623\n",
              "\n",
              "[[31]]$testing\n",
              "[1] 49374\n",
              "\n",
              "[[31]]$testing_pos\n",
              "[1] 377\n",
              "\n",
              "[[31]]$envios\n",
              "[1] 3537\n",
              "\n",
              "[[31]]$aciertos\n",
              "[1] 212\n",
              "\n",
              "[[31]]$ganancia_test\n",
              "[1] 49430000\n",
              "\n",
              "\n",
              "[[32]]\n",
              "[[32]]$semilla\n",
              "[1] 587527\n",
              "\n",
              "[[32]]$testing\n",
              "[1] 49384\n",
              "\n",
              "[[32]]$testing_pos\n",
              "[1] 378\n",
              "\n",
              "[[32]]$envios\n",
              "[1] 3323\n",
              "\n",
              "[[32]]$aciertos\n",
              "[1] 196\n",
              "\n",
              "[[32]]$ganancia_test\n",
              "[1] 45170000\n",
              "\n",
              "\n",
              "[[33]]\n",
              "[[33]]$semilla\n",
              "[1] 324101\n",
              "\n",
              "[[33]]$testing\n",
              "[1] 49380\n",
              "\n",
              "[[33]]$testing_pos\n",
              "[1] 372\n",
              "\n",
              "[[33]]$envios\n",
              "[1] 3989\n",
              "\n",
              "[[33]]$aciertos\n",
              "[1] 215\n",
              "\n",
              "[[33]]$ganancia_test\n",
              "[1] 46110000\n",
              "\n",
              "\n",
              "[[34]]\n",
              "[[34]]$semilla\n",
              "[1] 827833\n",
              "\n",
              "[[34]]$testing\n",
              "[1] 49375\n",
              "\n",
              "[[34]]$testing_pos\n",
              "[1] 375\n",
              "\n",
              "[[34]]$envios\n",
              "[1] 3761\n",
              "\n",
              "[[34]]$aciertos\n",
              "[1] 217\n",
              "\n",
              "[[34]]$ganancia_test\n",
              "[1] 49190000\n",
              "\n",
              "\n",
              "[[35]]\n",
              "[[35]]$semilla\n",
              "[1] 764857\n",
              "\n",
              "[[35]]$testing\n",
              "[1] 49377\n",
              "\n",
              "[[35]]$testing_pos\n",
              "[1] 375\n",
              "\n",
              "[[35]]$envios\n",
              "[1] 3382\n",
              "\n",
              "[[35]]$aciertos\n",
              "[1] 206\n",
              "\n",
              "[[35]]$ganancia_test\n",
              "[1] 48580000\n",
              "\n",
              "\n",
              "[[36]]\n",
              "[[36]]$semilla\n",
              "[1] 144323\n",
              "\n",
              "[[36]]$testing\n",
              "[1] 49374\n",
              "\n",
              "[[36]]$testing_pos\n",
              "[1] 374\n",
              "\n",
              "[[36]]$envios\n",
              "[1] 3811\n",
              "\n",
              "[[36]]$aciertos\n",
              "[1] 206\n",
              "\n",
              "[[36]]$ganancia_test\n",
              "[1] 44290000\n",
              "\n",
              "\n",
              "[[37]]\n",
              "[[37]]$semilla\n",
              "[1] 426131\n",
              "\n",
              "[[37]]$testing\n",
              "[1] 49387\n",
              "\n",
              "[[37]]$testing_pos\n",
              "[1] 381\n",
              "\n",
              "[[37]]$envios\n",
              "[1] 4507\n",
              "\n",
              "[[37]]$aciertos\n",
              "[1] 242\n",
              "\n",
              "[[37]]$ganancia_test\n",
              "[1] 51730000\n",
              "\n",
              "\n",
              "[[38]]\n",
              "[[38]]$semilla\n",
              "[1] 539797\n",
              "\n",
              "[[38]]$testing\n",
              "[1] 49380\n",
              "\n",
              "[[38]]$testing_pos\n",
              "[1] 374\n",
              "\n",
              "[[38]]$envios\n",
              "[1] 2866\n",
              "\n",
              "[[38]]$aciertos\n",
              "[1] 195\n",
              "\n",
              "[[38]]$ganancia_test\n",
              "[1] 49340000\n",
              "\n",
              "\n",
              "[[39]]\n",
              "[[39]]$semilla\n",
              "[1] 155009\n",
              "\n",
              "[[39]]$testing\n",
              "[1] 49375\n",
              "\n",
              "[[39]]$testing_pos\n",
              "[1] 375\n",
              "\n",
              "[[39]]$envios\n",
              "[1] 3575\n",
              "\n",
              "[[39]]$aciertos\n",
              "[1] 181\n",
              "\n",
              "[[39]]$ganancia_test\n",
              "[1] 36650000\n",
              "\n",
              "\n",
              "[[40]]\n",
              "[[40]]$semilla\n",
              "[1] 157897\n",
              "\n",
              "[[40]]$testing\n",
              "[1] 49373\n",
              "\n",
              "[[40]]$testing_pos\n",
              "[1] 374\n",
              "\n",
              "[[40]]$envios\n",
              "[1] 3644\n",
              "\n",
              "[[40]]$aciertos\n",
              "[1] 221\n",
              "\n",
              "[[40]]$ganancia_test\n",
              "[1] 51960000\n",
              "\n",
              "\n",
              "[[41]]\n",
              "[[41]]$semilla\n",
              "[1] 554839\n",
              "\n",
              "[[41]]$testing\n",
              "[1] 49380\n",
              "\n",
              "[[41]]$testing_pos\n",
              "[1] 375\n",
              "\n",
              "[[41]]$envios\n",
              "[1] 2842\n",
              "\n",
              "[[41]]$aciertos\n",
              "[1] 206\n",
              "\n",
              "[[41]]$ganancia_test\n",
              "[1] 53980000\n",
              "\n",
              "\n",
              "[[42]]\n",
              "[[42]]$semilla\n",
              "[1] 164531\n",
              "\n",
              "[[42]]$testing\n",
              "[1] 49379\n",
              "\n",
              "[[42]]$testing_pos\n",
              "[1] 375\n",
              "\n",
              "[[42]]$envios\n",
              "[1] 3788\n",
              "\n",
              "[[42]]$aciertos\n",
              "[1] 215\n",
              "\n",
              "[[42]]$ganancia_test\n",
              "[1] 48120000\n",
              "\n",
              "\n",
              "[[43]]\n",
              "[[43]]$semilla\n",
              "[1] 997427\n",
              "\n",
              "[[43]]$testing\n",
              "[1] 49383\n",
              "\n",
              "[[43]]$testing_pos\n",
              "[1] 377\n",
              "\n",
              "[[43]]$envios\n",
              "[1] 4390\n",
              "\n",
              "[[43]]$aciertos\n",
              "[1] 221\n",
              "\n",
              "[[43]]$ganancia_test\n",
              "[1] 44500000\n",
              "\n",
              "\n",
              "[[44]]\n",
              "[[44]]$semilla\n",
              "[1] 749557\n",
              "\n",
              "[[44]]$testing\n",
              "[1] 49385\n",
              "\n",
              "[[44]]$testing_pos\n",
              "[1] 374\n",
              "\n",
              "[[44]]$envios\n",
              "[1] 4016\n",
              "\n",
              "[[44]]$aciertos\n",
              "[1] 226\n",
              "\n",
              "[[44]]$ganancia_test\n",
              "[1] 50240000\n",
              "\n",
              "\n",
              "[[45]]\n",
              "[[45]]$semilla\n",
              "[1] 894713\n",
              "\n",
              "[[45]]$testing\n",
              "[1] 49384\n",
              "\n",
              "[[45]]$testing_pos\n",
              "[1] 378\n",
              "\n",
              "[[45]]$envios\n",
              "[1] 3248\n",
              "\n",
              "[[45]]$aciertos\n",
              "[1] 205\n",
              "\n",
              "[[45]]$ganancia_test\n",
              "[1] 49520000\n",
              "\n",
              "\n",
              "[[46]]\n",
              "[[46]]$semilla\n",
              "[1] 710557\n",
              "\n",
              "[[46]]$testing\n",
              "[1] 49385\n",
              "\n",
              "[[46]]$testing_pos\n",
              "[1] 382\n",
              "\n",
              "[[46]]$envios\n",
              "[1] 3461\n",
              "\n",
              "[[46]]$aciertos\n",
              "[1] 214\n",
              "\n",
              "[[46]]$ganancia_test\n",
              "[1] 50990000\n",
              "\n",
              "\n",
              "[[47]]\n",
              "[[47]]$semilla\n",
              "[1] 704023\n",
              "\n",
              "[[47]]$testing\n",
              "[1] 49372\n",
              "\n",
              "[[47]]$testing_pos\n",
              "[1] 374\n",
              "\n",
              "[[47]]$envios\n",
              "[1] 3054\n",
              "\n",
              "[[47]]$aciertos\n",
              "[1] 201\n",
              "\n",
              "[[47]]$ganancia_test\n",
              "[1] 49860000\n",
              "\n",
              "\n",
              "[[48]]\n",
              "[[48]]$semilla\n",
              "[1] 259681\n",
              "\n",
              "[[48]]$testing\n",
              "[1] 49385\n",
              "\n",
              "[[48]]$testing_pos\n",
              "[1] 384\n",
              "\n",
              "[[48]]$envios\n",
              "[1] 3198\n",
              "\n",
              "[[48]]$aciertos\n",
              "[1] 209\n",
              "\n",
              "[[48]]$ganancia_test\n",
              "[1] 51620000\n",
              "\n",
              "\n",
              "[[49]]\n",
              "[[49]]$semilla\n",
              "[1] 108377\n",
              "\n",
              "[[49]]$testing\n",
              "[1] 49376\n",
              "\n",
              "[[49]]$testing_pos\n",
              "[1] 376\n",
              "\n",
              "[[49]]$envios\n",
              "[1] 3635\n",
              "\n",
              "[[49]]$aciertos\n",
              "[1] 222\n",
              "\n",
              "[[49]]$ganancia_test\n",
              "[1] 52450000\n",
              "\n",
              "\n",
              "[[50]]\n",
              "[[50]]$semilla\n",
              "[1] 628357\n",
              "\n",
              "[[50]]$testing\n",
              "[1] 49382\n",
              "\n",
              "[[50]]$testing_pos\n",
              "[1] 381\n",
              "\n",
              "[[50]]$envios\n",
              "[1] 3731\n",
              "\n",
              "[[50]]$aciertos\n",
              "[1] 216\n",
              "\n",
              "[[50]]$ganancia_test\n",
              "[1] 49090000\n",
              "\n"
            ]
          },
          "metadata": {}
        }
      ]
    },
    {
      "cell_type": "code",
      "source": [
        "# paso la lista a vector\n",
        "tb_salida <- rbindlist(salidas)\n",
        "print( tb_salida)"
      ],
      "metadata": {
        "id": "unGWiKRMGimU",
        "outputId": "6168a6e5-7354-4216-f712-f878e14cf71b",
        "colab": {
          "base_uri": "https://localhost:8080/"
        }
      },
      "execution_count": null,
      "outputs": [
        {
          "output_type": "stream",
          "name": "stdout",
          "text": [
            "    semilla testing testing_pos envios aciertos ganancia_test\n",
            "      <int>   <int>       <int>  <int>    <int>         <num>\n",
            " 1:  228859   49387         378   3025      212      54550000\n",
            " 2:  784627   49384         376   2991      199      49690000\n",
            " 3:  865483   49394         379   3442      212      50380000\n",
            " 4:  503297   49380         375   2828      196      50120000\n",
            " 5:  883187   49384         380   3142      200      48580000\n",
            " 6:  968251   49379         375   2719      176      43210000\n",
            " 7:  318751   49389         374   3721      217      49590000\n",
            " 8:  245851   49383         378   2862      199      50980000\n",
            " 9:  809579   49385         379   4177      230      50230000\n",
            "10:  700331   49380         371   3379      205      48210000\n",
            "11:  168227   49379         373   3386      190      42140000\n",
            "12:  187003   49383         378   3303      207      49770000\n",
            "13:  174263   49375         373   4124      215      44760000\n",
            "14:  702937   49394         380   2428      195      53720000\n",
            "15:  475831   49375         369   3949      213      45710000\n",
            "16:  631151   49364         372   3189      199      47710000\n",
            "17:  509681   49386         374   3846      225      51540000\n",
            "18:  187069   49383         374   4032      231      52080000\n",
            "19:  347957   49385         380   3628      217      50520000\n",
            "20:  931241   49367         365   3669      211      47710000\n",
            "21:  749081   49375         375   2530      198      53900000\n",
            "22:  631361   49384         372   3364      211      50760000\n",
            "23:  140603   49371         375   2788      193      49320000\n",
            "24:  761603   49381         375   3367      210      50330000\n",
            "25:  778153   49379         379   3561      196      42790000\n",
            "26:  759053   49387         377   3699      206      45410000\n",
            "27:  796871   49377         370   3330      193      43900000\n",
            "28:  112909   49370         372   3968      220      48320000\n",
            "29:  581767   49384         376   2977      188      45430000\n",
            "30:  857287   49368         375   3358      210      50420000\n",
            "31:  180623   49374         377   3537      212      49430000\n",
            "32:  587527   49384         378   3323      196      45170000\n",
            "33:  324101   49380         372   3989      215      46110000\n",
            "34:  827833   49375         375   3761      217      49190000\n",
            "35:  764857   49377         375   3382      206      48580000\n",
            "36:  144323   49374         374   3811      206      44290000\n",
            "37:  426131   49387         381   4507      242      51730000\n",
            "38:  539797   49380         374   2866      195      49340000\n",
            "39:  155009   49375         375   3575      181      36650000\n",
            "40:  157897   49373         374   3644      221      51960000\n",
            "41:  554839   49380         375   2842      206      53980000\n",
            "42:  164531   49379         375   3788      215      48120000\n",
            "43:  997427   49383         377   4390      221      44500000\n",
            "44:  749557   49385         374   4016      226      50240000\n",
            "45:  894713   49384         378   3248      205      49520000\n",
            "46:  710557   49385         382   3461      214      50990000\n",
            "47:  704023   49372         374   3054      201      49860000\n",
            "48:  259681   49385         384   3198      209      51620000\n",
            "49:  108377   49376         376   3635      222      52450000\n",
            "50:  628357   49382         381   3731      216      49090000\n",
            "    semilla testing testing_pos envios aciertos ganancia_test\n"
          ]
        }
      ]
    },
    {
      "cell_type": "code",
      "source": [
        "# calulo la salida\n",
        "for( i in seq(10, 50, 10) )\n",
        "{\n",
        "  cat( i, \"\\t\", tb_salida[ 1:i, mean(ganancia_test)], \"\\n\" )\n",
        "}\n"
      ],
      "metadata": {
        "id": "oGoadhBKGimV",
        "outputId": "ef3c1a6b-6938-48ad-a013-a70ed52c3c8f",
        "colab": {
          "base_uri": "https://localhost:8080/"
        }
      },
      "execution_count": null,
      "outputs": [
        {
          "output_type": "stream",
          "name": "stdout",
          "text": [
            "10 \t 49554000 \n",
            "20 \t 49060000 \n",
            "30 \t 48726000 \n",
            "40 \t 48355750 \n",
            "50 \t 48692000 \n"
          ]
        }
      ]
    },
    {
      "cell_type": "markdown",
      "source": [
        "### Acciones a realizar\n",
        "* Reportar la  los resultados en la planilla colaborativa hoja  **C2-nsem**\n",
        "* Se discutirá en clase la variabilidad de las distintas cantidades de semillas"
      ],
      "metadata": {
        "id": "dO9yQKt7GimV"
      }
    },
    {
      "cell_type": "markdown",
      "source": [
        "\n",
        "\n",
        "---\n",
        "\n"
      ],
      "metadata": {
        "id": "ziFKwIlBGimW"
      }
    },
    {
      "cell_type": "markdown",
      "source": [
        "# 5  DiezMil -Monte Carlo Cross Validation\n",
        "## Clase 02  Experimento 5"
      ],
      "metadata": {
        "id": "2jncHe-KJLUg"
      }
    },
    {
      "cell_type": "markdown",
      "source": [
        "Mostrar a los estudiantes el resultado de un experimento en donde se ha corrido una Monte Carlo Cross Validation utilizando diez mil semillas y relacionar la cantidad de semillas con el resultado del Teorema Central del Límite\n",
        "<br>Los resultados se muestran en esta misma guia y se comentan en clase,Bajo ningún concepto se solicitará a l@s estudiantes hacer este experimento en clase ya que lleva varias horas en correr.\n"
      ],
      "metadata": {
        "id": "vUzSGZGOJZq8"
      }
    },
    {
      "cell_type": "markdown",
      "source": [
        "Aqui usted NO debe correr absolutamente nada, el experimento ya fue corrido por la cátedra y le muestra los resultados."
      ],
      "metadata": {
        "id": "G0YGjTMxuTSg"
      }
    },
    {
      "cell_type": "markdown",
      "source": [
        "## 5.1\n",
        "Estos resultados han sido corridos por la cátedra.\n",
        "\n",
        "![Distribucion de las ganancias](https://storage.googleapis.com/open-courses/austral2025-af91/labo1r/C2_E5_distribucion.jpg)"
      ],
      "metadata": {
        "id": "7NRUb3WtJikc"
      }
    },
    {
      "cell_type": "markdown",
      "source": [
        "![salida](https://storage.googleapis.com/open-courses/austral2025-af91/labo1r/C2_E5_salida.jpg)"
      ],
      "metadata": {
        "id": "tZ4X8wdSKc7G"
      }
    },
    {
      "cell_type": "markdown",
      "source": [
        "![tabla](https://storage.googleapis.com/open-courses/austral2025-af91/labo1r/C2_E5_tabla.jpg)\n",
        "\n",
        " 2    ~    1,96  =  3605406.2 / 1836264.3\n",
        "\n",
        "Por el teorema central del límite, un aumento de 4 veces de la cantidad de registros que se promedian el desvio estandar disminuye 2 veces ,  raiz(4 ) = 2"
      ],
      "metadata": {
        "id": "EsL5ukNWKS71"
      }
    },
    {
      "cell_type": "markdown",
      "source": [
        "\n",
        "\n",
        "---\n",
        "\n"
      ],
      "metadata": {
        "id": "OTLq8TC4LR0c"
      }
    },
    {
      "cell_type": "markdown",
      "source": [
        "# 6 Comparando dos distintos  modelos\n",
        "## Clase 02  Experimento 6"
      ],
      "metadata": {
        "id": "sAS1bfL8LmBv"
      }
    },
    {
      "cell_type": "markdown",
      "source": [
        "## 6.1  Objetivos\n",
        "Presentar a los alumnos la dificultad que se presenta ante la comparación de dos modelos, uno posee un poder predictivo claramente mayor al otro.\n",
        "Comparación simple de media de ganancias, versus probabilidad que un modelo sea superior a otro."
      ],
      "metadata": {
        "id": "KzwdMJDZLmB9"
      }
    },
    {
      "cell_type": "markdown",
      "source": [
        "## 6.2 Introduccion\n",
        "Estos son los dos arboles de muy distinta profundidad.\n",
        "<br>¿Cuál de ellos es mejor? ¿Cuál elijo?\n",
        "\n",
        "| Hiperparámetro | Arbol 1 | Arbol 2 |\n",
        "| --- | --: |  ---: |\n",
        "| cp | -1 | -1 |\n",
        "|minsplit | 170 | 250 |\n",
        "|minbucket | 70 | 125 |\n",
        "|maxdepth | 7 | 20 |\n",
        "\n"
      ],
      "metadata": {
        "id": "DDyFNmJ9L_CW"
      }
    },
    {
      "cell_type": "markdown",
      "source": [
        "## 6.3 Codigo dos distintos modelos"
      ],
      "metadata": {
        "id": "bQfwNsVzNrtI"
      }
    },
    {
      "cell_type": "markdown",
      "source": [
        "Esta parte se debe correr con el runtime en lenguaje **R** Ir al menu, Runtime -> Change Runtime Tipe -> Runtime type -> R"
      ],
      "metadata": {
        "id": "Ku7qQgKjNruJ"
      }
    },
    {
      "cell_type": "markdown",
      "source": [],
      "metadata": {
        "id": "VB4kLkOkZWNy"
      }
    },
    {
      "cell_type": "markdown",
      "source": [
        "El tiempo de corrida es de alrededor de 40 minutos"
      ],
      "metadata": {
        "id": "6jCdS3NMuKei"
      }
    },
    {
      "cell_type": "markdown",
      "source": [
        "limpio el ambiente de R"
      ],
      "metadata": {
        "id": "Z1EUBeHyNruK"
      }
    },
    {
      "cell_type": "code",
      "source": [
        "# limpio la memoria\n",
        "rm(list=ls(all.names=TRUE)) # remove all objects\n",
        "gc(full=TRUE, verbose=FALSE) # garbage collection"
      ],
      "metadata": {
        "id": "GxbC4V3zNruM",
        "outputId": "28ff758b-18e6-481e-978f-d06e6b02898b",
        "colab": {
          "base_uri": "https://localhost:8080/",
          "height": 130
        }
      },
      "execution_count": 1,
      "outputs": [
        {
          "output_type": "display_data",
          "data": {
            "text/html": [
              "<table class=\"dataframe\">\n",
              "<caption>A matrix: 2 × 6 of type dbl</caption>\n",
              "<thead>\n",
              "\t<tr><th></th><th scope=col>used</th><th scope=col>(Mb)</th><th scope=col>gc trigger</th><th scope=col>(Mb)</th><th scope=col>max used</th><th scope=col>(Mb)</th></tr>\n",
              "</thead>\n",
              "<tbody>\n",
              "\t<tr><th scope=row>Ncells</th><td> 657245</td><td>35.2</td><td>1454451</td><td>77.7</td><td>1326118</td><td>70.9</td></tr>\n",
              "\t<tr><th scope=row>Vcells</th><td>1220272</td><td> 9.4</td><td>8388608</td><td>64.0</td><td>1975128</td><td>15.1</td></tr>\n",
              "</tbody>\n",
              "</table>\n"
            ],
            "text/markdown": "\nA matrix: 2 × 6 of type dbl\n\n| <!--/--> | used | (Mb) | gc trigger | (Mb) | max used | (Mb) |\n|---|---|---|---|---|---|---|\n| Ncells |  657245 | 35.2 | 1454451 | 77.7 | 1326118 | 70.9 |\n| Vcells | 1220272 |  9.4 | 8388608 | 64.0 | 1975128 | 15.1 |\n\n",
            "text/latex": "A matrix: 2 × 6 of type dbl\n\\begin{tabular}{r|llllll}\n  & used & (Mb) & gc trigger & (Mb) & max used & (Mb)\\\\\n\\hline\n\tNcells &  657245 & 35.2 & 1454451 & 77.7 & 1326118 & 70.9\\\\\n\tVcells & 1220272 &  9.4 & 8388608 & 64.0 & 1975128 & 15.1\\\\\n\\end{tabular}\n",
            "text/plain": [
              "       used    (Mb) gc trigger (Mb) max used (Mb)\n",
              "Ncells  657245 35.2 1454451    77.7 1326118  70.9\n",
              "Vcells 1220272  9.4 8388608    64.0 1975128  15.1"
            ]
          },
          "metadata": {}
        }
      ]
    },
    {
      "cell_type": "markdown",
      "source": [
        "* Instalacion de la libreria  rpart.plot  para dibujar el arbol\n",
        "* invocacion de las librerias  **data.table** y  **rpart**"
      ],
      "metadata": {
        "id": "i2WkSCIhNruQ"
      }
    },
    {
      "cell_type": "code",
      "source": [
        "# cargo las librerias que necesito\n",
        "require(\"data.table\")\n",
        "require(\"rpart\")\n",
        "require(\"parallel\")\n",
        "\n",
        "if (!require(\"primes\")) install.packages(\"primes\")\n",
        "require(\"primes\")\n",
        "\n",
        "require(\"ggplot2\")"
      ],
      "metadata": {
        "id": "3bMsgZJWNruR",
        "outputId": "254fdcdd-b3cd-47bc-9f5e-909cd23af303",
        "colab": {
          "base_uri": "https://localhost:8080/"
        }
      },
      "execution_count": 2,
      "outputs": [
        {
          "output_type": "stream",
          "name": "stderr",
          "text": [
            "Loading required package: data.table\n",
            "\n",
            "Loading required package: rpart\n",
            "\n",
            "Loading required package: parallel\n",
            "\n",
            "Loading required package: primes\n",
            "\n",
            "Loading required package: ggplot2\n",
            "\n"
          ]
        }
      ]
    },
    {
      "cell_type": "markdown",
      "source": [
        "###  Accion a Realizar\n",
        "PARAM$semilla_primigenia  debe reemplazarse por SU primer semilla"
      ],
      "metadata": {
        "id": "t1lTXrKaNruT"
      }
    },
    {
      "cell_type": "code",
      "source": [
        "PARAM <- list()\n",
        "PARAM$semilla_primigenia <- 150001\n",
        "PARAM$qsemillas <- 20\n",
        "PARAM$training_pct <- 70L     # entre 1 y 100\n"
      ],
      "metadata": {
        "id": "QFbPtTCMNruV"
      },
      "execution_count": 4,
      "outputs": []
    },
    {
      "cell_type": "code",
      "source": [
        "# los dos arboles\n",
        "PARAM$rpart1 <- list (\n",
        "  \"cp\" = -1,\n",
        "  \"minsplit\" = 170,\n",
        "  \"minbucket\" = 70,\n",
        "  \"maxdepth\" = 7\n",
        ")\n",
        "\n",
        "\n",
        "PARAM$rpart2 <- list (\n",
        "  \"cp\" = -1,\n",
        "  \"minsplit\" = 250,\n",
        "  \"minbucket\" = 125,\n",
        "  \"maxdepth\" = 20\n",
        ")"
      ],
      "metadata": {
        "id": "GiBGk7WKQv2V"
      },
      "execution_count": 5,
      "outputs": []
    },
    {
      "cell_type": "code",
      "source": [
        "# particionar agrega una columna llamada fold a un dataset\n",
        "#  que consiste en una particion estratificada segun agrupa\n",
        "\n",
        "# particionar( data=dataset, division=c(70,30),\n",
        "#  agrupa=clase_ternaria, seed=semilla)   crea una particion 70, 30\n",
        "\n",
        "particionar <- function(\n",
        "    data, division, agrupa = \"\",\n",
        "    campo = \"fold\", start = 1, seed = NA) {\n",
        "  if (!is.na(seed)) set.seed(seed)\n",
        "\n",
        "  bloque <- unlist(mapply(function(x, y) {\n",
        "    rep(y, x)\n",
        "  }, division, seq(from = start, length.out = length(division))))\n",
        "\n",
        "  data[, (campo) := sample(rep(bloque, ceiling(.N / length(bloque))))[1:.N],\n",
        "    by = agrupa\n",
        "  ]\n",
        "}\n"
      ],
      "metadata": {
        "id": "2BabfKg7NruX"
      },
      "execution_count": 6,
      "outputs": []
    },
    {
      "cell_type": "code",
      "source": [
        "DosArbolesEstimarGanancia <- function(semilla, training_pct, param_rpart1, param_rpart2) {\n",
        "\n",
        "  # fuerzo impresion\n",
        "  print( paste( semilla, Sys.time()) )\n",
        "  flush.console()\n",
        "\n",
        "  # particiono estratificadamente el dataset\n",
        "  particionar(dataset,\n",
        "    division = c(training_pct, 100L -training_pct),\n",
        "    agrupa = \"clase_ternaria\",\n",
        "    seed = semilla # aqui se usa SU semilla\n",
        "  )\n",
        "\n",
        "  # genero el modelo\n",
        "  # predecir clase_ternaria a partir del resto\n",
        "  modelo1 <- rpart(\"clase_ternaria ~ .\",\n",
        "    data = dataset[fold == 1], # fold==1  es training,  el 70% de los datos\n",
        "    xval = 0,\n",
        "    control = param_rpart1\n",
        "  ) # aqui van los parametros del arbol\n",
        "\n",
        "  # aplico el modelo a los datos de testing\n",
        "  prediccion1 <- predict(modelo1, # el modelo que genere recien\n",
        "    dataset[fold == 2], # fold==2  es testing, el 30% de los datos\n",
        "    type = \"prob\"\n",
        "  ) # type= \"prob\"  es que devuelva la probabilidad\n",
        "\n",
        "\n",
        "  # calculo la ganancia en testing  qu es fold==2\n",
        "  ganancia_test1 <- dataset[\n",
        "    fold == 2,\n",
        "    sum(ifelse(prediccion1[, \"BAJA+2\"] > 0.025,\n",
        "      ifelse(clase_ternaria == \"BAJA+2\", 117000, -3000),\n",
        "      0\n",
        "    ))\n",
        "  ]\n",
        "\n",
        "  # escalo la ganancia como si fuera todo el dataset\n",
        "  ganancia_test_normalizada1 <- ganancia_test1 / (( 100 - training_pct ) / 100 )\n",
        "\n",
        "  modelo2 <- rpart(\"clase_ternaria ~ .\",\n",
        "    data = dataset[fold == 1], # fold==1  es training,  el 70% de los datos\n",
        "    xval = 0,\n",
        "    control = param_rpart2\n",
        "  ) # aqui van los parametros del arbol\n",
        "\n",
        "  # aplico el modelo a los datos de testing\n",
        "  prediccion2 <- predict(modelo2, # el modelo que genere recien\n",
        "    dataset[fold == 2], # fold==2  es testing, el 30% de los datos\n",
        "    type = \"prob\"\n",
        "  ) # type= \"prob\"  es que devuelva la probabilidad\n",
        "\n",
        "\n",
        "  # calculo la ganancia en testing  qu es fold==2\n",
        "  ganancia_test2 <- dataset[\n",
        "    fold == 2,\n",
        "    sum(ifelse(prediccion2[, \"BAJA+2\"] > 0.025,\n",
        "      ifelse(clase_ternaria == \"BAJA+2\", 117000, -3000),\n",
        "      0\n",
        "    ))\n",
        "  ]\n",
        "\n",
        "  # escalo la ganancia como si fuera todo el dataset\n",
        "  ganancia_test_normalizada2 <- ganancia_test2 / (( 100 - training_pct ) / 100 )\n",
        "\n",
        "  return(list(\n",
        "    \"semilla\" = semilla,\n",
        "    \"ganancia1\" = ganancia_test_normalizada1,\n",
        "    \"ganancia2\" = ganancia_test_normalizada2\n",
        "  ))\n",
        "}"
      ],
      "metadata": {
        "id": "YrGJgj4UNruZ"
      },
      "execution_count": 7,
      "outputs": []
    },
    {
      "cell_type": "code",
      "source": [
        "# carpeta de trabajo\n",
        "setwd(\"/content/buckets/b1/exp\")\n",
        "experimento <- \"exp206\"\n",
        "dir.create(experimento, showWarnings=FALSE)\n",
        "setwd( paste0(\"/content/buckets/b1/exp/\", experimento ))"
      ],
      "metadata": {
        "id": "2C2yjgQVNrud"
      },
      "execution_count": 8,
      "outputs": []
    },
    {
      "cell_type": "code",
      "source": [
        "# lectura del dataset\n",
        "dataset <- fread(\"/content/datasets/dataset_pequeno.csv\")\n",
        "\n",
        "# trabajo solo con los datos con clase, es decir 202107\n",
        "dataset <- dataset[clase_ternaria != \"\"]"
      ],
      "metadata": {
        "id": "oQeGcBnPNrug"
      },
      "execution_count": 9,
      "outputs": []
    },
    {
      "cell_type": "code",
      "source": [
        "detectCores()"
      ],
      "metadata": {
        "id": "gXKI2eXO9Osx",
        "outputId": "0093c81d-33ad-4f0e-f793-8a38f88c7c2e",
        "colab": {
          "base_uri": "https://localhost:8080/",
          "height": 34
        }
      },
      "execution_count": 10,
      "outputs": [
        {
          "output_type": "display_data",
          "data": {
            "text/html": [
              "2"
            ],
            "text/markdown": "2",
            "text/latex": "2",
            "text/plain": [
              "[1] 2"
            ]
          },
          "metadata": {}
        }
      ]
    },
    {
      "cell_type": "code",
      "source": [
        "# genero numeros primos\n",
        "primos <- generate_primes(min = 100000, max = 1000000)\n",
        "set.seed(PARAM$semilla_primigenia) # inicializo\n",
        "\n",
        "# me quedo con PARAM$qsemillas   semillas\n",
        "PARAM$semillas <- sample(primos, PARAM$qsemillas )"
      ],
      "metadata": {
        "id": "tU8S7_5ANrui"
      },
      "execution_count": 11,
      "outputs": []
    },
    {
      "cell_type": "code",
      "source": [
        "# demora interminables 60 minutos en correr en Google Colab\n",
        "Sys.time()\n",
        "\n",
        "salidas <- mcmapply( DosArbolesEstimarGanancia,\n",
        "  PARAM$semillas, # paso el vector de semillas\n",
        "  MoreArgs = list(PARAM$training_pct, PARAM$rpart1, PARAM$rpart2), # aqui paso el segundo parametro\n",
        "  SIMPLIFY = FALSE,\n",
        "  mc.cores = detectCores()\n",
        ")\n",
        "\n",
        "Sys.time()"
      ],
      "metadata": {
        "id": "mlF66CgxcHF3",
        "outputId": "581e11a9-5822-4ffc-befe-6a6bbbc51ffb",
        "colab": {
          "base_uri": "https://localhost:8080/",
          "height": 52
        }
      },
      "execution_count": 12,
      "outputs": [
        {
          "output_type": "display_data",
          "data": {
            "text/plain": [
              "[1] \"2025-10-14 01:47:41 UTC\""
            ]
          },
          "metadata": {}
        },
        {
          "output_type": "display_data",
          "data": {
            "text/plain": [
              "[1] \"2025-10-14 02:56:49 UTC\""
            ]
          },
          "metadata": {}
        }
      ]
    },
    {
      "cell_type": "code",
      "source": [
        "# paso la lista a vector\n",
        "tb_salida <- rbindlist(salidas)\n",
        "tb_salida"
      ],
      "metadata": {
        "id": "_g-_kccdNrum",
        "outputId": "53368c70-3667-49bb-d56f-0cef4431ec95",
        "colab": {
          "base_uri": "https://localhost:8080/",
          "height": 726
        }
      },
      "execution_count": 13,
      "outputs": [
        {
          "output_type": "display_data",
          "data": {
            "text/html": [
              "<table class=\"dataframe\">\n",
              "<caption>A data.table: 20 × 3</caption>\n",
              "<thead>\n",
              "\t<tr><th scope=col>semilla</th><th scope=col>ganancia1</th><th scope=col>ganancia2</th></tr>\n",
              "\t<tr><th scope=col>&lt;int&gt;</th><th scope=col>&lt;dbl&gt;</th><th scope=col>&lt;dbl&gt;</th></tr>\n",
              "</thead>\n",
              "<tbody>\n",
              "\t<tr><td>228859</td><td>54550000</td><td>50720000</td></tr>\n",
              "\t<tr><td>784627</td><td>49690000</td><td>42860000</td></tr>\n",
              "\t<tr><td>865483</td><td>50380000</td><td>47810000</td></tr>\n",
              "\t<tr><td>503297</td><td>50120000</td><td>45780000</td></tr>\n",
              "\t<tr><td>883187</td><td>48580000</td><td>43650000</td></tr>\n",
              "\t<tr><td>968251</td><td>43210000</td><td>43300000</td></tr>\n",
              "\t<tr><td>318751</td><td>49590000</td><td>44240000</td></tr>\n",
              "\t<tr><td>245851</td><td>50980000</td><td>38950000</td></tr>\n",
              "\t<tr><td>809579</td><td>50230000</td><td>46850000</td></tr>\n",
              "\t<tr><td>700331</td><td>48210000</td><td>41310000</td></tr>\n",
              "\t<tr><td>168227</td><td>42140000</td><td>39580000</td></tr>\n",
              "\t<tr><td>187003</td><td>49770000</td><td>33280000</td></tr>\n",
              "\t<tr><td>174263</td><td>44760000</td><td>42260000</td></tr>\n",
              "\t<tr><td>702937</td><td>53720000</td><td>49800000</td></tr>\n",
              "\t<tr><td>475831</td><td>45710000</td><td>37370000</td></tr>\n",
              "\t<tr><td>631151</td><td>47710000</td><td>43480000</td></tr>\n",
              "\t<tr><td>509681</td><td>51540000</td><td>44780000</td></tr>\n",
              "\t<tr><td>187069</td><td>52080000</td><td>42740000</td></tr>\n",
              "\t<tr><td>347957</td><td>50520000</td><td>42040000</td></tr>\n",
              "\t<tr><td>931241</td><td>47710000</td><td>42200000</td></tr>\n",
              "</tbody>\n",
              "</table>\n"
            ],
            "text/markdown": "\nA data.table: 20 × 3\n\n| semilla &lt;int&gt; | ganancia1 &lt;dbl&gt; | ganancia2 &lt;dbl&gt; |\n|---|---|---|\n| 228859 | 54550000 | 50720000 |\n| 784627 | 49690000 | 42860000 |\n| 865483 | 50380000 | 47810000 |\n| 503297 | 50120000 | 45780000 |\n| 883187 | 48580000 | 43650000 |\n| 968251 | 43210000 | 43300000 |\n| 318751 | 49590000 | 44240000 |\n| 245851 | 50980000 | 38950000 |\n| 809579 | 50230000 | 46850000 |\n| 700331 | 48210000 | 41310000 |\n| 168227 | 42140000 | 39580000 |\n| 187003 | 49770000 | 33280000 |\n| 174263 | 44760000 | 42260000 |\n| 702937 | 53720000 | 49800000 |\n| 475831 | 45710000 | 37370000 |\n| 631151 | 47710000 | 43480000 |\n| 509681 | 51540000 | 44780000 |\n| 187069 | 52080000 | 42740000 |\n| 347957 | 50520000 | 42040000 |\n| 931241 | 47710000 | 42200000 |\n\n",
            "text/latex": "A data.table: 20 × 3\n\\begin{tabular}{lll}\n semilla & ganancia1 & ganancia2\\\\\n <int> & <dbl> & <dbl>\\\\\n\\hline\n\t 228859 & 54550000 & 50720000\\\\\n\t 784627 & 49690000 & 42860000\\\\\n\t 865483 & 50380000 & 47810000\\\\\n\t 503297 & 50120000 & 45780000\\\\\n\t 883187 & 48580000 & 43650000\\\\\n\t 968251 & 43210000 & 43300000\\\\\n\t 318751 & 49590000 & 44240000\\\\\n\t 245851 & 50980000 & 38950000\\\\\n\t 809579 & 50230000 & 46850000\\\\\n\t 700331 & 48210000 & 41310000\\\\\n\t 168227 & 42140000 & 39580000\\\\\n\t 187003 & 49770000 & 33280000\\\\\n\t 174263 & 44760000 & 42260000\\\\\n\t 702937 & 53720000 & 49800000\\\\\n\t 475831 & 45710000 & 37370000\\\\\n\t 631151 & 47710000 & 43480000\\\\\n\t 509681 & 51540000 & 44780000\\\\\n\t 187069 & 52080000 & 42740000\\\\\n\t 347957 & 50520000 & 42040000\\\\\n\t 931241 & 47710000 & 42200000\\\\\n\\end{tabular}\n",
            "text/plain": [
              "   semilla ganancia1 ganancia2\n",
              "1  228859  54550000  50720000 \n",
              "2  784627  49690000  42860000 \n",
              "3  865483  50380000  47810000 \n",
              "4  503297  50120000  45780000 \n",
              "5  883187  48580000  43650000 \n",
              "6  968251  43210000  43300000 \n",
              "7  318751  49590000  44240000 \n",
              "8  245851  50980000  38950000 \n",
              "9  809579  50230000  46850000 \n",
              "10 700331  48210000  41310000 \n",
              "11 168227  42140000  39580000 \n",
              "12 187003  49770000  33280000 \n",
              "13 174263  44760000  42260000 \n",
              "14 702937  53720000  49800000 \n",
              "15 475831  45710000  37370000 \n",
              "16 631151  47710000  43480000 \n",
              "17 509681  51540000  44780000 \n",
              "18 187069  52080000  42740000 \n",
              "19 347957  50520000  42040000 \n",
              "20 931241  47710000  42200000 "
            ]
          },
          "metadata": {}
        }
      ]
    },
    {
      "cell_type": "code",
      "source": [
        "grafico <- ggplot( tb_salida, aes(x=ganancia1)) + geom_density(alpha=0.25, fill=\"green\", color=\"green\")  +\n",
        "             geom_density(data=tb_salida, aes(x=ganancia2), fill=\"purple\", color=\"purple\",  alpha=0.10)\n",
        "\n",
        "print(grafico)"
      ],
      "metadata": {
        "id": "-O0rg6btNrun",
        "outputId": "d6369fbc-9514-4bcc-b59d-425712b15500",
        "colab": {
          "base_uri": "https://localhost:8080/",
          "height": 437
        }
      },
      "execution_count": 14,
      "outputs": [
        {
          "output_type": "display_data",
          "data": {
            "text/plain": [
              "plot without title"
            ],
            "image/png": "[encoded data removed]"
          },
          "metadata": {
            "image/png": {
              "width": 420,
              "height": 420
            }
          }
        }
      ]
    },
    {
      "cell_type": "code",
      "source": [
        "# imprimo en un .pdf  que va a la carpeta del experimento\n",
        "pdf(\"densidad_dos.pdf\")\n",
        "print(grafico)\n",
        "dev.off()"
      ],
      "metadata": {
        "id": "uSqrazOyU_LC",
        "outputId": "facc2273-543b-40a8-f543-206a3f2387ac",
        "colab": {
          "base_uri": "https://localhost:8080/",
          "height": 34
        }
      },
      "execution_count": 15,
      "outputs": [
        {
          "output_type": "display_data",
          "data": {
            "text/html": [
              "<strong>agg_record_1059389918:</strong> 2"
            ],
            "text/markdown": "**agg_record_1059389918:** 2",
            "text/latex": "\\textbf{agg\\textbackslash{}\\_record\\textbackslash{}\\_1059389918:} 2",
            "text/plain": [
              "agg_record_1059389918 \n",
              "                    2 "
            ]
          },
          "metadata": {}
        }
      ]
    },
    {
      "cell_type": "code",
      "source": [
        "print( tb_salida[ , list( \"arbol1\" = mean( ganancia1),  \"arbol2\" = mean(ganancia2) ) ] )\n",
        "\n",
        "print( tb_salida[ , list( \"prob( m1 > m2)\" = sum(ganancia1 > ganancia2 )/ .N ) ]  )"
      ],
      "metadata": {
        "id": "LGv0LB_4R7US",
        "outputId": "764eacc8-917e-437b-d460-97986a74c9ba",
        "colab": {
          "base_uri": "https://localhost:8080/"
        }
      },
      "execution_count": 16,
      "outputs": [
        {
          "output_type": "stream",
          "name": "stdout",
          "text": [
            "     arbol1   arbol2\n",
            "      <num>    <num>\n",
            "1: 49060000 43150000\n",
            "   prob( m1 > m2)\n",
            "            <num>\n",
            "1:           0.95\n"
          ]
        }
      ]
    },
    {
      "cell_type": "markdown",
      "source": [
        "### Acciones a realizar\n",
        "* Reportar la  los resultados en la planilla colaborativa hoja  **C2-dosModelos**\n",
        "* ¿Todos los alumnos hubieran elegido el mismo modelo aun con 20 semillas?"
      ],
      "metadata": {
        "id": "F6lFJf1VTi8b"
      }
    },
    {
      "cell_type": "markdown",
      "source": [
        "\n",
        "\n",
        "---\n",
        "\n"
      ],
      "metadata": {
        "id": "aOpy-XBKTi8n"
      }
    },
    {
      "cell_type": "markdown",
      "source": [
        "# 7 Comparando dos buenos  modelos\n",
        "## Clase 02  Experimento 7"
      ],
      "metadata": {
        "id": "EdzjiJf-dsEK"
      }
    },
    {
      "cell_type": "markdown",
      "source": [
        "## 7.1  Objetivos\n",
        "Presentar a los alumnos la dificultad que surge en la comparación de dos muy distintos, pero ambos buenos, modelos predictivos, y el costo computacional asociado a esa comparación\n",
        "<br>Comparación simple de media de ganancias, versus probabilidad que un modelo sea superior a otro.\n",
        "<br>Limitaciones de la MonteCarlo Cross Validation\n",
        "<br>Existencia del Test de Wilcoxon"
      ],
      "metadata": {
        "id": "FcBjp5XxdsEt"
      }
    },
    {
      "cell_type": "markdown",
      "source": [
        "## 7.2 Introduccion\n",
        "Estos son los dos arboles de muy distinta profundidad.\n",
        "<br>¿Cuál de ellos es mejor? ¿Cuál elijo?\n",
        "\n",
        "| Hiperparámetro | Arbol 1 | Arbol 2 |\n",
        "| --- | --: |  ---: |\n",
        "| cp | -1 | -1 |\n",
        "|minsplit | 170 | 1900 |\n",
        "|minbucket | 70 | 800 |\n",
        "|maxdepth | 7 | 3 |\n",
        "\n"
      ],
      "metadata": {
        "id": "tYcOIcwCdsEu"
      }
    },
    {
      "cell_type": "markdown",
      "source": [
        "## 7.3 Dos buenos modelos"
      ],
      "metadata": {
        "id": "r0NDA7GgdsEu"
      }
    },
    {
      "cell_type": "markdown",
      "source": [
        "Esta parte se debe correr con el runtime en lenguaje **R** Ir al menu, Runtime -> Change Runtime Tipe -> Runtime type -> R"
      ],
      "metadata": {
        "id": "21SJmGd7dsEv"
      }
    },
    {
      "cell_type": "markdown",
      "source": [
        "El tiempo de corrida es de alrededor de 50 minutos"
      ],
      "metadata": {
        "id": "Ne0e08KUt87w"
      }
    },
    {
      "cell_type": "markdown",
      "source": [
        "limpio el ambiente de R"
      ],
      "metadata": {
        "id": "q02SEGNwdsEv"
      }
    },
    {
      "cell_type": "code",
      "source": [
        "# limpio la memoria\n",
        "rm(list=ls(all.names=TRUE)) # remove all objects\n",
        "gc(full=TRUE, verbose=FALSE) # garbage collection"
      ],
      "metadata": {
        "id": "6c2ZJstWdsEw",
        "outputId": "8545e616-f4e8-4885-bc05-6815ae76453f",
        "colab": {
          "base_uri": "https://localhost:8080/",
          "height": 130
        }
      },
      "execution_count": 17,
      "outputs": [
        {
          "output_type": "display_data",
          "data": {
            "text/html": [
              "<table class=\"dataframe\">\n",
              "<caption>A matrix: 2 × 6 of type dbl</caption>\n",
              "<thead>\n",
              "\t<tr><th></th><th scope=col>used</th><th scope=col>(Mb)</th><th scope=col>gc trigger</th><th scope=col>(Mb)</th><th scope=col>max used</th><th scope=col>(Mb)</th></tr>\n",
              "</thead>\n",
              "<tbody>\n",
              "\t<tr><th scope=row>Ncells</th><td>1380748</td><td>73.8</td><td> 2331341</td><td>124.6</td><td> 2331341</td><td>124.6</td></tr>\n",
              "\t<tr><th scope=row>Vcells</th><td>2488112</td><td>19.0</td><td>59471623</td><td>453.8</td><td>72032555</td><td>549.6</td></tr>\n",
              "</tbody>\n",
              "</table>\n"
            ],
            "text/markdown": "\nA matrix: 2 × 6 of type dbl\n\n| <!--/--> | used | (Mb) | gc trigger | (Mb) | max used | (Mb) |\n|---|---|---|---|---|---|---|\n| Ncells | 1380748 | 73.8 |  2331341 | 124.6 |  2331341 | 124.6 |\n| Vcells | 2488112 | 19.0 | 59471623 | 453.8 | 72032555 | 549.6 |\n\n",
            "text/latex": "A matrix: 2 × 6 of type dbl\n\\begin{tabular}{r|llllll}\n  & used & (Mb) & gc trigger & (Mb) & max used & (Mb)\\\\\n\\hline\n\tNcells & 1380748 & 73.8 &  2331341 & 124.6 &  2331341 & 124.6\\\\\n\tVcells & 2488112 & 19.0 & 59471623 & 453.8 & 72032555 & 549.6\\\\\n\\end{tabular}\n",
            "text/plain": [
              "       used    (Mb) gc trigger (Mb)  max used (Mb) \n",
              "Ncells 1380748 73.8  2331341   124.6  2331341 124.6\n",
              "Vcells 2488112 19.0 59471623   453.8 72032555 549.6"
            ]
          },
          "metadata": {}
        }
      ]
    },
    {
      "cell_type": "markdown",
      "source": [
        "* Instalacion de la libreria  rpart.plot  para dibujar el arbol\n",
        "* invocacion de las librerias  **data.table** y  **rpart**"
      ],
      "metadata": {
        "id": "62MIW0r1dsEx"
      }
    },
    {
      "cell_type": "code",
      "source": [
        "# cargo las librerias que necesito\n",
        "require(\"data.table\")\n",
        "require(\"rpart\")\n",
        "require(\"parallel\")\n",
        "\n",
        "if (!require(\"primes\")) install.packages(\"primes\")\n",
        "require(\"primes\")\n",
        "\n",
        "require(\"ggplot2\")"
      ],
      "metadata": {
        "id": "2Ke4n-N8dsEy"
      },
      "execution_count": 18,
      "outputs": []
    },
    {
      "cell_type": "markdown",
      "source": [
        "###  Accion a Realizar\n",
        "PARAM$semilla_primigenia  debe reemplazarse por SU primer semilla"
      ],
      "metadata": {
        "id": "UHSoeqi4dsEz"
      }
    },
    {
      "cell_type": "code",
      "source": [
        "PARAM <- list()\n",
        "PARAM$semilla_primigenia <- 150001\n",
        "PARAM$qsemillas <- 50\n",
        "PARAM$training_pct <- 70L     # entre 1 y 100\n"
      ],
      "metadata": {
        "id": "f08_sqfAdsEz"
      },
      "execution_count": 19,
      "outputs": []
    },
    {
      "cell_type": "code",
      "source": [
        "# los dos arboles\n",
        "PARAM$rpart1 <- list (\n",
        "  \"cp\" = -1,\n",
        "  \"minsplit\" = 170,\n",
        "  \"minbucket\" = 70,\n",
        "  \"maxdepth\" = 7\n",
        ")\n",
        "\n",
        "\n",
        "PARAM$rpart2 <- list (\n",
        "  \"cp\" = -1,\n",
        "  \"minsplit\" = 1900,\n",
        "  \"minbucket\" = 800,\n",
        "  \"maxdepth\" = 3\n",
        ")\n"
      ],
      "metadata": {
        "id": "L735D9rydsE0"
      },
      "execution_count": 20,
      "outputs": []
    },
    {
      "cell_type": "code",
      "source": [
        "# particionar agrega una columna llamada fold a un dataset\n",
        "#  que consiste en una particion estratificada segun agrupa\n",
        "\n",
        "# particionar( data=dataset, division=c(70,30),\n",
        "#  agrupa=clase_ternaria, seed=semilla)   crea una particion 70, 30\n",
        "\n",
        "particionar <- function(\n",
        "    data, division, agrupa = \"\",\n",
        "    campo = \"fold\", start = 1, seed = NA) {\n",
        "  if (!is.na(seed)) set.seed(seed)\n",
        "\n",
        "  bloque <- unlist(mapply(function(x, y) {\n",
        "    rep(y, x)\n",
        "  }, division, seq(from = start, length.out = length(division))))\n",
        "\n",
        "  data[, (campo) := sample(rep(bloque, ceiling(.N / length(bloque))))[1:.N],\n",
        "    by = agrupa\n",
        "  ]\n",
        "}\n"
      ],
      "metadata": {
        "id": "O56epLUGdsE1"
      },
      "execution_count": 21,
      "outputs": []
    },
    {
      "cell_type": "code",
      "source": [
        "DosArbolesEstimarGanancia <- function(semilla, training_pct, param_rpart1, param_rpart2) {\n",
        "  # fuerzo impresion\n",
        "  print( paste( semilla, Sys.time()) )\n",
        "  flush.console()\n",
        "\n",
        "  # particiono estratificadamente el dataset\n",
        "  particionar(dataset,\n",
        "    division = c(training_pct, 100L -training_pct),\n",
        "    agrupa = \"clase_ternaria\",\n",
        "    seed = semilla # aqui se usa SU semilla\n",
        "  )\n",
        "\n",
        "  # genero el modelo\n",
        "  # predecir clase_ternaria a partir del resto\n",
        "  modelo1 <- rpart(\"clase_ternaria ~ .\",\n",
        "    data = dataset[fold == 1], # fold==1  es training,  el 70% de los datos\n",
        "    xval = 0,\n",
        "    control = param_rpart1\n",
        "  ) # aqui van los parametros del arbol\n",
        "\n",
        "  # aplico el modelo a los datos de testing\n",
        "  prediccion1 <- predict(modelo1, # el modelo que genere recien\n",
        "    dataset[fold == 2], # fold==2  es testing, el 30% de los datos\n",
        "    type = \"prob\"\n",
        "  ) # type= \"prob\"  es que devuelva la probabilidad\n",
        "\n",
        "\n",
        "  # calculo la ganancia en testing  qu es fold==2\n",
        "  ganancia_test1 <- dataset[\n",
        "    fold == 2,\n",
        "    sum(ifelse(prediccion1[, \"BAJA+2\"] > 0.025,\n",
        "      ifelse(clase_ternaria == \"BAJA+2\", 117000, -3000),\n",
        "      0\n",
        "    ))\n",
        "  ]\n",
        "\n",
        "  # escalo la ganancia como si fuera todo el dataset\n",
        "  ganancia_test_normalizada1 <- ganancia_test1 / (( 100 - training_pct ) / 100 )\n",
        "\n",
        "  modelo2 <- rpart(\"clase_ternaria ~ .\",\n",
        "    data = dataset[fold == 1], # fold==1  es training,  el 70% de los datos\n",
        "    xval = 0,\n",
        "    control = param_rpart2\n",
        "  ) # aqui van los parametros del arbol\n",
        "\n",
        "  # aplico el modelo a los datos de testing\n",
        "  prediccion2 <- predict(modelo2, # el modelo que genere recien\n",
        "    dataset[fold == 2], # fold==2  es testing, el 30% de los datos\n",
        "    type = \"prob\"\n",
        "  ) # type= \"prob\"  es que devuelva la probabilidad\n",
        "\n",
        "\n",
        "  # calculo la ganancia en testing  qu es fold==2\n",
        "  ganancia_test2 <- dataset[\n",
        "    fold == 2,\n",
        "    sum(ifelse(prediccion2[, \"BAJA+2\"] > 0.025,\n",
        "      ifelse(clase_ternaria == \"BAJA+2\", 117000, -3000),\n",
        "      0\n",
        "    ))\n",
        "  ]\n",
        "\n",
        "  # escalo la ganancia como si fuera todo el dataset\n",
        "  ganancia_test_normalizada2 <- ganancia_test2 / (( 100 - training_pct ) / 100 )\n",
        "\n",
        "  return(list(\n",
        "    \"semilla\" = semilla,\n",
        "    \"ganancia1\" = ganancia_test_normalizada1,\n",
        "    \"ganancia2\" = ganancia_test_normalizada2\n",
        "  ))\n",
        "}"
      ],
      "metadata": {
        "id": "Bv_NorLhdsE1"
      },
      "execution_count": 22,
      "outputs": []
    },
    {
      "cell_type": "code",
      "source": [
        "# carpeta de trabajo\n",
        "setwd(\"/content/buckets/b1/exp\")\n",
        "experimento <- \"exp206\"\n",
        "dir.create(experimento, showWarnings=FALSE)\n",
        "setwd( paste0(\"/content/buckets/b1/exp/\", experimento ))"
      ],
      "metadata": {
        "id": "N9GarblIdsE3"
      },
      "execution_count": 23,
      "outputs": []
    },
    {
      "cell_type": "code",
      "source": [
        "# lectura del dataset\n",
        "dataset <- fread(\"/content/datasets/dataset_pequeno.csv\")\n",
        "\n",
        "# trabajo solo con los datos con clase, es decir 202107\n",
        "dataset <- dataset[clase_ternaria != \"\"]"
      ],
      "metadata": {
        "id": "Z05r3wdTdsE3"
      },
      "execution_count": 24,
      "outputs": []
    },
    {
      "cell_type": "code",
      "source": [
        "# genero numeros primos\n",
        "primos <- generate_primes(min = 100000, max = 1000000)\n",
        "set.seed(PARAM$semilla_primigenia) # inicializo\n",
        "\n",
        "# me quedo con PARAM$qsemillas   semillas\n",
        "PARAM$semillas <- sample(primos, PARAM$qsemillas )"
      ],
      "metadata": {
        "id": "m8ODrVrndsE4"
      },
      "execution_count": 25,
      "outputs": []
    },
    {
      "cell_type": "code",
      "source": [
        "# la funcion mcmapply  llama a la funcion DosArbolesEstimarGanancia\n",
        "#  tantas veces como valores tenga el vector  PARAM$semillas\n",
        "Sys.time()\n",
        "\n",
        "salidas <- mcmapply( DosArbolesEstimarGanancia,\n",
        "  PARAM$semillas, # paso el vector de semillas\n",
        "  MoreArgs = list(PARAM$training_pct, PARAM$rpart1, PARAM$rpart2), # aqui paso el segundo parametro\n",
        "  SIMPLIFY = FALSE,\n",
        "  mc.cores = detectCores()\n",
        ")\n",
        "\n",
        "Sys.time()"
      ],
      "metadata": {
        "id": "KQBhUXxJdsE5",
        "outputId": "3ccaf12b-8cd7-4567-e7a7-0a99dc63f6fa",
        "colab": {
          "base_uri": "https://localhost:8080/",
          "height": 52
        }
      },
      "execution_count": 26,
      "outputs": [
        {
          "output_type": "display_data",
          "data": {
            "text/plain": [
              "[1] \"2025-10-14 03:20:05 UTC\""
            ]
          },
          "metadata": {}
        },
        {
          "output_type": "display_data",
          "data": {
            "text/plain": [
              "[1] \"2025-10-14 04:35:58 UTC\""
            ]
          },
          "metadata": {}
        }
      ]
    },
    {
      "cell_type": "code",
      "source": [
        "# paso la lista a vector\n",
        "tb_salida <- rbindlist(salidas)\n",
        "tb_salida"
      ],
      "metadata": {
        "id": "N0eS1CFFdsE5",
        "outputId": "f560ee18-d885-4ee8-df61-a21bac77920e",
        "colab": {
          "base_uri": "https://localhost:8080/",
          "height": 1000
        }
      },
      "execution_count": 27,
      "outputs": [
        {
          "output_type": "display_data",
          "data": {
            "text/html": [
              "<table class=\"dataframe\">\n",
              "<caption>A data.table: 50 × 3</caption>\n",
              "<thead>\n",
              "\t<tr><th scope=col>semilla</th><th scope=col>ganancia1</th><th scope=col>ganancia2</th></tr>\n",
              "\t<tr><th scope=col>&lt;int&gt;</th><th scope=col>&lt;dbl&gt;</th><th scope=col>&lt;dbl&gt;</th></tr>\n",
              "</thead>\n",
              "<tbody>\n",
              "\t<tr><td>228859</td><td>54550000</td><td>50080000</td></tr>\n",
              "\t<tr><td>784627</td><td>49690000</td><td>51940000</td></tr>\n",
              "\t<tr><td>865483</td><td>50380000</td><td>51860000</td></tr>\n",
              "\t<tr><td>503297</td><td>50120000</td><td>53730000</td></tr>\n",
              "\t<tr><td>883187</td><td>48580000</td><td>47520000</td></tr>\n",
              "\t<tr><td>968251</td><td>43210000</td><td>47340000</td></tr>\n",
              "\t<tr><td>318751</td><td>49590000</td><td>45980000</td></tr>\n",
              "\t<tr><td>245851</td><td>50980000</td><td>46780000</td></tr>\n",
              "\t<tr><td>809579</td><td>50230000</td><td>50290000</td></tr>\n",
              "\t<tr><td>700331</td><td>48210000</td><td>49930000</td></tr>\n",
              "\t<tr><td>168227</td><td>42140000</td><td>47970000</td></tr>\n",
              "\t<tr><td>187003</td><td>49770000</td><td>50380000</td></tr>\n",
              "\t<tr><td>174263</td><td>44760000</td><td>46850000</td></tr>\n",
              "\t<tr><td>702937</td><td>53720000</td><td>52300000</td></tr>\n",
              "\t<tr><td>475831</td><td>45710000</td><td>47820000</td></tr>\n",
              "\t<tr><td>631151</td><td>47710000</td><td>46640000</td></tr>\n",
              "\t<tr><td>509681</td><td>51540000</td><td>49400000</td></tr>\n",
              "\t<tr><td>187069</td><td>52080000</td><td>52860000</td></tr>\n",
              "\t<tr><td>347957</td><td>50520000</td><td>47100000</td></tr>\n",
              "\t<tr><td>931241</td><td>47710000</td><td>45970000</td></tr>\n",
              "\t<tr><td>749081</td><td>53900000</td><td>45890000</td></tr>\n",
              "\t<tr><td>631361</td><td>50760000</td><td>49930000</td></tr>\n",
              "\t<tr><td>140603</td><td>49320000</td><td>49870000</td></tr>\n",
              "\t<tr><td>761603</td><td>50330000</td><td>50020000</td></tr>\n",
              "\t<tr><td>778153</td><td>42790000</td><td>42740000</td></tr>\n",
              "\t<tr><td>759053</td><td>45410000</td><td>47070000</td></tr>\n",
              "\t<tr><td>796871</td><td>43900000</td><td>45140000</td></tr>\n",
              "\t<tr><td>112909</td><td>48320000</td><td>46300000</td></tr>\n",
              "\t<tr><td>581767</td><td>45430000</td><td>47760000</td></tr>\n",
              "\t<tr><td>857287</td><td>50420000</td><td>45750000</td></tr>\n",
              "\t<tr><td>180623</td><td>49430000</td><td>45630000</td></tr>\n",
              "\t<tr><td>587527</td><td>45170000</td><td>47740000</td></tr>\n",
              "\t<tr><td>324101</td><td>46110000</td><td>45600000</td></tr>\n",
              "\t<tr><td>827833</td><td>49190000</td><td>45920000</td></tr>\n",
              "\t<tr><td>764857</td><td>48580000</td><td>49640000</td></tr>\n",
              "\t<tr><td>144323</td><td>44290000</td><td>47370000</td></tr>\n",
              "\t<tr><td>426131</td><td>51730000</td><td>52710000</td></tr>\n",
              "\t<tr><td>539797</td><td>49340000</td><td>47490000</td></tr>\n",
              "\t<tr><td>155009</td><td>36650000</td><td>38930000</td></tr>\n",
              "\t<tr><td>157897</td><td>51960000</td><td>53670000</td></tr>\n",
              "\t<tr><td>554839</td><td>53980000</td><td>50360000</td></tr>\n",
              "\t<tr><td>164531</td><td>48120000</td><td>49410000</td></tr>\n",
              "\t<tr><td>997427</td><td>44500000</td><td>43930000</td></tr>\n",
              "\t<tr><td>749557</td><td>50240000</td><td>48100000</td></tr>\n",
              "\t<tr><td>894713</td><td>49520000</td><td>49770000</td></tr>\n",
              "\t<tr><td>710557</td><td>50990000</td><td>52920000</td></tr>\n",
              "\t<tr><td>704023</td><td>49860000</td><td>49400000</td></tr>\n",
              "\t<tr><td>259681</td><td>51620000</td><td>55050000</td></tr>\n",
              "\t<tr><td>108377</td><td>52450000</td><td>52290000</td></tr>\n",
              "\t<tr><td>628357</td><td>49090000</td><td>48990000</td></tr>\n",
              "</tbody>\n",
              "</table>\n"
            ],
            "text/markdown": "\nA data.table: 50 × 3\n\n| semilla &lt;int&gt; | ganancia1 &lt;dbl&gt; | ganancia2 &lt;dbl&gt; |\n|---|---|---|\n| 228859 | 54550000 | 50080000 |\n| 784627 | 49690000 | 51940000 |\n| 865483 | 50380000 | 51860000 |\n| 503297 | 50120000 | 53730000 |\n| 883187 | 48580000 | 47520000 |\n| 968251 | 43210000 | 47340000 |\n| 318751 | 49590000 | 45980000 |\n| 245851 | 50980000 | 46780000 |\n| 809579 | 50230000 | 50290000 |\n| 700331 | 48210000 | 49930000 |\n| 168227 | 42140000 | 47970000 |\n| 187003 | 49770000 | 50380000 |\n| 174263 | 44760000 | 46850000 |\n| 702937 | 53720000 | 52300000 |\n| 475831 | 45710000 | 47820000 |\n| 631151 | 47710000 | 46640000 |\n| 509681 | 51540000 | 49400000 |\n| 187069 | 52080000 | 52860000 |\n| 347957 | 50520000 | 47100000 |\n| 931241 | 47710000 | 45970000 |\n| 749081 | 53900000 | 45890000 |\n| 631361 | 50760000 | 49930000 |\n| 140603 | 49320000 | 49870000 |\n| 761603 | 50330000 | 50020000 |\n| 778153 | 42790000 | 42740000 |\n| 759053 | 45410000 | 47070000 |\n| 796871 | 43900000 | 45140000 |\n| 112909 | 48320000 | 46300000 |\n| 581767 | 45430000 | 47760000 |\n| 857287 | 50420000 | 45750000 |\n| 180623 | 49430000 | 45630000 |\n| 587527 | 45170000 | 47740000 |\n| 324101 | 46110000 | 45600000 |\n| 827833 | 49190000 | 45920000 |\n| 764857 | 48580000 | 49640000 |\n| 144323 | 44290000 | 47370000 |\n| 426131 | 51730000 | 52710000 |\n| 539797 | 49340000 | 47490000 |\n| 155009 | 36650000 | 38930000 |\n| 157897 | 51960000 | 53670000 |\n| 554839 | 53980000 | 50360000 |\n| 164531 | 48120000 | 49410000 |\n| 997427 | 44500000 | 43930000 |\n| 749557 | 50240000 | 48100000 |\n| 894713 | 49520000 | 49770000 |\n| 710557 | 50990000 | 52920000 |\n| 704023 | 49860000 | 49400000 |\n| 259681 | 51620000 | 55050000 |\n| 108377 | 52450000 | 52290000 |\n| 628357 | 49090000 | 48990000 |\n\n",
            "text/latex": "A data.table: 50 × 3\n\\begin{tabular}{lll}\n semilla & ganancia1 & ganancia2\\\\\n <int> & <dbl> & <dbl>\\\\\n\\hline\n\t 228859 & 54550000 & 50080000\\\\\n\t 784627 & 49690000 & 51940000\\\\\n\t 865483 & 50380000 & 51860000\\\\\n\t 503297 & 50120000 & 53730000\\\\\n\t 883187 & 48580000 & 47520000\\\\\n\t 968251 & 43210000 & 47340000\\\\\n\t 318751 & 49590000 & 45980000\\\\\n\t 245851 & 50980000 & 46780000\\\\\n\t 809579 & 50230000 & 50290000\\\\\n\t 700331 & 48210000 & 49930000\\\\\n\t 168227 & 42140000 & 47970000\\\\\n\t 187003 & 49770000 & 50380000\\\\\n\t 174263 & 44760000 & 46850000\\\\\n\t 702937 & 53720000 & 52300000\\\\\n\t 475831 & 45710000 & 47820000\\\\\n\t 631151 & 47710000 & 46640000\\\\\n\t 509681 & 51540000 & 49400000\\\\\n\t 187069 & 52080000 & 52860000\\\\\n\t 347957 & 50520000 & 47100000\\\\\n\t 931241 & 47710000 & 45970000\\\\\n\t 749081 & 53900000 & 45890000\\\\\n\t 631361 & 50760000 & 49930000\\\\\n\t 140603 & 49320000 & 49870000\\\\\n\t 761603 & 50330000 & 50020000\\\\\n\t 778153 & 42790000 & 42740000\\\\\n\t 759053 & 45410000 & 47070000\\\\\n\t 796871 & 43900000 & 45140000\\\\\n\t 112909 & 48320000 & 46300000\\\\\n\t 581767 & 45430000 & 47760000\\\\\n\t 857287 & 50420000 & 45750000\\\\\n\t 180623 & 49430000 & 45630000\\\\\n\t 587527 & 45170000 & 47740000\\\\\n\t 324101 & 46110000 & 45600000\\\\\n\t 827833 & 49190000 & 45920000\\\\\n\t 764857 & 48580000 & 49640000\\\\\n\t 144323 & 44290000 & 47370000\\\\\n\t 426131 & 51730000 & 52710000\\\\\n\t 539797 & 49340000 & 47490000\\\\\n\t 155009 & 36650000 & 38930000\\\\\n\t 157897 & 51960000 & 53670000\\\\\n\t 554839 & 53980000 & 50360000\\\\\n\t 164531 & 48120000 & 49410000\\\\\n\t 997427 & 44500000 & 43930000\\\\\n\t 749557 & 50240000 & 48100000\\\\\n\t 894713 & 49520000 & 49770000\\\\\n\t 710557 & 50990000 & 52920000\\\\\n\t 704023 & 49860000 & 49400000\\\\\n\t 259681 & 51620000 & 55050000\\\\\n\t 108377 & 52450000 & 52290000\\\\\n\t 628357 & 49090000 & 48990000\\\\\n\\end{tabular}\n",
            "text/plain": [
              "   semilla ganancia1 ganancia2\n",
              "1  228859  54550000  50080000 \n",
              "2  784627  49690000  51940000 \n",
              "3  865483  50380000  51860000 \n",
              "4  503297  50120000  53730000 \n",
              "5  883187  48580000  47520000 \n",
              "6  968251  43210000  47340000 \n",
              "7  318751  49590000  45980000 \n",
              "8  245851  50980000  46780000 \n",
              "9  809579  50230000  50290000 \n",
              "10 700331  48210000  49930000 \n",
              "11 168227  42140000  47970000 \n",
              "12 187003  49770000  50380000 \n",
              "13 174263  44760000  46850000 \n",
              "14 702937  53720000  52300000 \n",
              "15 475831  45710000  47820000 \n",
              "16 631151  47710000  46640000 \n",
              "17 509681  51540000  49400000 \n",
              "18 187069  52080000  52860000 \n",
              "19 347957  50520000  47100000 \n",
              "20 931241  47710000  45970000 \n",
              "21 749081  53900000  45890000 \n",
              "22 631361  50760000  49930000 \n",
              "23 140603  49320000  49870000 \n",
              "24 761603  50330000  50020000 \n",
              "25 778153  42790000  42740000 \n",
              "26 759053  45410000  47070000 \n",
              "27 796871  43900000  45140000 \n",
              "28 112909  48320000  46300000 \n",
              "29 581767  45430000  47760000 \n",
              "30 857287  50420000  45750000 \n",
              "31 180623  49430000  45630000 \n",
              "32 587527  45170000  47740000 \n",
              "33 324101  46110000  45600000 \n",
              "34 827833  49190000  45920000 \n",
              "35 764857  48580000  49640000 \n",
              "36 144323  44290000  47370000 \n",
              "37 426131  51730000  52710000 \n",
              "38 539797  49340000  47490000 \n",
              "39 155009  36650000  38930000 \n",
              "40 157897  51960000  53670000 \n",
              "41 554839  53980000  50360000 \n",
              "42 164531  48120000  49410000 \n",
              "43 997427  44500000  43930000 \n",
              "44 749557  50240000  48100000 \n",
              "45 894713  49520000  49770000 \n",
              "46 710557  50990000  52920000 \n",
              "47 704023  49860000  49400000 \n",
              "48 259681  51620000  55050000 \n",
              "49 108377  52450000  52290000 \n",
              "50 628357  49090000  48990000 "
            ]
          },
          "metadata": {}
        }
      ]
    },
    {
      "cell_type": "code",
      "source": [
        "grafico <- ggplot( tb_salida, aes(x=ganancia1), fill=\"green\", color=\"green\") + geom_density(alpha=0.25)  +\n",
        "             geom_density(data=tb_salida, aes(x=ganancia2), fill=\"purple\", color=\"purple\",  alpha=0.10)\n",
        "\n",
        "print(grafico)"
      ],
      "metadata": {
        "id": "6vf28ujAdsE6",
        "outputId": "c6572048-2f8c-4f18-b7e3-08dc936912b7",
        "colab": {
          "base_uri": "https://localhost:8080/",
          "height": 541
        }
      },
      "execution_count": 28,
      "outputs": [
        {
          "output_type": "stream",
          "name": "stderr",
          "text": [
            "Warning message in fortify(data, ...):\n",
            "“\u001b[1m\u001b[22mArguments in `...` must be used.\n",
            "\u001b[31m✖\u001b[39m Problematic arguments:\n",
            "\u001b[36m•\u001b[39m fill = \"green\"\n",
            "\u001b[36m•\u001b[39m color = \"green\"\n",
            "\u001b[36mℹ\u001b[39m Did you misspell an argument name?”\n"
          ]
        },
        {
          "output_type": "display_data",
          "data": {
            "text/plain": [
              "plot without title"
            ],
            "image/png": "[encoded data removed]"
          },
          "metadata": {
            "image/png": {
              "width": 420,
              "height": 420
            }
          }
        }
      ]
    },
    {
      "cell_type": "code",
      "source": [
        "# imprimo en un .pdf  que va a la carpeta del experimento\n",
        "pdf(\"densidad_dos.pdf\")\n",
        "print(grafico)\n",
        "dev.off()"
      ],
      "metadata": {
        "id": "TA9lLa6-dsE6",
        "outputId": "126357f9-66a7-4b7f-838b-b26e25e1c14f",
        "colab": {
          "base_uri": "https://localhost:8080/",
          "height": 34
        }
      },
      "execution_count": 29,
      "outputs": [
        {
          "output_type": "display_data",
          "data": {
            "text/html": [
              "<strong>agg_record_1704942648:</strong> 2"
            ],
            "text/markdown": "**agg_record_1704942648:** 2",
            "text/latex": "\\textbf{agg\\textbackslash{}\\_record\\textbackslash{}\\_1704942648:} 2",
            "text/plain": [
              "agg_record_1704942648 \n",
              "                    2 "
            ]
          },
          "metadata": {}
        }
      ]
    },
    {
      "cell_type": "code",
      "source": [
        "# medias de las ganancias\n",
        "print( tb_salida[ , list( \"arbol1\" = mean( ganancia1),  \"arbol2\" = mean(ganancia2) ) ] )\n"
      ],
      "metadata": {
        "id": "xAOpyZTqdsE7",
        "outputId": "04e39596-474e-4b9c-d004-33a3192d3eed",
        "colab": {
          "base_uri": "https://localhost:8080/"
        }
      },
      "execution_count": 30,
      "outputs": [
        {
          "output_type": "stream",
          "name": "stdout",
          "text": [
            "     arbol1   arbol2\n",
            "      <num>    <num>\n",
            "1: 48692000 48562600\n"
          ]
        }
      ]
    },
    {
      "cell_type": "code",
      "source": [
        "# probabilidad que m1 sea mayor a m2\n",
        "print( tb_salida[ , list( \"prob( m1 > m2)\" = sum(ganancia1 > ganancia2 )/ .N ) ]  )"
      ],
      "metadata": {
        "id": "8rdPIcfzgob7",
        "outputId": "6848a0e9-8d35-4356-dc99-8d96f217d750",
        "colab": {
          "base_uri": "https://localhost:8080/"
        }
      },
      "execution_count": 31,
      "outputs": [
        {
          "output_type": "stream",
          "name": "stdout",
          "text": [
            "   prob( m1 > m2)\n",
            "            <num>\n",
            "1:            0.5\n"
          ]
        }
      ]
    },
    {
      "cell_type": "markdown",
      "source": [
        "### Acciones a realizar\n",
        "* Reportar la  los resultados en la planilla colaborativa hoja  **C2-dosBuenos**\n"
      ],
      "metadata": {
        "id": "nNNJWYRadsE7"
      }
    },
    {
      "cell_type": "markdown",
      "source": [
        "\n",
        "\n",
        "---\n",
        "\n"
      ],
      "metadata": {
        "id": "LTBEq6SEdsE8"
      }
    },
    {
      "cell_type": "markdown",
      "source": [],
      "metadata": {
        "id": "ebcTZX7Sg1Le"
      }
    },
    {
      "cell_type": "markdown",
      "source": [
        "# 8 Test de Wilcoxon\n",
        "## Clase 02  Experimento 8"
      ],
      "metadata": {
        "id": "RAtn4x6Bg1u1"
      }
    },
    {
      "cell_type": "markdown",
      "source": [],
      "metadata": {
        "id": "RWxjnSsVg_ol"
      }
    },
    {
      "cell_type": "markdown",
      "source": [
        "## 8.1  Objetivos\n",
        "\n",
        "¿Como calcular la cantidad mínima de semillas que hacen falta para tener cierta certeza que un modelo es superior a otro?"
      ],
      "metadata": {
        "id": "Gf0LF3ywhAEU"
      }
    },
    {
      "cell_type": "markdown",
      "source": [
        "## 8.2  Introduccion\n",
        "\n",
        "| Hiperparámetro | Arbol 1 | Arbol 2 |\n",
        "| --- | --: |  ---: |\n",
        "| cp | -1 | -1 |\n",
        "|minsplit | 170 | 250 |\n",
        "|minbucket | 70 | 125 |\n",
        "|maxdepth | 7 | 20 |\n",
        "\n",
        "<br>\n",
        "<br>\n",
        "\n",
        "\n",
        "| ordinal | semilla | ganancia1 | ganancia2 | p-value |\n",
        "| --- | --- |  --- |  --- |  --- |\n",
        "| 1 |378821 | 41,470,000 | 37,790,000 | 1.000 |\n",
        "| 2 | 964333  | 48,480,000  | 43,660,000 | 0.500 |\n",
        "| 3 | 187049 | 50,610,000 | 47,840,000 | 0.250 |\n",
        "| 4 | 205151 | 45,580,000 | 44,490,000 | 0.125 |\n",
        "| 5 | 813697 | 52,780,000 | 46,750,000 |  0.063 |\n",
        "| 6 | 344719 | 49,970,000 | 44,300,000 | 0.031 |\n",
        "|7 |127217  |52,810,000 | 42,840,000 |0.016 |\n",
        "| 8 | 464371 | 43,060,000 | 37,300,000 | 0.008 |\n",
        "| 9 | 645137 | 49,660,000 |43,730,000 | 0.004|\n",
        "\n",
        "\n"
      ],
      "metadata": {
        "id": "k4PJGTDViZne"
      }
    },
    {
      "cell_type": "markdown",
      "source": [
        "## 8.3 Codigo Test de Wilcoxon"
      ],
      "metadata": {
        "id": "gAeSRdWRhg61"
      }
    },
    {
      "cell_type": "code",
      "source": [
        "# 1 sola ganancia\n",
        "wilcox.test(\n",
        "  c(41470000),\n",
        "  c(37790000),\n",
        "  paired = TRUE\n",
        ")\n"
      ],
      "metadata": {
        "id": "6r5M0J0HdsE8",
        "outputId": "7d02c602-381b-4a99-f79e-9f5fa2375660",
        "colab": {
          "base_uri": "https://localhost:8080/",
          "height": 121
        }
      },
      "execution_count": 32,
      "outputs": [
        {
          "output_type": "display_data",
          "data": {
            "text/plain": [
              "\n",
              "\tWilcoxon signed rank exact test\n",
              "\n",
              "data:  c(41470000) and c(37790000)\n",
              "V = 1, p-value = 1\n",
              "alternative hypothesis: true location shift is not equal to 0\n"
            ]
          },
          "metadata": {}
        }
      ]
    },
    {
      "cell_type": "code",
      "source": [
        "# 2 ganancias\n",
        "wilcox.test(\n",
        "  c(41470000, 48480000),\n",
        "  c(37790000, 43660000),\n",
        "  paired = TRUE\n",
        ")\n"
      ],
      "metadata": {
        "id": "1pscqL9vLzYE",
        "outputId": "d91b073e-a44d-4b55-85ef-3fff30770d02",
        "colab": {
          "base_uri": "https://localhost:8080/",
          "height": 121
        }
      },
      "execution_count": 33,
      "outputs": [
        {
          "output_type": "display_data",
          "data": {
            "text/plain": [
              "\n",
              "\tWilcoxon signed rank exact test\n",
              "\n",
              "data:  c(41470000, 48480000) and c(37790000, 43660000)\n",
              "V = 3, p-value = 0.5\n",
              "alternative hypothesis: true location shift is not equal to 0\n"
            ]
          },
          "metadata": {}
        }
      ]
    },
    {
      "cell_type": "code",
      "source": [
        "# 3 ganancias\n",
        "wilcox.test(\n",
        "  c(41470000, 48480000, 50610000),\n",
        "  c(37790000, 43660000, 47840000),\n",
        "  paired = TRUE\n",
        ")"
      ],
      "metadata": {
        "id": "p3f_mtKwhSHA",
        "outputId": "6d293b29-e874-4008-c001-a3ed1bfe17ee",
        "colab": {
          "base_uri": "https://localhost:8080/",
          "height": 121
        }
      },
      "execution_count": 34,
      "outputs": [
        {
          "output_type": "display_data",
          "data": {
            "text/plain": [
              "\n",
              "\tWilcoxon signed rank exact test\n",
              "\n",
              "data:  c(41470000, 48480000, 50610000) and c(37790000, 43660000, 47840000)\n",
              "V = 6, p-value = 0.25\n",
              "alternative hypothesis: true location shift is not equal to 0\n"
            ]
          },
          "metadata": {}
        }
      ]
    },
    {
      "cell_type": "code",
      "source": [
        "# 4 ganancias\n",
        "wilcox.test(\n",
        "  c(41470000, 48480000, 50610000, 45580000),\n",
        "  c(37790000, 43660000, 47840000, 44490000),\n",
        "  paired = TRUE\n",
        ")\n"
      ],
      "metadata": {
        "id": "-ijX69r9hT6Z",
        "outputId": "d261bd01-32d0-4de9-f15e-dd2138492160",
        "colab": {
          "base_uri": "https://localhost:8080/",
          "height": 121
        }
      },
      "execution_count": 35,
      "outputs": [
        {
          "output_type": "display_data",
          "data": {
            "text/plain": [
              "\n",
              "\tWilcoxon signed rank exact test\n",
              "\n",
              "data:  c(41470000, 48480000, 50610000, 45580000) and c(37790000, 43660000, 47840000, 44490000)\n",
              "V = 10, p-value = 0.125\n",
              "alternative hypothesis: true location shift is not equal to 0\n"
            ]
          },
          "metadata": {}
        }
      ]
    },
    {
      "cell_type": "code",
      "source": [
        "# 5 ganancias\n",
        "wilcox.test(\n",
        "  c(41470000, 48480000, 50610000, 45580000, 52780000),\n",
        "  c(37790000, 43660000, 47840000, 44490000, 46750000),\n",
        "  paired = TRUE\n",
        ")"
      ],
      "metadata": {
        "id": "X9J_CHGehVfr",
        "outputId": "837c2463-1241-435f-ec53-07d034dfba1b",
        "colab": {
          "base_uri": "https://localhost:8080/",
          "height": 121
        }
      },
      "execution_count": 36,
      "outputs": [
        {
          "output_type": "display_data",
          "data": {
            "text/plain": [
              "\n",
              "\tWilcoxon signed rank exact test\n",
              "\n",
              "data:  c(41470000, 48480000, 50610000, 45580000, 52780000) and c(37790000, 43660000, 47840000, 44490000, 46750000)\n",
              "V = 15, p-value = 0.0625\n",
              "alternative hypothesis: true location shift is not equal to 0\n"
            ]
          },
          "metadata": {}
        }
      ]
    },
    {
      "cell_type": "code",
      "source": [
        "# 6 ganancias\n",
        "wilcox.test(\n",
        "  c(41470000, 48480000, 50610000, 45580000, 52780000, 49970000),\n",
        "  c(37790000, 43660000, 47840000, 44490000, 46750000, 44300000),\n",
        "  paired = TRUE\n",
        ")"
      ],
      "metadata": {
        "id": "H3CNNonOhXp0",
        "outputId": "b9b5f8fc-a0ac-4923-f151-2cad4d993d02",
        "colab": {
          "base_uri": "https://localhost:8080/",
          "height": 121
        }
      },
      "execution_count": 37,
      "outputs": [
        {
          "output_type": "display_data",
          "data": {
            "text/plain": [
              "\n",
              "\tWilcoxon signed rank exact test\n",
              "\n",
              "data:  c(41470000, 48480000, 50610000, 45580000, 52780000, 49970000) and c(37790000, 43660000, 47840000, 44490000, 46750000, 44300000)\n",
              "V = 21, p-value = 0.03125\n",
              "alternative hypothesis: true location shift is not equal to 0\n"
            ]
          },
          "metadata": {}
        }
      ]
    },
    {
      "cell_type": "code",
      "source": [
        "# Finalmente el p-value es  0.03125  < 0.05\n",
        "# hicieron falta  SEIS semillas, seis ganancias, para\n",
        "#   afirmar que el modelo 1 es superior al modelo 2\n",
        "\n",
        "# 7 ganancias\n",
        "wilcox.test(\n",
        "  c(41470000, 48480000, 50610000, 45580000, 52780000, 49970000, 52810000),\n",
        "  c(37790000, 43660000, 47840000, 44490000, 46750000, 44300000, 42840000),\n",
        "  paired = TRUE\n",
        ")\n"
      ],
      "metadata": {
        "id": "NTW8kwY8hamz",
        "outputId": "387e6c92-8705-4cfa-9c81-e5d4466fec63",
        "colab": {
          "base_uri": "https://localhost:8080/",
          "height": 121
        }
      },
      "execution_count": 38,
      "outputs": [
        {
          "output_type": "display_data",
          "data": {
            "text/plain": [
              "\n",
              "\tWilcoxon signed rank exact test\n",
              "\n",
              "data:  c(41470000, 48480000, 50610000, 45580000, 52780000, 49970000, 52810000) and c(37790000, 43660000, 47840000, 44490000, 46750000, 44300000, 42840000)\n",
              "V = 28, p-value = 0.01563\n",
              "alternative hypothesis: true location shift is not equal to 0\n"
            ]
          },
          "metadata": {}
        }
      ]
    },
    {
      "cell_type": "code",
      "source": [
        "# 8 ganancias\n",
        "wilcox.test(\n",
        "  c(41470000, 48480000, 50610000, 45580000, 52780000, 49970000, 52810000, 43060000),\n",
        "  c(37790000, 43660000, 47840000, 44490000, 46750000, 44300000, 42840000, 37300000),\n",
        "  paired = TRUE\n",
        ")\n"
      ],
      "metadata": {
        "id": "Xks918w8hcgC",
        "outputId": "a751424c-cd12-4943-ba8e-d600eab26868",
        "colab": {
          "base_uri": "https://localhost:8080/",
          "height": 121
        }
      },
      "execution_count": 39,
      "outputs": [
        {
          "output_type": "display_data",
          "data": {
            "text/plain": [
              "\n",
              "\tWilcoxon signed rank exact test\n",
              "\n",
              "data:  c(41470000, 48480000, 50610000, 45580000, 52780000, 49970000, 52810000, 43060000) and c(37790000, 43660000, 47840000, 44490000, 46750000, 44300000, 42840000, 37300000)\n",
              "V = 36, p-value = 0.007813\n",
              "alternative hypothesis: true location shift is not equal to 0\n"
            ]
          },
          "metadata": {}
        }
      ]
    },
    {
      "cell_type": "code",
      "source": [
        "# 9 ganancias\n",
        "wilcox.test(\n",
        "  c(41470000, 48480000, 50610000, 45580000, 52780000, 49970000, 52810000, 43060000, 49660000),\n",
        "  c(37790000, 43660000, 47840000, 44490000, 46750000, 44300000, 42840000, 37300000, 43730000),\n",
        "  paired = TRUE\n",
        ")"
      ],
      "metadata": {
        "id": "5x8L1PMGhdJR",
        "outputId": "383e8f54-81bf-4a95-a3e3-b0cfcc8f47d8",
        "colab": {
          "base_uri": "https://localhost:8080/",
          "height": 121
        }
      },
      "execution_count": 40,
      "outputs": [
        {
          "output_type": "display_data",
          "data": {
            "text/plain": [
              "\n",
              "\tWilcoxon signed rank exact test\n",
              "\n",
              "data:  c(41470000, 48480000, 50610000, 45580000, 52780000, 49970000, 52810000, 43060000, 49660000) and c(37790000, 43660000, 47840000, 44490000, 46750000, 44300000, 42840000, 37300000, 43730000)\n",
              "V = 45, p-value = 0.003906\n",
              "alternative hypothesis: true location shift is not equal to 0\n"
            ]
          },
          "metadata": {}
        }
      ]
    },
    {
      "cell_type": "markdown",
      "source": [
        "\n",
        "\n",
        "---\n",
        "\n"
      ],
      "metadata": {
        "id": "Qjay2WBIkhNm"
      }
    },
    {
      "cell_type": "markdown",
      "source": [
        "# 9 Comparando automaticamente modelos con test de Wilcoxon\n",
        "## Clase 02  Experimento 9"
      ],
      "metadata": {
        "id": "g2aqxlCIk3fk"
      }
    },
    {
      "cell_type": "markdown",
      "source": [],
      "metadata": {
        "id": "FhCY4sH8k3fw"
      }
    },
    {
      "cell_type": "markdown",
      "source": [
        "## 9.1  Objetivos\n",
        "\n",
        "Proveer un script que permita comparar dos arboles de decisión con la librería rpart utilizando la menor cantidad de cómputo que permita el Test de Wilxcoxon"
      ],
      "metadata": {
        "id": "a_ZVBKBHk3fx"
      }
    },
    {
      "cell_type": "markdown",
      "source": [
        "## 9.2  Introduccion\n",
        "\n",
        "| Hiperparámetro | Arbol 1 | Arbol 2 |\n",
        "| --- | --- |  --- |\n",
        "| cp | -1 | -1 |\n",
        "|minsplit | 1050 | 650 |\n",
        "|minbucket | 550 | 300 |\n",
        "|maxdepth |67 | 6 |\n",
        "\n",
        "\n"
      ],
      "metadata": {
        "id": "qCd56L0Ik3fx"
      }
    },
    {
      "cell_type": "markdown",
      "source": [
        "## 9.3 Codigo comparacion automatica Wilcoxon"
      ],
      "metadata": {
        "id": "NBtQsG3vk3fx"
      }
    },
    {
      "cell_type": "markdown",
      "source": [
        "Esta parte se debe correr con el runtime en lenguaje **R** Ir al menu, Runtime -> Change Runtime Tipe -> Runtime type -> R"
      ],
      "metadata": {
        "id": "-ARzDPORlpG6"
      }
    },
    {
      "cell_type": "markdown",
      "source": [
        "limpio el ambiente de R"
      ],
      "metadata": {
        "id": "-Sy-sLMXlpHI"
      }
    },
    {
      "cell_type": "code",
      "source": [
        "# limpio la memoria\n",
        "rm(list=ls(all.names=TRUE)) # remove all objects\n",
        "gc(full=TRUE, verbose=FALSE) # garbage collection"
      ],
      "metadata": {
        "id": "ZpST7lcHlpHI",
        "outputId": "12b482df-fecd-4730-8c76-637886a848b6",
        "colab": {
          "base_uri": "https://localhost:8080/",
          "height": 130
        }
      },
      "execution_count": 41,
      "outputs": [
        {
          "output_type": "display_data",
          "data": {
            "text/html": [
              "<table class=\"dataframe\">\n",
              "<caption>A matrix: 2 × 6 of type dbl</caption>\n",
              "<thead>\n",
              "\t<tr><th></th><th scope=col>used</th><th scope=col>(Mb)</th><th scope=col>gc trigger</th><th scope=col>(Mb)</th><th scope=col>max used</th><th scope=col>(Mb)</th></tr>\n",
              "</thead>\n",
              "<tbody>\n",
              "\t<tr><th scope=row>Ncells</th><td>1425148</td><td>76.2</td><td> 2331341</td><td>124.6</td><td> 2331341</td><td>124.6</td></tr>\n",
              "\t<tr><th scope=row>Vcells</th><td>2577964</td><td>19.7</td><td>58774409</td><td>448.5</td><td>72178500</td><td>550.7</td></tr>\n",
              "</tbody>\n",
              "</table>\n"
            ],
            "text/markdown": "\nA matrix: 2 × 6 of type dbl\n\n| <!--/--> | used | (Mb) | gc trigger | (Mb) | max used | (Mb) |\n|---|---|---|---|---|---|---|\n| Ncells | 1425148 | 76.2 |  2331341 | 124.6 |  2331341 | 124.6 |\n| Vcells | 2577964 | 19.7 | 58774409 | 448.5 | 72178500 | 550.7 |\n\n",
            "text/latex": "A matrix: 2 × 6 of type dbl\n\\begin{tabular}{r|llllll}\n  & used & (Mb) & gc trigger & (Mb) & max used & (Mb)\\\\\n\\hline\n\tNcells & 1425148 & 76.2 &  2331341 & 124.6 &  2331341 & 124.6\\\\\n\tVcells & 2577964 & 19.7 & 58774409 & 448.5 & 72178500 & 550.7\\\\\n\\end{tabular}\n",
            "text/plain": [
              "       used    (Mb) gc trigger (Mb)  max used (Mb) \n",
              "Ncells 1425148 76.2  2331341   124.6  2331341 124.6\n",
              "Vcells 2577964 19.7 58774409   448.5 72178500 550.7"
            ]
          },
          "metadata": {}
        }
      ]
    },
    {
      "cell_type": "markdown",
      "source": [
        "* Instalacion de la libreria  rpart.plot  para dibujar el arbol\n",
        "* invocacion de las librerias  **data.table** y  **rpart**"
      ],
      "metadata": {
        "id": "jHhAx3cvlpHJ"
      }
    },
    {
      "cell_type": "code",
      "source": [
        "# cargo las librerias que necesito\n",
        "require(\"data.table\")\n",
        "require(\"rpart\")\n",
        "require(\"parallel\")\n",
        "\n",
        "if (!require(\"primes\")) install.packages(\"primes\")\n",
        "require(\"primes\")\n",
        "\n",
        "require(\"ggplot2\")"
      ],
      "metadata": {
        "id": "cbPnXeeqlpHJ"
      },
      "execution_count": 42,
      "outputs": []
    },
    {
      "cell_type": "markdown",
      "source": [
        "###  Accion a Realizar\n",
        "PARAM$semilla_primigenia  debe reemplazarse por SU primer semilla"
      ],
      "metadata": {
        "id": "_GQk_NEUlpHK"
      }
    },
    {
      "cell_type": "code",
      "source": [
        "PARAM <- list()\n",
        "PARAM$semilla_primigenia <- 102191\n",
        "PARAM$qsemillas_tope <- 50\n",
        "PARAM$training_pct <- 70L     # entre 1 y 100\n"
      ],
      "metadata": {
        "id": "Do801PIHlpHK"
      },
      "execution_count": 43,
      "outputs": []
    },
    {
      "cell_type": "code",
      "source": [
        "# los dos arboles\n",
        "PARAM$rpart1 <- list (\n",
        "  \"cp\" = -1,\n",
        "  \"minsplit\" = 800,\n",
        "  \"minbucket\" = 400,\n",
        "  \"maxdepth\" = 7\n",
        ")\n",
        "\n",
        "\n",
        "PARAM$rpart2 <- list (\n",
        "  \"cp\" = -1,\n",
        "  \"minsplit\" = 650,\n",
        "  \"minbucket\" = 300,\n",
        "  \"maxdepth\" = 6\n",
        ")\n"
      ],
      "metadata": {
        "id": "KlC7gTc7lpHK"
      },
      "execution_count": 44,
      "outputs": []
    },
    {
      "cell_type": "code",
      "source": [
        "# particionar agrega una columna llamada fold a un dataset\n",
        "#  que consiste en una particion estratificada segun agrupa\n",
        "\n",
        "# particionar( data=dataset, division=c(70,30),\n",
        "#  agrupa=clase_ternaria, seed=semilla)   crea una particion 70, 30\n",
        "\n",
        "particionar <- function(\n",
        "    data, division, agrupa = \"\",\n",
        "    campo = \"fold\", start = 1, seed = NA) {\n",
        "  if (!is.na(seed)) set.seed(seed)\n",
        "\n",
        "  bloque <- unlist(mapply(function(x, y) {\n",
        "    rep(y, x)\n",
        "  }, division, seq(from = start, length.out = length(division))))\n",
        "\n",
        "  data[, (campo) := sample(rep(bloque, ceiling(.N / length(bloque))))[1:.N],\n",
        "    by = agrupa\n",
        "  ]\n",
        "}\n"
      ],
      "metadata": {
        "id": "I7hOkZrxlpHL"
      },
      "execution_count": 45,
      "outputs": []
    },
    {
      "cell_type": "code",
      "source": [
        "DosArbolesEstimarGanancia <- function(semilla, training_pct, param_rpart1, param_rpart2) {\n",
        "  # particiono estratificadamente el dataset\n",
        "  particionar(dataset,\n",
        "    division = c(training_pct, 100L -training_pct),\n",
        "    agrupa = \"clase_ternaria\",\n",
        "    seed = semilla # aqui se usa SU semilla\n",
        "  )\n",
        "\n",
        "  # genero el modelo\n",
        "  # predecir clase_ternaria a partir del resto\n",
        "  modelo1 <- rpart(\"clase_ternaria ~ .\",\n",
        "    data = dataset[fold == 1], # fold==1  es training,  el 70% de los datos\n",
        "    xval = 0,\n",
        "    control = param_rpart1\n",
        "  ) # aqui van los parametros del arbol\n",
        "\n",
        "  # aplico el modelo a los datos de testing\n",
        "  prediccion1 <- predict(modelo1, # el modelo que genere recien\n",
        "    dataset[fold == 2], # fold==2  es testing, el 30% de los datos\n",
        "    type = \"prob\"\n",
        "  ) # type= \"prob\"  es que devuelva la probabilidad\n",
        "\n",
        "\n",
        "  # calculo la ganancia en testing  qu es fold==2\n",
        "  ganancia_test1 <- dataset[\n",
        "    fold == 2,\n",
        "    sum(ifelse(prediccion1[, \"BAJA+2\"] > 0.025,\n",
        "      ifelse(clase_ternaria == \"BAJA+2\", 117000, -3000),\n",
        "      0\n",
        "    ))\n",
        "  ]\n",
        "\n",
        "  # escalo la ganancia como si fuera todo el dataset\n",
        "  ganancia_test_normalizada1 <- ganancia_test1 / (( 100 - training_pct ) / 100 )\n",
        "\n",
        "  modelo2 <- rpart(\"clase_ternaria ~ .\",\n",
        "    data = dataset[fold == 1], # fold==1  es training,  el 70% de los datos\n",
        "    xval = 0,\n",
        "    control = param_rpart2\n",
        "  ) # aqui van los parametros del arbol\n",
        "\n",
        "  # aplico el modelo a los datos de testing\n",
        "  prediccion2 <- predict(modelo2, # el modelo que genere recien\n",
        "    dataset[fold == 2], # fold==2  es testing, el 30% de los datos\n",
        "    type = \"prob\"\n",
        "  ) # type= \"prob\"  es que devuelva la probabilidad\n",
        "\n",
        "\n",
        "  # calculo la ganancia en testing  qu es fold==2\n",
        "  ganancia_test2 <- dataset[\n",
        "    fold == 2,\n",
        "    sum(ifelse(prediccion2[, \"BAJA+2\"] > 0.025,\n",
        "      ifelse(clase_ternaria == \"BAJA+2\", 117000, -3000),\n",
        "      0\n",
        "    ))\n",
        "  ]\n",
        "\n",
        "  # escalo la ganancia como si fuera todo el dataset\n",
        "  ganancia_test_normalizada2 <- ganancia_test2 / (( 100 - training_pct ) / 100 )\n",
        "\n",
        "  return(list(\n",
        "    \"semilla\" = semilla,\n",
        "    \"ganancia1\" = ganancia_test_normalizada1,\n",
        "    \"ganancia2\" = ganancia_test_normalizada2\n",
        "  ))\n",
        "}"
      ],
      "metadata": {
        "id": "vFpBSFBYlpHL"
      },
      "execution_count": 46,
      "outputs": []
    },
    {
      "cell_type": "code",
      "source": [
        "# 1  ->  el modelo 1 es mejor\n",
        "# 2  ->  el modelo 2 es mejor\n",
        "# 0  ->  No se pudo determinar con el tope de qsemillas_tope\n",
        "\n",
        "\n",
        "MejorArbol <- function( qsemillas_tope, training_pct, param_rpart1, param_rpart2) {\n",
        "\n",
        "  # genero numeros primos\n",
        "  primos <- generate_primes(min = 100000, max = 1000000)\n",
        "  set.seed(PARAM$semilla_primigenia) # inicializo\n",
        "  # me quedo con PARAM$qsemillas   semillas\n",
        "  semillas <- sample(primos, qsemillas_tope )\n",
        "\n",
        "  pvalue <- 1.0\n",
        "  isem <- 1\n",
        "  vgan1 <- c() # almaceno ganancias del modelo1\n",
        "  vgan2 <- c() # almaceno ganancias del modelo2\n",
        "\n",
        "  while( (isem <= qsemillas_tope)  & (pvalue > 0.05) ) {\n",
        "\n",
        "    res <- DosArbolesEstimarGanancia(\n",
        "       semillas[ isem ],\n",
        "       training_pct,\n",
        "       param_rpart1,\n",
        "       param_rpart2\n",
        "    )\n",
        "\n",
        "    vgan1 <- c( vgan1, res$ganancia1 )\n",
        "    vgan2 <- c( vgan2, res$ganancia2 )\n",
        "\n",
        "    wt <- wilcox.test( vgan1, vgan2, paired=TRUE )\n",
        "    pvalue <- wt$p.value\n",
        "\n",
        "    cat( isem, res$ganancia1, res$ganancia2, pvalue, \"\\n\" )\n",
        "    flush.console()\n",
        "    isem <- isem + 1\n",
        "  }\n",
        "\n",
        "  out <- 0\n",
        "\n",
        "  if( pvalue < 0.05 & mean(vgan1) > mean(vgan2)  )  out <- 1\n",
        "  if( pvalue < 0.05 & mean(vgan1) < mean(vgan2)  )  out <- 2\n",
        "\n",
        "\n",
        "  return( list( \"out\" = out,\n",
        "    \"qsemillas\" = length(vgan1),\n",
        "    \"m1\" = mean( vgan1 ),\n",
        "    \"m2\" = mean( vgan2 )\n",
        "   ) )\n",
        "}\n"
      ],
      "metadata": {
        "id": "Cp8RnA_NmE8g"
      },
      "execution_count": 47,
      "outputs": []
    },
    {
      "cell_type": "code",
      "source": [
        "# carpeta de trabajo\n",
        "setwd(\"/content/buckets/b1/exp\")\n",
        "experimento <- \"exp209\"\n",
        "dir.create(experimento, showWarnings=FALSE)\n",
        "setwd( paste0(\"/content/buckets/b1/exp/\", experimento ))"
      ],
      "metadata": {
        "id": "r1motpfOlpHM"
      },
      "execution_count": 48,
      "outputs": []
    },
    {
      "cell_type": "code",
      "source": [
        "# lectura del dataset\n",
        "dataset <- fread(\"/content/datasets/dataset_pequeno.csv\")\n",
        "\n",
        "# trabajo solo con los datos con clase, es decir 202107\n",
        "dataset <- dataset[clase_ternaria != \"\"]"
      ],
      "metadata": {
        "id": "hT0LaKWumTSu"
      },
      "execution_count": 49,
      "outputs": []
    },
    {
      "cell_type": "code",
      "source": [
        "Sys.time()\n",
        "\n",
        "comparacion <- MejorArbol(\n",
        "   PARAM$qsemillas_tope,\n",
        "   PARAM$training_pct,\n",
        "   PARAM$rpart1,\n",
        "   PARAM$rpart2\n",
        " )\n",
        "\n",
        "\n",
        "print( comparacion )\n",
        "\n",
        "Sys.time()"
      ],
      "metadata": {
        "id": "wsk0F77ambVW",
        "outputId": "9c9b866b-34ee-4811-a792-c694be24be6f",
        "colab": {
          "base_uri": "https://localhost:8080/",
          "height": 625
        }
      },
      "execution_count": 50,
      "outputs": [
        {
          "output_type": "display_data",
          "data": {
            "text/plain": [
              "[1] \"2025-10-14 04:43:21 UTC\""
            ]
          },
          "metadata": {}
        },
        {
          "output_type": "stream",
          "name": "stdout",
          "text": [
            "1 44720000 48190000 1 \n",
            "2 50150000 50890000 0.5 \n",
            "3 55180000 55600000 0.25 \n",
            "4 49220000 48440000 0.625 \n",
            "5 51810000 52470000 0.4375 \n",
            "6 56900000 54570000 0.84375 \n",
            "7 51260000 51110000 0.8125 \n",
            "8 40060000 47560000 0.4609375 \n",
            "9 49260000 49190000 0.4960938 \n",
            "10 56190000 54920000 0.7695312 \n",
            "11 50150000 49780000 0.8310547 \n",
            "12 48200000 51550000 0.5185547 \n",
            "13 53570000 55830000 0.3395996 \n",
            "14 50990000 50490000 0.4262695 \n",
            "15 47110000 48920000 0.2768555 \n",
            "16 47640000 51060000 0.1590576 \n",
            "17 47310000 47180000 0.190094 \n",
            "18 50260000 56290000 0.1083832 \n",
            "19 52870000 53140000 0.09551239 \n",
            "20 44850000 47830000 0.05316925 \n",
            "21 49060000 50230000 0.03505611 \n",
            "$out\n",
            "[1] 2\n",
            "\n",
            "$qsemillas\n",
            "[1] 21\n",
            "\n",
            "$m1\n",
            "[1] 49845714\n",
            "\n",
            "$m2\n",
            "[1] 51201905\n",
            "\n"
          ]
        },
        {
          "output_type": "display_data",
          "data": {
            "text/plain": [
              "[1] \"2025-10-14 05:30:22 UTC\""
            ]
          },
          "metadata": {}
        }
      ]
    },
    {
      "cell_type": "markdown",
      "source": [
        "### Acciones a realizar\n",
        "* Reportar la  los resultados en la planilla colaborativa hoja  **C2-Wilcox**\n"
      ],
      "metadata": {
        "id": "d2br1bgJlpHQ"
      }
    },
    {
      "cell_type": "markdown",
      "source": [
        "\n",
        "\n",
        "---\n",
        "\n"
      ],
      "metadata": {
        "id": "x7SebtV2lpHQ"
      }
    }
  ]
}